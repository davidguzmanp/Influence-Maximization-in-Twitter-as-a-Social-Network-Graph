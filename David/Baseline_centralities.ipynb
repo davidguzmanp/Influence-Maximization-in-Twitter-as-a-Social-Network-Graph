{
 "cells": [
  {
   "cell_type": "code",
   "execution_count": 1,
   "metadata": {},
   "outputs": [],
   "source": [
    "import networkx as nx\n",
    "from diffusion_models import Weighted_Cascade, Trivalency_Model, Independent_Cascade\n",
    "from influence_max_algorithms import MIA\n",
    "import matplotlib.pyplot as plt\n",
    "import numpy as np\n",
    "import tqdm as tqdm\n",
    "import time as time\n"
   ]
  },
  {
   "cell_type": "code",
   "execution_count": 2,
   "metadata": {},
   "outputs": [],
   "source": [
    "pb2020 = nx.read_gml('/Users/davidguzman/Documents/GitHub/Network-Science-final-Maximization-/Proud_Boys_Datsets/PB2020.gml')"
   ]
  },
  {
   "cell_type": "code",
   "execution_count": 3,
   "metadata": {},
   "outputs": [],
   "source": [
    "#invert edge direction for PB2020\n",
    "pb2020 = pb2020.reverse()"
   ]
  },
  {
   "attachments": {},
   "cell_type": "markdown",
   "metadata": {},
   "source": [
    "## K-core centralities"
   ]
  },
  {
   "cell_type": "code",
   "execution_count": 33,
   "metadata": {},
   "outputs": [],
   "source": [
    "k_core_centralities = nx.core_number(pb2020)\n",
    "# set it as an attribute\n",
    "nx.set_node_attributes(pb2020, k_core_centralities, 'k_core_centralities')"
   ]
  },
  {
   "cell_type": "code",
   "execution_count": 23,
   "metadata": {},
   "outputs": [],
   "source": [
    "# sort centralities\n",
    "k_core_centralities_sorted = sorted(k_core_centralities.items(), key=lambda x: x[1], reverse=True)"
   ]
  },
  {
   "attachments": {},
   "cell_type": "markdown",
   "metadata": {},
   "source": [
    "# non-backtracking centrality"
   ]
  },
  {
   "cell_type": "code",
   "execution_count": 40,
   "metadata": {},
   "outputs": [],
   "source": [
    "from nbc import non_backtracking_centrality"
   ]
  },
  {
   "cell_type": "code",
   "execution_count": 42,
   "metadata": {},
   "outputs": [],
   "source": [
    "pb2020_int = nx.convert_node_labels_to_integers(pb2020)"
   ]
  },
  {
   "cell_type": "code",
   "execution_count": 66,
   "metadata": {},
   "outputs": [],
   "source": [
    "#get the node labels in a list\n",
    "node_labels = list(pb2020.nodes())"
   ]
  },
  {
   "cell_type": "code",
   "execution_count": 67,
   "metadata": {},
   "outputs": [],
   "source": [
    "# calcualate the non-backtrack centrality\n",
    "non_backtrack_centralities = non_backtracking_centrality(pb2020_int)"
   ]
  },
  {
   "cell_type": "code",
   "execution_count": 68,
   "metadata": {},
   "outputs": [],
   "source": [
    "# use node labels to create a dictionary\n",
    "non_backtrack_centralities_dict = dict(zip(node_labels, non_backtrack_centralities))"
   ]
  },
  {
   "cell_type": "code",
   "execution_count": 70,
   "metadata": {},
   "outputs": [],
   "source": [
    "# add non-backtrack centrality as an attribute, the first element of the list goes with the first node, etc.\n",
    "nx.set_node_attributes(pb2020, non_backtrack_centralities_dict, 'non_backtrack_centralities')\n"
   ]
  },
  {
   "cell_type": "code",
   "execution_count": 71,
   "metadata": {},
   "outputs": [
    {
     "data": {
      "text/plain": [
       "{'faves': 1,\n",
       " 'followers': 12,\n",
       " 'friends': 9,\n",
       " 'listed': 1,\n",
       " 'statuses': 5,\n",
       " 'cdate': 'Mon Jun 05 20:04:19 +0000 2017',\n",
       " 'symmetry': 998,\n",
       " 'asymmetry': 1,\n",
       " 'tsymmetry': 995,\n",
       " 'tasymmetry': 5,\n",
       " 'allsym': 993673,\n",
       " 'days': 1213,\n",
       " 'trate': 0,\n",
       " 'frate': 0,\n",
       " 'tfrate': 0,\n",
       " 'seed': 5451,\n",
       " 'core': 1,\n",
       " 'color': 'green',\n",
       " 'k_core_centralities': 4,\n",
       " 'non_backtrack_centralities': 0.0027243119445847282}"
      ]
     },
     "execution_count": 71,
     "metadata": {},
     "output_type": "execute_result"
    }
   ],
   "source": [
    "pb2020.nodes['ColoradoPOYB']"
   ]
  },
  {
   "cell_type": "code",
   "execution_count": 75,
   "metadata": {},
   "outputs": [
    {
     "data": {
      "text/plain": [
       "[('Premises187', 0.3178476412084301),\n",
       " ('principe_giovan', 0.10539135548376868),\n",
       " ('SnarkieVlogs', 0.02520947219021082),\n",
       " ('Minximusmaximus', 0.025209472190210816),\n",
       " ('FeedTheOcelot', 0.025209472190210816),\n",
       " ('bikerheadz', 0.025209472190210816),\n",
       " ('RightInTheDesu', 0.025209472190210816),\n",
       " ('Ace_blue_', 0.025209472190210816),\n",
       " ('DriftInnovation', 0.025209472190210816),\n",
       " ('FreeMotorLegal', 0.025209472190210816)]"
      ]
     },
     "execution_count": 75,
     "metadata": {},
     "output_type": "execute_result"
    }
   ],
   "source": [
    "#print the top 10 nodes with the highest non-backtrack centrality, extracting its value from the attribute\n",
    "name_nbc_pairs = [(node, pb2020.nodes[node]['non_backtrack_centralities']) for node in pb2020.nodes]\n",
    "name_nbc_pairs.sort(key=lambda x: x[1], reverse=True)\n",
    "name_nbc_pairs[:10]"
   ]
  },
  {
   "attachments": {},
   "cell_type": "markdown",
   "metadata": {},
   "source": [
    "# collective influence centrality "
   ]
  },
  {
   "cell_type": "code",
   "execution_count": null,
   "metadata": {},
   "outputs": [],
   "source": []
  },
  {
   "cell_type": "code",
   "execution_count": 34,
   "metadata": {},
   "outputs": [],
   "source": [
    "# Export the graph to GEXF\n",
    "nx.write_gexf(pb2020, \"k_core_centralities.gexf\")\n"
   ]
  }
 ],
 "metadata": {
  "kernelspec": {
   "display_name": "Python 3.10.6 ('NS')",
   "language": "python",
   "name": "python3"
  },
  "language_info": {
   "codemirror_mode": {
    "name": "ipython",
    "version": 3
   },
   "file_extension": ".py",
   "mimetype": "text/x-python",
   "name": "python",
   "nbconvert_exporter": "python",
   "pygments_lexer": "ipython3",
   "version": "3.10.6"
  },
  "orig_nbformat": 4,
  "vscode": {
   "interpreter": {
    "hash": "08b691cf8a3a31d1bdec91e16636791722048a283f28ba8b35477374ad55e1c6"
   }
  }
 },
 "nbformat": 4,
 "nbformat_minor": 2
}
