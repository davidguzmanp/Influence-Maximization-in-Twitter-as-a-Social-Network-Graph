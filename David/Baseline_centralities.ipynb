{
 "cells": [
  {
   "cell_type": "code",
   "execution_count": 1,
   "metadata": {},
   "outputs": [],
   "source": [
    "import networkx as nx\n",
    "from diffusion_models import Weighted_Cascade, Trivalency_Model, Independent_Cascade, Decreasing_Cascade, linear_threshold, general_threshold\n",
    "from influence_max_algorithms import MIA\n",
    "import matplotlib.pyplot as plt\n",
    "import numpy as np\n",
    "import tqdm as tqdm\n",
    "import time as time\n"
   ]
  },
  {
   "cell_type": "code",
   "execution_count": 2,
   "metadata": {},
   "outputs": [],
   "source": [
    "pb2020 = nx.read_gml('/Users/davidguzman/Documents/GitHub/Network-Science-final-Maximization-/Proud_Boys_Datsets/PB2020.gml')"
   ]
  },
  {
   "cell_type": "code",
   "execution_count": 3,
   "metadata": {},
   "outputs": [],
   "source": [
    "#invert edge direction for PB2020\n",
    "pb2020 = pb2020.reverse()"
   ]
  },
  {
   "cell_type": "code",
   "execution_count": 4,
   "metadata": {},
   "outputs": [
    {
     "name": "stdout",
     "output_type": "stream",
     "text": [
      "Number of nodes:  13217\n",
      "Number of edges:  14477\n"
     ]
    }
   ],
   "source": [
    "#number of nodes and edges\n",
    "print(\"Number of nodes: \", pb2020.number_of_nodes())\n",
    "print(\"Number of edges: \", pb2020.number_of_edges())"
   ]
  },
  {
   "attachments": {},
   "cell_type": "markdown",
   "metadata": {},
   "source": [
    "# Measuring the spread of the baseline, influence maximization centralities"
   ]
  },
  {
   "attachments": {},
   "cell_type": "markdown",
   "metadata": {},
   "source": [
    "## import and intialization of diffusion models"
   ]
  },
  {
   "cell_type": "code",
   "execution_count": 5,
   "metadata": {},
   "outputs": [],
   "source": [
    "ICM_model_2020 = Independent_Cascade()\n",
    "ICM_model_2020.fit(pb2020)"
   ]
  },
  {
   "cell_type": "code",
   "execution_count": 6,
   "metadata": {},
   "outputs": [],
   "source": [
    "decreasing_cascade_model_2020 = Decreasing_Cascade()\n",
    "decreasing_cascade_model_2020.fit(pb2020)"
   ]
  },
  {
   "cell_type": "code",
   "execution_count": 7,
   "metadata": {},
   "outputs": [],
   "source": [
    "weighted_cascade_model_2020 = Weighted_Cascade()\n",
    "weighted_cascade_model_2020.fit(pb2020)"
   ]
  },
  {
   "cell_type": "code",
   "execution_count": 8,
   "metadata": {},
   "outputs": [],
   "source": [
    "trivalency_model_2020 = Trivalency_Model()\n",
    "trivalency_model_2020.fit(pb2020)"
   ]
  },
  {
   "cell_type": "code",
   "execution_count": 9,
   "metadata": {},
   "outputs": [
    {
     "data": {
      "text/plain": [
       "<networkx.classes.digraph.DiGraph at 0x1060d9a50>"
      ]
     },
     "execution_count": 9,
     "metadata": {},
     "output_type": "execute_result"
    }
   ],
   "source": [
    "linear_threshold_model_2020 = linear_threshold()\n",
    "linear_threshold_model_2020.fit(pb2020)"
   ]
  },
  {
   "cell_type": "code",
   "execution_count": 10,
   "metadata": {},
   "outputs": [
    {
     "data": {
      "text/plain": [
       "<networkx.classes.digraph.DiGraph at 0x1060d9a50>"
      ]
     },
     "execution_count": 10,
     "metadata": {},
     "output_type": "execute_result"
    }
   ],
   "source": [
    "general_threshold_model_2020 = general_threshold()\n",
    "general_threshold_model_2020.fit(pb2020)"
   ]
  },
  {
   "cell_type": "code",
   "execution_count": 11,
   "metadata": {},
   "outputs": [],
   "source": [
    "seed_size = 30"
   ]
  },
  {
   "attachments": {},
   "cell_type": "markdown",
   "metadata": {},
   "source": [
    "## K-core centralities"
   ]
  },
  {
   "cell_type": "code",
   "execution_count": 12,
   "metadata": {},
   "outputs": [],
   "source": [
    "k_core_centralities = nx.core_number(pb2020)\n",
    "# set it as an attribute\n",
    "nx.set_node_attributes(pb2020, k_core_centralities, 'k_core_centralities')"
   ]
  },
  {
   "attachments": {},
   "cell_type": "markdown",
   "metadata": {},
   "source": [
    "Since there are only 4 levels or k-shells in this case, in an effort to improve diffusion we sort first by shell and then by follower count (or some other attribute)"
   ]
  },
  {
   "cell_type": "code",
   "execution_count": 13,
   "metadata": {},
   "outputs": [],
   "source": [
    "#for nodes without attribute 'followers', set it to 0\n",
    "for node in pb2020.nodes():\n",
    "    if 'followers' not in pb2020.nodes[node]:\n",
    "        pb2020.nodes[node]['followers'] = 0"
   ]
  },
  {
   "cell_type": "code",
   "execution_count": 14,
   "metadata": {},
   "outputs": [],
   "source": [
    "# sort by k_core_centralities first and by followers second\n",
    "sorted_nodes = sorted(pb2020.nodes(data=True), key=lambda x: (x[1]['k_core_centralities'], x[1]['followers']), reverse=True)"
   ]
  },
  {
   "cell_type": "code",
   "execution_count": 15,
   "metadata": {},
   "outputs": [],
   "source": [
    "#only the first element of the tuple\n",
    "seed_k_core = [x[0] for x in sorted_nodes]"
   ]
  },
  {
   "cell_type": "code",
   "execution_count": 16,
   "metadata": {},
   "outputs": [
    {
     "name": "stdout",
     "output_type": "stream",
     "text": [
      "total nodes reached ICM: 1596.05\n",
      "total nodes reached WCM: 1491.8899999999999\n",
      "total nodes reached Trivalency: 86.44\n",
      "total nodes reached DCM: 1598.2199999999998\n",
      "total nodes reached Linear Threshold: 1768\n",
      "total nodes reached General Threshold: 1697\n"
     ]
    }
   ],
   "source": [
    "activate_nums = ICM_model_2020.monte_carlo_diffusion_all(seed_k_core[:seed_size], num_simulations=100)\n",
    "#print(activate_nums)\n",
    "print('total nodes reached ICM: ' + str(sum(activate_nums)))\n",
    "\n",
    "activate_nums = weighted_cascade_model_2020.monte_carlo_diffusion_all(seed_k_core[:seed_size], num_simulations=100)\n",
    "#print(activate_nums)\n",
    "print('total nodes reached WCM: ' + str(sum(activate_nums)))\n",
    "\n",
    "activate_nums = trivalency_model_2020.monte_carlo_diffusion_all(seed_k_core[:seed_size], num_simulations=100)\n",
    "#print(activate_nums)\n",
    "print('total nodes reached Trivalency: ' + str(sum(activate_nums)))\n",
    "\n",
    "activate_nums = decreasing_cascade_model_2020.monte_carlo_diffusion_all(seed_k_core[:seed_size], num_simulations=100)\n",
    "#print(activate_nums)\n",
    "print('total nodes reached DCM: ' + str(sum(activate_nums)))\n",
    "\n",
    "activate_nums = linear_threshold_model_2020.diffusion_all(seed_k_core[:seed_size], 0.001)\n",
    "#print(activate_nums)\n",
    "print('total nodes reached Linear Threshold: ' + str(sum(activate_nums[1])))\n",
    "\n",
    "activate_nums = general_threshold_model_2020.diffusion_all(seed_k_core[:seed_size])\n",
    "#print(activate_nums)\n",
    "print('total nodes reached General Threshold: ' + str(sum(activate_nums[1])))"
   ]
  },
  {
   "attachments": {},
   "cell_type": "markdown",
   "metadata": {},
   "source": [
    "it's also possible to sort by out-degree, which should reflect better how much influence they have on the local networks (as opposed to the follower count, which reflects all of twitter)"
   ]
  },
  {
   "cell_type": "code",
   "execution_count": 17,
   "metadata": {},
   "outputs": [],
   "source": [
    "# sort by k_core_centralities first and by out-degree second\n",
    "sorted_nodes = sorted(pb2020.nodes(data=True), key=lambda x: (x[1]['k_core_centralities'], pb2020.out_degree(x[0])), reverse=True)"
   ]
  },
  {
   "cell_type": "code",
   "execution_count": 18,
   "metadata": {},
   "outputs": [],
   "source": [
    "# get the top 10 nodes, only the first element of the tuple\n",
    "seed_k_core = [x[0] for x in sorted_nodes]"
   ]
  },
  {
   "cell_type": "code",
   "execution_count": 19,
   "metadata": {},
   "outputs": [
    {
     "name": "stdout",
     "output_type": "stream",
     "text": [
      "total nodes reached ICM: 1723.5199999999998\n",
      "total nodes reached WCM: 1641.11\n",
      "total nodes reached Trivalency: 92.46\n",
      "total nodes reached DCM: 1724.01\n",
      "total nodes reached Linear Threshold: 1776\n",
      "total nodes reached General Threshold: 1775\n"
     ]
    }
   ],
   "source": [
    "activate_nums = ICM_model_2020.monte_carlo_diffusion_all(seed_k_core[:seed_size], num_simulations=100)\n",
    "#print(activate_nums)\n",
    "print('total nodes reached ICM: ' + str(sum(activate_nums)))\n",
    "\n",
    "activate_nums = weighted_cascade_model_2020.monte_carlo_diffusion_all(seed_k_core[:seed_size], num_simulations=100)\n",
    "#print(activate_nums)\n",
    "print('total nodes reached WCM: ' + str(sum(activate_nums)))\n",
    "\n",
    "activate_nums = trivalency_model_2020.monte_carlo_diffusion_all(seed_k_core[:seed_size], num_simulations=100)\n",
    "#print(activate_nums)\n",
    "print('total nodes reached Trivalency: ' + str(sum(activate_nums)))\n",
    "\n",
    "activate_nums = decreasing_cascade_model_2020.monte_carlo_diffusion_all(seed_k_core[:seed_size], num_simulations=100)\n",
    "#print(activate_nums)\n",
    "print('total nodes reached DCM: ' + str(sum(activate_nums)))\n",
    "\n",
    "activate_nums = linear_threshold_model_2020.diffusion_all(seed_k_core[:seed_size], 0.001)\n",
    "#print(activate_nums)\n",
    "print('total nodes reached Linear Threshold: ' + str(sum(activate_nums[1])))\n",
    "\n",
    "activate_nums = general_threshold_model_2020.diffusion_all(seed_k_core[:seed_size])\n",
    "#print(activate_nums)\n",
    "print('total nodes reached General Threshold: ' + str(sum(activate_nums[1])))"
   ]
  },
  {
   "attachments": {},
   "cell_type": "markdown",
   "metadata": {},
   "source": [
    "## Non-backtracking centrality"
   ]
  },
  {
   "cell_type": "code",
   "execution_count": 82,
   "metadata": {},
   "outputs": [],
   "source": [
    "from nbc import non_backtracking_centrality"
   ]
  },
  {
   "cell_type": "code",
   "execution_count": 83,
   "metadata": {},
   "outputs": [],
   "source": [
    "pb2020_int = nx.convert_node_labels_to_integers(pb2020)"
   ]
  },
  {
   "cell_type": "code",
   "execution_count": 84,
   "metadata": {},
   "outputs": [],
   "source": [
    "#get the node labels in a list\n",
    "node_labels = list(pb2020.nodes())"
   ]
  },
  {
   "cell_type": "code",
   "execution_count": 85,
   "metadata": {},
   "outputs": [],
   "source": [
    "# calcualate the non-backtrack centrality\n",
    "non_backtrack_centralities = non_backtracking_centrality(pb2020_int)"
   ]
  },
  {
   "cell_type": "code",
   "execution_count": 86,
   "metadata": {},
   "outputs": [],
   "source": [
    "# use node labels to create a dictionary\n",
    "non_backtrack_centralities_dict = dict(zip(node_labels, non_backtrack_centralities))"
   ]
  },
  {
   "cell_type": "code",
   "execution_count": 87,
   "metadata": {},
   "outputs": [],
   "source": [
    "# add non-backtrack centrality as an attribute, the first element of the list goes with the first node, etc.\n",
    "nx.set_node_attributes(pb2020, non_backtrack_centralities_dict, 'non_backtrack_centralities')\n"
   ]
  },
  {
   "cell_type": "code",
   "execution_count": 88,
   "metadata": {},
   "outputs": [
    {
     "data": {
      "text/plain": [
       "[('Premises187', 0.3178476412084301),\n",
       " ('principe_giovan', 0.10539135548376868),\n",
       " ('SnarkieVlogs', 0.02520947219021082),\n",
       " ('Minximusmaximus', 0.025209472190210816),\n",
       " ('FeedTheOcelot', 0.025209472190210816),\n",
       " ('bikerheadz', 0.025209472190210816),\n",
       " ('RightInTheDesu', 0.025209472190210816),\n",
       " ('Ace_blue_', 0.025209472190210816),\n",
       " ('DriftInnovation', 0.025209472190210816),\n",
       " ('FreeMotorLegal', 0.025209472190210816)]"
      ]
     },
     "execution_count": 88,
     "metadata": {},
     "output_type": "execute_result"
    }
   ],
   "source": [
    "#print the top 10 nodes with the highest non-backtrack centrality, extracting its value from the attribute\n",
    "name_nbc_pairs = [(node, pb2020.nodes[node]['non_backtrack_centralities']) for node in pb2020.nodes]\n",
    "name_nbc_pairs.sort(key=lambda x: x[1], reverse=True)\n",
    "name_nbc_pairs[:10]"
   ]
  },
  {
   "cell_type": "code",
   "execution_count": 89,
   "metadata": {},
   "outputs": [],
   "source": [
    "#get only the labels in a list\n",
    "name_nbc_pairs_labels = [x[0] for x in name_nbc_pairs]\n",
    "seed_nbc = name_nbc_pairs_labels\n"
   ]
  },
  {
   "cell_type": "code",
   "execution_count": 90,
   "metadata": {},
   "outputs": [
    {
     "name": "stdout",
     "output_type": "stream",
     "text": [
      "[3.0000e+01 9.0400e+02 4.1500e+00 1.5835e+02 8.6000e-01 4.1560e+01\n",
      " 9.2000e-01 9.2700e+00]\n",
      "total nodes reached ICM: 1149.11\n",
      "[3.0000e+01 8.6703e+02 2.0000e-01 6.4200e+00]\n",
      "total nodes reached WCM: 903.65\n",
      "[30.   33.85  0.05  0.09]\n",
      "total nodes reached Trivalency: 63.99\n",
      "[3.0000e+01 9.0400e+02 4.4400e+00 1.6252e+02 9.1000e-01 5.0620e+01\n",
      " 2.9000e-01 1.1150e+01 6.0000e-02 7.2000e-01]\n",
      "total nodes reached DCM: 1164.71\n",
      "total nodes reached Linear Threshold: 1910\n",
      "total nodes reached General Threshold: 1374\n"
     ]
    }
   ],
   "source": [
    "activate_nums = ICM_model_2020.monte_carlo_diffusion_all(seed_nbc[:seed_size], num_simulations=100)\n",
    "print(activate_nums)\n",
    "print('total nodes reached ICM: ' + str(sum(activate_nums)))\n",
    "\n",
    "activate_nums = weighted_cascade_model_2020.monte_carlo_diffusion_all(seed_nbc[:seed_size], num_simulations=100)\n",
    "print(activate_nums)\n",
    "print('total nodes reached WCM: ' + str(sum(activate_nums)))\n",
    "\n",
    "activate_nums = trivalency_model_2020.monte_carlo_diffusion_all(seed_nbc[:seed_size], num_simulations=100)\n",
    "print(activate_nums)\n",
    "print('total nodes reached Trivalency: ' + str(sum(activate_nums)))\n",
    "\n",
    "activate_nums = decreasing_cascade_model_2020.monte_carlo_diffusion_all(seed_nbc[:seed_size], num_simulations=100)\n",
    "print(activate_nums)\n",
    "print('total nodes reached DCM: ' + str(sum(activate_nums)))\n",
    "\n",
    "activate_nums = linear_threshold_model_2020.diffusion_all(seed_nbc[:seed_size], 0.001)\n",
    "#print(activate_nums)\n",
    "print('total nodes reached Linear Threshold: ' + str(sum(activate_nums[1])))\n",
    "\n",
    "activate_nums = general_threshold_model_2020.diffusion_all(seed_nbc[:seed_size])\n",
    "#print(activate_nums)\n",
    "print('total nodes reached General Threshold: ' + str(sum(activate_nums[1])))"
   ]
  },
  {
   "attachments": {},
   "cell_type": "markdown",
   "metadata": {},
   "source": [
    "## collective influence centrality "
   ]
  },
  {
   "attachments": {},
   "cell_type": "markdown",
   "metadata": {},
   "source": [
    "there is an open-source implementation available at https://github.com/nravindranath10/collective-influence but it takes more than 80 miniutes tp run for the dataset at hand. \n",
    "\n",
    "For this reason is not going to be considered. "
   ]
  },
  {
   "attachments": {},
   "cell_type": "markdown",
   "metadata": {},
   "source": [
    "# Saving network with centralities as attributes to gexf files (compatible with Gephi for visualizations)"
   ]
  },
  {
   "cell_type": "code",
   "execution_count": 34,
   "metadata": {},
   "outputs": [],
   "source": [
    "# Export the graph to GEXF\n",
    "nx.write_gexf(pb2020, \"k_core_centralities.gexf\")"
   ]
  }
 ],
 "metadata": {
  "kernelspec": {
   "display_name": "Python 3.10.6 ('NS')",
   "language": "python",
   "name": "python3"
  },
  "language_info": {
   "codemirror_mode": {
    "name": "ipython",
    "version": 3
   },
   "file_extension": ".py",
   "mimetype": "text/x-python",
   "name": "python",
   "nbconvert_exporter": "python",
   "pygments_lexer": "ipython3",
   "version": "3.10.6 | packaged by conda-forge | (main, Aug 22 2022, 20:41:22) [Clang 13.0.1 ]"
  },
  "orig_nbformat": 4,
  "vscode": {
   "interpreter": {
    "hash": "08b691cf8a3a31d1bdec91e16636791722048a283f28ba8b35477374ad55e1c6"
   }
  }
 },
 "nbformat": 4,
 "nbformat_minor": 2
}
