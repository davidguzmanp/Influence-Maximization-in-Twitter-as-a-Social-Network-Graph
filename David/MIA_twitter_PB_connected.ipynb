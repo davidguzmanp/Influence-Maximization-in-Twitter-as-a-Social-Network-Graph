{
 "cells": [
  {
   "cell_type": "code",
   "execution_count": 1,
   "metadata": {},
   "outputs": [],
   "source": [
    "import networkx as nx\n",
    "from diffusion_models import Weighted_Cascade, Trivalency_Model, Independent_Cascade, Decreasing_Cascade, linear_threshold, general_threshold\n",
    "from influence_max_algorithms import MIA\n",
    "import matplotlib.pyplot as plt\n",
    "import numpy as np\n",
    "import tqdm as tqdm\n",
    "import time as time\n",
    "\n",
    "import pickle\n"
   ]
  },
  {
   "cell_type": "code",
   "execution_count": 2,
   "metadata": {},
   "outputs": [],
   "source": [
    "pb2020 = nx.read_gml('/Users/davidguzman/Documents/GitHub/Network-Science-final-Maximization-/Proud_Boys_Datsets/PB2020.gml')"
   ]
  },
  {
   "cell_type": "code",
   "execution_count": 3,
   "metadata": {},
   "outputs": [],
   "source": [
    "#invert edge direction for PB2020\n",
    "pb2020 = pb2020.reverse()"
   ]
  },
  {
   "cell_type": "code",
   "execution_count": 4,
   "metadata": {},
   "outputs": [
    {
     "name": "stdout",
     "output_type": "stream",
     "text": [
      "Number of nodes:  13217\n",
      "Number of edges:  14477\n"
     ]
    }
   ],
   "source": [
    "#print number of nodes and edges\n",
    "print('Number of nodes: ', pb2020.number_of_nodes())\n",
    "print('Number of edges: ', pb2020.number_of_edges())\n"
   ]
  },
  {
   "cell_type": "code",
   "execution_count": 5,
   "metadata": {},
   "outputs": [],
   "source": [
    "seed_size = 30"
   ]
  },
  {
   "cell_type": "code",
   "execution_count": 6,
   "metadata": {},
   "outputs": [
    {
     "data": {
      "text/plain": [
       "<networkx.classes.digraph.DiGraph at 0x106767220>"
      ]
     },
     "execution_count": 6,
     "metadata": {},
     "output_type": "execute_result"
    }
   ],
   "source": [
    "ICM_model_2020 = Independent_Cascade()\n",
    "ICM_model_2020.fit(pb2020)\n",
    "decreasing_cascade_model_2020 = Decreasing_Cascade()\n",
    "decreasing_cascade_model_2020.fit(pb2020)\n",
    "weighted_cascade_model_2020 = Weighted_Cascade()\n",
    "weighted_cascade_model_2020.fit(pb2020)\n",
    "trivalency_model_2020 = Trivalency_Model()\n",
    "trivalency_model_2020.fit(pb2020)\n",
    "linear_threshold_model_2020 = linear_threshold()\n",
    "linear_threshold_model_2020.fit(pb2020)\n",
    "general_threshold_model_2020 = general_threshold()\n",
    "general_threshold_model_2020.fit(pb2020)"
   ]
  },
  {
   "cell_type": "code",
   "execution_count": 7,
   "metadata": {},
   "outputs": [],
   "source": [
    "def assing_model_probs_to_weights(model):\n",
    "    pb2020_model = pb2020.copy()\n",
    "    for edge in pb2020_model.edges():\n",
    "        prob = model.probability[model.label2id[edge[0]], model.label2id[edge[1]]]\n",
    "\n",
    "        if pb2020_model.in_degree(edge[0]) == 0: # to avoid division by 0\n",
    "\n",
    "            pb2020_model[edge[0]][edge[1]]['weight'] = prob\n",
    "            pb2020_model[edge[0]][edge[1]]['weight_negative_log'] = np.abs(np.log(prob + 0.00000001)) # to avoid diverging to - infinity\n",
    "        else:\n",
    "\n",
    "            pb2020_model[edge[0]][edge[1]]['weight'] = prob\n",
    "            pb2020_model[edge[0]][edge[1]]['weight_negative_log'] = np.abs(np.log(prob))\n",
    "    return pb2020_model"
   ]
  },
  {
   "cell_type": "code",
   "execution_count": 8,
   "metadata": {},
   "outputs": [],
   "source": [
    "def assing_model_probs_to_weights_threshold(model):\n",
    "    pb2020_model = pb2020.copy()\n",
    "    for edge in pb2020_model.edges():\n",
    "        prob = model.influence[model.label2id[edge[0]], model.label2id[edge[1]]]\n",
    "\n",
    "        if pb2020_model.in_degree(edge[0]) == 0: # to avoid division by 0\n",
    "\n",
    "            pb2020_model[edge[0]][edge[1]]['weight'] = prob\n",
    "            pb2020_model[edge[0]][edge[1]]['weight_negative_log'] = np.abs(np.log(prob + 0.00000001)) # to avoid diverging to - infinity\n",
    "        else:\n",
    "\n",
    "            pb2020_model[edge[0]][edge[1]]['weight'] = prob\n",
    "            pb2020_model[edge[0]][edge[1]]['weight_negative_log'] = np.abs(np.log(prob))\n",
    "    return pb2020_model"
   ]
  },
  {
   "cell_type": "markdown",
   "metadata": {},
   "source": [
    "# Weighted Cascade probabilities + MIA"
   ]
  },
  {
   "cell_type": "code",
   "execution_count": 9,
   "metadata": {},
   "outputs": [],
   "source": [
    "pb2020_independent_cascade = assing_model_probs_to_weights(ICM_model_2020)\n",
    "pb2020_weighted_cascade = assing_model_probs_to_weights(weighted_cascade_model_2020)\n",
    "pb2020_decreasing_cascade = assing_model_probs_to_weights(decreasing_cascade_model_2020)\n",
    "pb2020_trivalency = assing_model_probs_to_weights(trivalency_model_2020)"
   ]
  },
  {
   "cell_type": "code",
   "execution_count": 10,
   "metadata": {},
   "outputs": [],
   "source": [
    "pb2020_linear_threshold = assing_model_probs_to_weights_threshold(linear_threshold_model_2020)\n",
    "pb2020_general_threshold = assing_model_probs_to_weights_threshold(general_threshold_model_2020)"
   ]
  },
  {
   "cell_type": "code",
   "execution_count": 11,
   "metadata": {},
   "outputs": [],
   "source": [
    "mia = MIA(pb2020_weighted_cascade)\n",
    "mia_icm = MIA(pb2020_independent_cascade)\n",
    "mia_decreasing = MIA(pb2020_decreasing_cascade)\n",
    "mia_trivalency = MIA(pb2020_trivalency)\n",
    "mia_linear_threshold = MIA(pb2020_linear_threshold)\n",
    "mia_general_threshold = MIA(pb2020_general_threshold)"
   ]
  },
  {
   "cell_type": "code",
   "execution_count": null,
   "metadata": {},
   "outputs": [],
   "source": [
    "seed_wcm = mia.MIA_fast(pb2020_weighted_cascade, 100, 0.5)\n",
    "\n",
    "#remove duplicates\n",
    "seed_wcm = list(dict.fromkeys(seed_wcm))\n",
    "\n",
    "with open('seed_wcm.pickle', 'wb') as handle:\n",
    "    pickle.dump(seed_wcm, handle, protocol=pickle.HIGHEST_PROTOCOL)"
   ]
  },
  {
   "cell_type": "code",
   "execution_count": 12,
   "metadata": {},
   "outputs": [
    {
     "name": "stdout",
     "output_type": "stream",
     "text": [
      "Starting MIA intialization\n"
     ]
    },
    {
     "name": "stderr",
     "output_type": "stream",
     "text": [
      "100%|██████████| 13217/13217 [00:46<00:00, 282.38it/s]\n"
     ]
    },
    {
     "name": "stdout",
     "output_type": "stream",
     "text": [
      "Initialization Completed\n"
     ]
    },
    {
     "name": "stderr",
     "output_type": "stream",
     "text": [
      "100%|██████████| 100/100 [20:41<00:00, 12.41s/it]\n"
     ]
    }
   ],
   "source": [
    "seed_icm = mia_icm.MIA_fast(pb2020_independent_cascade, 100, 0.5)\n",
    "#remove duplicates\n",
    "seed_icm = list(dict.fromkeys(seed_icm))\n",
    "#pickle it\n",
    "with open('seed_icm.pickle', 'wb') as handle:\n",
    "    pickle.dump(seed_icm, handle, protocol=pickle.HIGHEST_PROTOCOL)\n"
   ]
  },
  {
   "cell_type": "code",
   "execution_count": 13,
   "metadata": {},
   "outputs": [
    {
     "name": "stdout",
     "output_type": "stream",
     "text": [
      "Starting MIA intialization\n"
     ]
    },
    {
     "name": "stderr",
     "output_type": "stream",
     "text": [
      "100%|██████████| 13217/13217 [00:45<00:00, 292.91it/s]\n"
     ]
    },
    {
     "name": "stdout",
     "output_type": "stream",
     "text": [
      "Initialization Completed\n"
     ]
    },
    {
     "name": "stderr",
     "output_type": "stream",
     "text": [
      "100%|██████████| 100/100 [19:18<00:00, 11.58s/it]\n"
     ]
    }
   ],
   "source": [
    "seed_dc = mia_decreasing.MIA_fast(pb2020_decreasing_cascade, 100, 0.5)\n",
    "#remove duplicates\n",
    "seed_dc = list(dict.fromkeys(seed_dc))\n",
    "#pickle it\n",
    "with open('seed_dc.pickle', 'wb') as handle:\n",
    "    pickle.dump(seed_dc, handle, protocol=pickle.HIGHEST_PROTOCOL)"
   ]
  },
  {
   "cell_type": "code",
   "execution_count": 14,
   "metadata": {},
   "outputs": [
    {
     "name": "stdout",
     "output_type": "stream",
     "text": [
      "Starting MIA intialization\n"
     ]
    },
    {
     "name": "stderr",
     "output_type": "stream",
     "text": [
      "100%|██████████| 13217/13217 [00:44<00:00, 295.98it/s]\n"
     ]
    },
    {
     "name": "stdout",
     "output_type": "stream",
     "text": [
      "Initialization Completed\n"
     ]
    },
    {
     "name": "stderr",
     "output_type": "stream",
     "text": [
      "100%|██████████| 100/100 [18:20<00:00, 11.00s/it]\n"
     ]
    }
   ],
   "source": [
    "seed_trivalency = mia_trivalency.MIA_fast(pb2020_trivalency, 100, 0.5)\n",
    "#remove duplicates\n",
    "seed_trivalency = list(dict.fromkeys(seed_trivalency))\n",
    "#pickle it\n",
    "with open('seed_trivalency.pickle', 'wb') as handle:\n",
    "    pickle.dump(seed_trivalency, handle, protocol=pickle.HIGHEST_PROTOCOL)"
   ]
  },
  {
   "cell_type": "code",
   "execution_count": 15,
   "metadata": {},
   "outputs": [
    {
     "name": "stdout",
     "output_type": "stream",
     "text": [
      "Starting MIA intialization\n"
     ]
    },
    {
     "name": "stderr",
     "output_type": "stream",
     "text": [
      "100%|██████████| 13217/13217 [00:42<00:00, 312.00it/s]\n"
     ]
    },
    {
     "name": "stdout",
     "output_type": "stream",
     "text": [
      "Initialization Completed\n"
     ]
    },
    {
     "name": "stderr",
     "output_type": "stream",
     "text": [
      "100%|██████████| 100/100 [18:21<00:00, 11.02s/it]\n"
     ]
    }
   ],
   "source": [
    "seed_lt = mia_linear_threshold.MIA_fast(pb2020_linear_threshold, 100, 0.5)\n",
    "#remove duplicates\n",
    "seed_lt = list(dict.fromkeys(seed_lt))\n",
    "#pickle it\n",
    "with open('seed_lt.pickle', 'wb') as handle:\n",
    "    pickle.dump(seed_lt, handle, protocol=pickle.HIGHEST_PROTOCOL)"
   ]
  },
  {
   "cell_type": "code",
   "execution_count": 16,
   "metadata": {},
   "outputs": [
    {
     "name": "stdout",
     "output_type": "stream",
     "text": [
      "Starting MIA intialization\n"
     ]
    },
    {
     "name": "stderr",
     "output_type": "stream",
     "text": [
      "100%|██████████| 13217/13217 [00:44<00:00, 294.25it/s]\n"
     ]
    },
    {
     "name": "stdout",
     "output_type": "stream",
     "text": [
      "Initialization Completed\n"
     ]
    },
    {
     "name": "stderr",
     "output_type": "stream",
     "text": [
      "100%|██████████| 100/100 [19:11<00:00, 11.51s/it]\n"
     ]
    }
   ],
   "source": [
    "seed_gt = mia_general_threshold.MIA_fast(pb2020_general_threshold, 100, 0.5)\n",
    "#remove duplicates\n",
    "seed_gt = list(dict.fromkeys(seed_gt))\n",
    "#pickle it\n",
    "with open('seed_gt.pickle', 'wb') as handle:\n",
    "    pickle.dump(seed_gt, handle, protocol=pickle.HIGHEST_PROTOCOL)"
   ]
  },
  {
   "cell_type": "code",
   "execution_count": null,
   "metadata": {},
   "outputs": [],
   "source": [
    "#load the seeds\n",
    "with open('seed_wcm.pickle', 'rb') as handle:\n",
    "    seed_wcm = pickle.load(handle)\n",
    "    \n",
    "with open('seed_icm.pickle', 'rb') as handle:\n",
    "    seed_icm = pickle.load(handle)\n",
    "\n",
    "with open('seed_dc.pickle', 'rb') as handle:\n",
    "    seed_dc = pickle.load(handle)\n",
    "\n",
    "with open('seed_trivalency.pickle', 'rb') as handle:\n",
    "    seed_trivalency = pickle.load(handle)\n",
    "\n",
    "with open('seed_lt.pickle', 'rb') as handle:\n",
    "    seed_lt = pickle.load(handle)\n",
    "\n",
    "with open('seed_gt.pickle', 'rb') as handle:\n",
    "    seed_gt = pickle.load(handle)"
   ]
  },
  {
   "cell_type": "code",
   "execution_count": 32,
   "metadata": {},
   "outputs": [
    {
     "name": "stdout",
     "output_type": "stream",
     "text": [
      "[  30.  1679.1]\n",
      "total nodes reached: 1709.1\n"
     ]
    }
   ],
   "source": [
    "\"\"\"activate_nums = weighted_cascade_model_2020.monte_carlo_diffusion_all(seed_wcm[:seed_size], num_simulations=10)\n",
    "print(activate_nums)\n",
    "print('total nodes reached: ' + str(sum(activate_nums)))\"\"\""
   ]
  },
  {
   "cell_type": "code",
   "execution_count": null,
   "metadata": {},
   "outputs": [],
   "source": [
    "#calcualate the number of nodes reached by the seed sets generated by MIA using seed sets of size 5, 10, 20\n",
    "activate_nums_dict_wcm = {}\n",
    "for i in range(1, 100, 5):\n",
    "    seed_wcm_temp = seed_wcm[:i]\n",
    "    activate_nums = weighted_cascade_model_2020.monte_carlo_diffusion_all(seed_wcm[:i], num_simulations=10)\n",
    "    activate_nums_dict_wcm[i] = sum(activate_nums)\n",
    "    #print('total nodes reached with seed set of size ' + str(i) + ': ' + str(sum(activate_nums)))\n",
    "\n",
    "#do the same for the other models\n",
    "activate_nums_dict_icm = {}\n",
    "for i in range(1, 100, 5):\n",
    "    seed_icm_temp = seed_icm[:i]\n",
    "    activate_nums = ICM_model_2020.monte_carlo_diffusion_all(seed_icm[:i], num_simulations=10)\n",
    "    activate_nums_dict_icm[i] = sum(activate_nums)\n",
    "    #print('total nodes reached with seed set of size ' + str(i) + ': ' + str(sum(activate_nums)))\n",
    "\n",
    "activate_nums_dict_dc = {}\n",
    "for i in range(1, 100, 5):\n",
    "    seed_dc_temp = seed_dc[:i]\n",
    "    activate_nums = decreasing_cascade_model_2020.monte_carlo_diffusion_all(seed_dc[:i], num_simulations=10)\n",
    "    activate_nums_dict_dc[i] = sum(activate_nums)\n",
    "    #print('total nodes reached with seed set of size ' + str(i) + ': ' + str(sum(activate_nums)))\n",
    "\n",
    "activate_nums_dict_tr = {}\n",
    "for i in range(1, 100, 5):\n",
    "    seed_tr_temp = seed_tr[:i]\n",
    "    activate_nums = trivalency_model_2020.monte_carlo_diffusion_all(seed_tr[:i], num_simulations=10)\n",
    "    activate_nums_dict_tr[i] = sum(activate_nums)\n",
    "    #print('total nodes reached with seed set of size ' + str(i) + ': ' + str(sum(activate_nums)))\n",
    "\n",
    "activate_nums_dict_lt = {}\n",
    "for i in range(1, 100, 5):\n",
    "    seed_lt_temp = seed_lt[:i]\n",
    "    activate_nums = linear_threshold_model_2020.monte_carlo_diffusion_all(seed_lt[:i], num_simulations=10)\n",
    "    activate_nums_dict_lt[i] = sum(activate_nums[1])\n",
    "    #print('total nodes reached with seed set of size ' + str(i) + ': ' + str(sum(activate_nums)))\n",
    "\n",
    "activate_nums_dict_gt = {}\n",
    "for i in range(1, 100, 5):\n",
    "    seed_gt_temp = seed_gt[:i]\n",
    "    activate_nums = general_threshold_model_2020.monte_carlo_diffusion_all(seed_gt[:i], num_simulations=10)\n",
    "    activate_nums_dict_gt[i] = sum(activate_nums[1])\n",
    "    #print('total nodes reached with seed set of size ' + str(i) + ': ' + str(sum(activate_nums)))\n"
   ]
  },
  {
   "cell_type": "code",
   "execution_count": 35,
   "metadata": {},
   "outputs": [],
   "source": [
    "active_nums_dict_sum = {}\n",
    "for key in activate_nums_dict_wcm.keys():\n",
    "    active_nums_dict_sum[key] = sum(activate_nums_dict_wcm[key])"
   ]
  },
  {
   "cell_type": "code",
   "execution_count": 18,
   "metadata": {},
   "outputs": [
    {
     "data": {
      "image/png": "[encoded data removed]",
      "text/plain": [
       "<Figure size 1100x660 with 1 Axes>"
      ]
     },
     "metadata": {},
     "output_type": "display_data"
    }
   ],
   "source": [
    "#plot the number of nodes reached by the seed sets generated by MIA using seed sets of size 5, 10, 20\n",
    "plt.figure(figsize=(10,6), dpi=110)\n",
    "#plt.plot(activate_nums_dict_icm.keys(), activate_nums_dict_icm.values(), color = \"red\", linewidth=2.5, linestyle=\"-\", label=\"ICM\", marker=\"o\")\n",
    "plt.plot(activate_nums_dict_wcm.keys(), activate_nums_dict_wcm.values(), color = \"blue\", linewidth=2.5, linestyle=\"-\", label=\"WCM\", marker=\"o\")\n",
    "#plt.plot(activate_nums_dict_dc.keys(), activate_nums_dict_dc.values(), color = \"green\", linewidth=2.5, linestyle=\"-\", label=\"DC\", marker=\"o\")\n",
    "#plt.plot(activate_nums_dict_tr.keys(), activate_nums_dict_tr.values(), color = \"orange\", linewidth=2.5, linestyle=\"-\", label=\"TR\", marker=\"o\")\n",
    "#plt.plot(activate_nums_dict_lt.keys(), activate_nums_dict_lt.values(), color = \"purple\", linewidth=2.5, linestyle=\"-\", label=\"LT\", marker=\"o\")\n",
    "#plt.plot(activate_nums_dict_gt.keys(), activate_nums_dict_gt.values(), color = \"black\", linewidth=2.5, linestyle=\"-\", label=\"GT\", marker=\"o\")\n",
    "plt.title(\"Number of nodes reached by MIA for different diffusion models\")\n",
    "plt.ylabel(\"Number of nodes reached\")\n",
    "plt.xlabel(\"Seed set size\")\n",
    "plt.legend()\n",
    "plt.show()"
   ]
  },
  {
   "cell_type": "markdown",
   "metadata": {},
   "source": [
    "# Trivalency probabilities + MIA "
   ]
  },
  {
   "cell_type": "code",
   "execution_count": 8,
   "metadata": {},
   "outputs": [],
   "source": [
    "trivalency_model_2020 = Trivalency_Model()\n",
    "trivalency_model_2020.fit(pb2020)"
   ]
  },
  {
   "cell_type": "code",
   "execution_count": 8,
   "metadata": {},
   "outputs": [],
   "source": [
    "# overwrite the weights in pb20_comms_subgraphs[12] as q/in-degree of the node for the outgoing edges of said node, where q=1\n",
    "pb2020_trivalency = pb2020.copy()\n",
    "for edge in pb2020_trivalency.edges():\n",
    "    prob = trivalency_model_2020.probability[trivalency_model_2020.label2id[edge[0]], trivalency_model_2020.label2id[edge[1]]]\n",
    "    \n",
    "    if pb2020_trivalency.in_degree(edge[0]) == 0: # to avoid division by 0\n",
    "        \n",
    "        pb2020_trivalency[edge[0]][edge[1]]['weight'] = prob\n",
    "        pb2020_trivalency[edge[0]][edge[1]]['weight_negative_log'] = np.abs(np.log(prob + 0.00000001)) # to avoid diverging to - infinity\n",
    "    else:\n",
    "        \n",
    "        pb2020_trivalency[edge[0]][edge[1]]['weight'] = prob\n",
    "        pb2020_trivalency[edge[0]][edge[1]]['weight_negative_log'] = np.abs(np.log(prob))\n",
    "\n",
    "# turn the above code into a function where trivalency_model_2020 is the input, name the input \"model\"\n"
   ]
  },
  {
   "cell_type": "code",
   "execution_count": 11,
   "metadata": {},
   "outputs": [
    {
     "data": {
      "text/plain": [
       "array([0.001, 0.01 , 0.1  ])"
      ]
     },
     "execution_count": 11,
     "metadata": {},
     "output_type": "execute_result"
    }
   ],
   "source": [
    "np.unique([pb2020_trivalency[edge[0]][edge[1]]['weight'] for edge in pb2020_trivalency.edges()])"
   ]
  },
  {
   "cell_type": "code",
   "execution_count": 12,
   "metadata": {},
   "outputs": [
    {
     "name": "stdout",
     "output_type": "stream",
     "text": [
      "[2.30258499 2.30258509 4.60516919 4.60517019 6.90774528 6.90775528]\n"
     ]
    }
   ],
   "source": [
    "print(np.unique([pb2020_trivalency[edge[0]][edge[1]]['weight_negative_log'] for edge in pb2020_trivalency.edges()]))\n"
   ]
  },
  {
   "cell_type": "code",
   "execution_count": 13,
   "metadata": {},
   "outputs": [],
   "source": [
    "mia_trivalency = MIA(pb2020_trivalency)"
   ]
  },
  {
   "cell_type": "code",
   "execution_count": 14,
   "metadata": {},
   "outputs": [
    {
     "name": "stdout",
     "output_type": "stream",
     "text": [
      "Starting MIA intialization\n"
     ]
    },
    {
     "name": "stderr",
     "output_type": "stream",
     "text": [
      "100%|██████████| 13217/13217 [00:30<00:00, 438.55it/s]\n"
     ]
    },
    {
     "name": "stdout",
     "output_type": "stream",
     "text": [
      "Initialization Completed\n"
     ]
    },
    {
     "name": "stderr",
     "output_type": "stream",
     "text": [
      "100%|██████████| 10/10 [01:13<00:00,  7.38s/it]\n"
     ]
    },
    {
     "data": {
      "text/plain": [
       "['ColoradoPOYB',\n",
       " 'ColoradoPOYB',\n",
       " 'ColoradoPOYB',\n",
       " 'ColoradoPOYB',\n",
       " 'ColoradoPOYB',\n",
       " 'ColoradoPOYB',\n",
       " 'ColoradoPOYB',\n",
       " 'ColoradoPOYB',\n",
       " 'ColoradoPOYB',\n",
       " 'ColoradoPOYB']"
      ]
     },
     "execution_count": 14,
     "metadata": {},
     "output_type": "execute_result"
    }
   ],
   "source": [
    "mia_trivalency.MIA_fast(pb2020_trivalency, 10, 0.5)"
   ]
  },
  {
   "cell_type": "code",
   "execution_count": 22,
   "metadata": {},
   "outputs": [
    {
     "name": "stdout",
     "output_type": "stream",
     "text": [
      "Starting MIA intialization\n"
     ]
    },
    {
     "name": "stderr",
     "output_type": "stream",
     "text": [
      "100%|██████████| 13217/13217 [08:48<00:00, 25.01it/s] \n"
     ]
    },
    {
     "name": "stdout",
     "output_type": "stream",
     "text": [
      "Initialization Completed\n"
     ]
    },
    {
     "name": "stderr",
     "output_type": "stream",
     "text": [
      "100%|██████████| 10/10 [12:37<00:00, 75.78s/it]  \n"
     ]
    },
    {
     "data": {
      "text/plain": [
       "['Premises187',\n",
       " 'SmashCM79',\n",
       " 'enrique_tarrio',\n",
       " 'Virgil_McMahon',\n",
       " 'principe_giovan',\n",
       " 'ProudBoysUS',\n",
       " 'MoralDK',\n",
       " 'UKProudBoys',\n",
       " 'tpope88834',\n",
       " 'proudboy_']"
      ]
     },
     "execution_count": 22,
     "metadata": {},
     "output_type": "execute_result"
    }
   ],
   "source": [
    "mia_trivalency.MIA_fast(pb2020_trivalency, 10, 0.01)"
   ]
  },
  {
   "cell_type": "markdown",
   "metadata": {},
   "source": [
    "# ICM probabilities model + MIA"
   ]
  },
  {
   "cell_type": "code",
   "execution_count": 16,
   "metadata": {},
   "outputs": [],
   "source": [
    "ICM_model_2020 = Independent_Cascade()\n",
    "ICM_model_2020.fit(pb2020)"
   ]
  },
  {
   "cell_type": "code",
   "execution_count": 17,
   "metadata": {},
   "outputs": [],
   "source": [
    "# overwrite the weights in pb20_comms_subgraphs[12] as q/in-degree of the node for the outgoing edges of said node, where q=1\n",
    "pb2020_ICM = pb2020.copy()\n",
    "for edge in pb2020_ICM.edges():\n",
    "    prob = ICM_model_2020.probability[ICM_model_2020.label2id[edge[0]], ICM_model_2020.label2id[edge[1]]]\n",
    "    \n",
    "    if pb2020_ICM.in_degree(edge[0]) == 0: # to avoid division by 0\n",
    "        \n",
    "        pb2020_ICM[edge[0]][edge[1]]['weight'] = prob\n",
    "        pb2020_ICM[edge[0]][edge[1]]['weight_negative_log'] = np.abs(np.log(prob + 0.00000001)) # to avoid diverging to - infinity\n",
    "    else:\n",
    "        \n",
    "        pb2020_ICM[edge[0]][edge[1]]['weight'] = prob\n",
    "        pb2020_ICM[edge[0]][edge[1]]['weight_negative_log'] = np.abs(np.log(prob))\n"
   ]
  },
  {
   "cell_type": "code",
   "execution_count": 18,
   "metadata": {},
   "outputs": [
    {
     "data": {
      "text/plain": [
       "array([0.16666667, 0.2       , 0.25      , 0.33333333, 0.5       ,\n",
       "       1.        ])"
      ]
     },
     "execution_count": 18,
     "metadata": {},
     "output_type": "execute_result"
    }
   ],
   "source": [
    "np.unique([pb2020_ICM[edge[0]][edge[1]]['weight'] for edge in pb2020_ICM.edges()])"
   ]
  },
  {
   "cell_type": "code",
   "execution_count": 19,
   "metadata": {},
   "outputs": [
    {
     "data": {
      "text/plain": [
       "array([0.00000000e+00, 9.99999989e-09, 6.93147161e-01, 1.09861226e+00,\n",
       "       1.09861229e+00, 1.38629432e+00, 1.38629436e+00, 1.60943786e+00,\n",
       "       1.60943791e+00, 1.79175941e+00, 1.79175947e+00])"
      ]
     },
     "execution_count": 19,
     "metadata": {},
     "output_type": "execute_result"
    }
   ],
   "source": [
    "np.unique([pb2020_ICM[edge[0]][edge[1]]['weight_negative_log'] for edge in pb2020_ICM.edges()])"
   ]
  },
  {
   "cell_type": "code",
   "execution_count": 20,
   "metadata": {},
   "outputs": [],
   "source": [
    "mia_ICM = MIA(pb2020_ICM)"
   ]
  },
  {
   "cell_type": "code",
   "execution_count": 21,
   "metadata": {},
   "outputs": [
    {
     "name": "stdout",
     "output_type": "stream",
     "text": [
      "Starting MIA intialization\n"
     ]
    },
    {
     "name": "stderr",
     "output_type": "stream",
     "text": [
      "100%|██████████| 13217/13217 [00:30<00:00, 427.08it/s]\n"
     ]
    },
    {
     "name": "stdout",
     "output_type": "stream",
     "text": [
      "Initialization Completed\n"
     ]
    },
    {
     "name": "stderr",
     "output_type": "stream",
     "text": [
      "100%|██████████| 10/10 [02:09<00:00, 12.96s/it]\n"
     ]
    },
    {
     "data": {
      "text/plain": [
       "['Premises187',\n",
       " 'SmashCM79',\n",
       " 'enrique_tarrio',\n",
       " 'ProudGirlUK',\n",
       " 'ProudBoysUS',\n",
       " 'principe_giovan',\n",
       " 'proudboy_',\n",
       " 'MoralDK',\n",
       " 'TheWesternChauv',\n",
       " 'proudboy2012']"
      ]
     },
     "execution_count": 21,
     "metadata": {},
     "output_type": "execute_result"
    }
   ],
   "source": [
    "mia_ICM.MIA_fast(pb2020_ICM, 10, 0.5)"
   ]
  }
 ],
 "metadata": {
  "kernelspec": {
   "display_name": "Python 3.10.6 ('NS')",
   "language": "python",
   "name": "python3"
  },
  "language_info": {
   "codemirror_mode": {
    "name": "ipython",
    "version": 3
   },
   "file_extension": ".py",
   "mimetype": "text/x-python",
   "name": "python",
   "nbconvert_exporter": "python",
   "pygments_lexer": "ipython3",
   "version": "3.10.6"
  },
  "orig_nbformat": 4,
  "vscode": {
   "interpreter": {
    "hash": "08b691cf8a3a31d1bdec91e16636791722048a283f28ba8b35477374ad55e1c6"
   }
  }
 },
 "nbformat": 4,
 "nbformat_minor": 2
}
