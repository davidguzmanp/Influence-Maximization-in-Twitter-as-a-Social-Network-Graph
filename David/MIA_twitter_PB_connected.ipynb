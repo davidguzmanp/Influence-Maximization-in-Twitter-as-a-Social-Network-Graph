{
 "cells": [
  {
   "cell_type": "code",
   "execution_count": 3,
   "metadata": {},
   "outputs": [],
   "source": [
    "import networkx as nx\n",
    "from diffusion_models import Weighted_Cascade, Trivalency_Model, Independent_Cascade\n",
    "from influence_max_algorithms import MIA\n",
    "import matplotlib.pyplot as plt\n",
    "import numpy as np\n",
    "import tqdm as tqdm\n",
    "import time as time\n"
   ]
  },
  {
   "cell_type": "code",
   "execution_count": 2,
   "metadata": {},
   "outputs": [],
   "source": [
    "pb2020 = nx.read_gml('/Users/davidguzman/Documents/GitHub/Network-Science-final-Maximization-/Proud_Boys_Datsets/PB2020.gml')"
   ]
  },
  {
   "cell_type": "code",
   "execution_count": 4,
   "metadata": {},
   "outputs": [],
   "source": [
    "#invert edge direction for PB2020\n",
    "pb2020 = pb2020.reverse()"
   ]
  },
  {
   "cell_type": "code",
   "execution_count": 5,
   "metadata": {},
   "outputs": [
    {
     "data": {
      "image/png": "[encoded data removed]",
      "text/plain": [
       "<Figure size 1100x660 with 1 Axes>"
      ]
     },
     "metadata": {},
     "output_type": "display_data"
    }
   ],
   "source": [
    "#print in-degree distribution for pb2020\n",
    "deg = [d for n, d in pb2020.out_degree()] # we use out degree because they inverted the direction of the edges\n",
    "# replace 0 values with 0.000001\n",
    "deg = [0.000001 if x == 0 else x for x in deg]\n",
    "plt.figure(figsize=(10,6), dpi=110)\n",
    "my_bins = np.logspace(np.log10(min(deg)),np.log10(max(deg) +1), 30 ) \n",
    "plt.hist(deg, bins=my_bins, density = True, color = \"lightblue\", ec=\"black\")\n",
    "plt.title(\"in-degree distribution Twitter\")\n",
    "plt.ylabel(\"Probability\")\n",
    "plt.xlabel(\"Degree\") \n",
    "plt.xscale('log')\n",
    "plt.yscale('log')\n",
    "plt.show()"
   ]
  },
  {
   "cell_type": "markdown",
   "metadata": {},
   "source": [
    "# Weighted Cascade probabilities + MIA"
   ]
  },
  {
   "cell_type": "code",
   "execution_count": 6,
   "metadata": {},
   "outputs": [],
   "source": [
    "weighted_cascade_model_2020 = Weighted_Cascade()\n",
    "weighted_cascade_model_2020.fit(pb2020)"
   ]
  },
  {
   "cell_type": "code",
   "execution_count": 11,
   "metadata": {},
   "outputs": [],
   "source": [
    "# overwrite the weights in pb20_comms_subgraphs[12] as q/in-degree of the node for the outgoing edges of said node, where q=1\n",
    "pb2020_weighted_cascade = pb2020.copy()\n",
    "for edge in pb2020_weighted_cascade.edges():\n",
    "    prob = weighted_cascade_model_2020.probability[weighted_cascade_model_2020.label2id[edge[0]], weighted_cascade_model_2020.label2id[edge[1]]]\n",
    "    \n",
    "    if pb2020_weighted_cascade.in_degree(edge[0]) == 0: # to avoid division by 0\n",
    "        \n",
    "        pb2020_weighted_cascade[edge[0]][edge[1]]['weight'] = prob\n",
    "        pb2020_weighted_cascade[edge[0]][edge[1]]['weight_negative_log'] = np.abs(np.log(prob + 0.00000001)) # to avoid diverging to - infinity\n",
    "    else:\n",
    "        \n",
    "        pb2020_weighted_cascade[edge[0]][edge[1]]['weight'] = prob\n",
    "        pb2020_weighted_cascade[edge[0]][edge[1]]['weight_negative_log'] = np.abs(np.log(prob))\n"
   ]
  },
  {
   "cell_type": "code",
   "execution_count": 41,
   "metadata": {},
   "outputs": [
    {
     "data": {
      "text/plain": [
       "array([2.29042602e-04, 2.63088661e-04, 7.01262272e-04, 1.12866817e-03,\n",
       "       1.65562914e-03, 1.94552529e-03, 5.12820513e-03, 5.34759358e-03,\n",
       "       5.61797753e-03, 5.98802395e-03, 8.54700855e-03, 9.43396226e-03,\n",
       "       2.12765957e-02, 2.38095238e-02, 4.34782609e-02, 8.33333333e-02,\n",
       "       1.00000000e-01, 1.11111111e-01, 1.66666667e-01, 2.50000000e-01,\n",
       "       3.33333333e-01, 5.00000000e-01, 1.00000000e+00])"
      ]
     },
     "execution_count": 41,
     "metadata": {},
     "output_type": "execute_result"
    }
   ],
   "source": [
    "# print unique weights \n",
    "new = np.unique([pb2020_weighted_cascade[edge[0]][edge[1]]['weight'] for edge in pb2020_weighted_cascade.edges()])\n",
    "new"
   ]
  },
  {
   "cell_type": "code",
   "execution_count": 38,
   "metadata": {},
   "outputs": [],
   "source": [
    "old = [0.00000000e+00, 2.29042602e-04, 2.63088661e-04, 7.01262272e-04,\n",
    "1.12866817e-03, 1.65562914e-03, 1.94552529e-03, 5.12820513e-03,\n",
    " 5.34759358e-03, 5.61797753e-03, 5.98802395e-03, 8.54700855e-03,\n",
    " 9.43396226e-03, 2.12765957e-02, 2.38095238e-02, 4.34782609e-02,\n",
    " 8.33333333e-02, 1.00000000e-01, 1.11111111e-01, 1.66666667e-01,\n",
    " 2.50000000e-01, 3.33333333e-01, 5.00000000e-01, 1.00000000e+00]"
   ]
  },
  {
   "cell_type": "code",
   "execution_count": 42,
   "metadata": {},
   "outputs": [
    {
     "data": {
      "text/html": [
       "<div>\n",
       "<style scoped>\n",
       "    .dataframe tbody tr th:only-of-type {\n",
       "        vertical-align: middle;\n",
       "    }\n",
       "\n",
       "    .dataframe tbody tr th {\n",
       "        vertical-align: top;\n",
       "    }\n",
       "\n",
       "    .dataframe thead th {\n",
       "        text-align: right;\n",
       "    }\n",
       "</style>\n",
       "<table border=\"1\" class=\"dataframe\">\n",
       "  <thead>\n",
       "    <tr style=\"text-align: right;\">\n",
       "      <th></th>\n",
       "      <th>old</th>\n",
       "      <th>new</th>\n",
       "    </tr>\n",
       "  </thead>\n",
       "  <tbody>\n",
       "    <tr>\n",
       "      <th>0</th>\n",
       "      <td>0.000000</td>\n",
       "      <td>0.000000</td>\n",
       "    </tr>\n",
       "    <tr>\n",
       "      <th>1</th>\n",
       "      <td>0.000229</td>\n",
       "      <td>0.000229</td>\n",
       "    </tr>\n",
       "    <tr>\n",
       "      <th>2</th>\n",
       "      <td>0.000263</td>\n",
       "      <td>0.000263</td>\n",
       "    </tr>\n",
       "    <tr>\n",
       "      <th>3</th>\n",
       "      <td>0.000701</td>\n",
       "      <td>0.000701</td>\n",
       "    </tr>\n",
       "    <tr>\n",
       "      <th>4</th>\n",
       "      <td>0.001129</td>\n",
       "      <td>0.001129</td>\n",
       "    </tr>\n",
       "    <tr>\n",
       "      <th>5</th>\n",
       "      <td>0.001656</td>\n",
       "      <td>0.001656</td>\n",
       "    </tr>\n",
       "    <tr>\n",
       "      <th>6</th>\n",
       "      <td>0.001946</td>\n",
       "      <td>0.001946</td>\n",
       "    </tr>\n",
       "    <tr>\n",
       "      <th>7</th>\n",
       "      <td>0.005128</td>\n",
       "      <td>0.005128</td>\n",
       "    </tr>\n",
       "    <tr>\n",
       "      <th>8</th>\n",
       "      <td>0.005348</td>\n",
       "      <td>0.005348</td>\n",
       "    </tr>\n",
       "    <tr>\n",
       "      <th>9</th>\n",
       "      <td>0.005618</td>\n",
       "      <td>0.005618</td>\n",
       "    </tr>\n",
       "    <tr>\n",
       "      <th>10</th>\n",
       "      <td>0.005988</td>\n",
       "      <td>0.005988</td>\n",
       "    </tr>\n",
       "    <tr>\n",
       "      <th>11</th>\n",
       "      <td>0.008547</td>\n",
       "      <td>0.008547</td>\n",
       "    </tr>\n",
       "    <tr>\n",
       "      <th>12</th>\n",
       "      <td>0.009434</td>\n",
       "      <td>0.009434</td>\n",
       "    </tr>\n",
       "    <tr>\n",
       "      <th>13</th>\n",
       "      <td>0.021277</td>\n",
       "      <td>0.021277</td>\n",
       "    </tr>\n",
       "    <tr>\n",
       "      <th>14</th>\n",
       "      <td>0.023810</td>\n",
       "      <td>0.023810</td>\n",
       "    </tr>\n",
       "    <tr>\n",
       "      <th>15</th>\n",
       "      <td>0.043478</td>\n",
       "      <td>0.043478</td>\n",
       "    </tr>\n",
       "    <tr>\n",
       "      <th>16</th>\n",
       "      <td>0.083333</td>\n",
       "      <td>0.083333</td>\n",
       "    </tr>\n",
       "    <tr>\n",
       "      <th>17</th>\n",
       "      <td>0.100000</td>\n",
       "      <td>0.100000</td>\n",
       "    </tr>\n",
       "    <tr>\n",
       "      <th>18</th>\n",
       "      <td>0.111111</td>\n",
       "      <td>0.111111</td>\n",
       "    </tr>\n",
       "    <tr>\n",
       "      <th>19</th>\n",
       "      <td>0.166667</td>\n",
       "      <td>0.166667</td>\n",
       "    </tr>\n",
       "    <tr>\n",
       "      <th>20</th>\n",
       "      <td>0.250000</td>\n",
       "      <td>0.250000</td>\n",
       "    </tr>\n",
       "    <tr>\n",
       "      <th>21</th>\n",
       "      <td>0.333333</td>\n",
       "      <td>0.333333</td>\n",
       "    </tr>\n",
       "    <tr>\n",
       "      <th>22</th>\n",
       "      <td>0.500000</td>\n",
       "      <td>0.500000</td>\n",
       "    </tr>\n",
       "    <tr>\n",
       "      <th>23</th>\n",
       "      <td>1.000000</td>\n",
       "      <td>1.000000</td>\n",
       "    </tr>\n",
       "  </tbody>\n",
       "</table>\n",
       "</div>"
      ],
      "text/plain": [
       "         old       new\n",
       "0   0.000000  0.000000\n",
       "1   0.000229  0.000229\n",
       "2   0.000263  0.000263\n",
       "3   0.000701  0.000701\n",
       "4   0.001129  0.001129\n",
       "5   0.001656  0.001656\n",
       "6   0.001946  0.001946\n",
       "7   0.005128  0.005128\n",
       "8   0.005348  0.005348\n",
       "9   0.005618  0.005618\n",
       "10  0.005988  0.005988\n",
       "11  0.008547  0.008547\n",
       "12  0.009434  0.009434\n",
       "13  0.021277  0.021277\n",
       "14  0.023810  0.023810\n",
       "15  0.043478  0.043478\n",
       "16  0.083333  0.083333\n",
       "17  0.100000  0.100000\n",
       "18  0.111111  0.111111\n",
       "19  0.166667  0.166667\n",
       "20  0.250000  0.250000\n",
       "21  0.333333  0.333333\n",
       "22  0.500000  0.500000\n",
       "23  1.000000  1.000000"
      ]
     },
     "execution_count": 42,
     "metadata": {},
     "output_type": "execute_result"
    }
   ],
   "source": [
    "#print old an new as flattened, sorted arrays in columns of a dataframe, add padding to have the same length\n",
    "import pandas as pd\n",
    "#sort arrays\n",
    "old.sort()\n",
    "new.sort()\n",
    "#add padding of one zero at the beginning of the new array\n",
    "new = np.insert(new, 0, 0)\n",
    "\n",
    "df = pd.DataFrame({'old': old, 'new': new})\n",
    "df"
   ]
  },
  {
   "cell_type": "code",
   "execution_count": 45,
   "metadata": {},
   "outputs": [
    {
     "name": "stdout",
     "output_type": "stream",
     "text": [
      "[0.00000000e+00 9.99999989e-09 6.93147161e-01 6.93147181e-01\n",
      " 1.09861226e+00 1.09861229e+00 1.38629432e+00 1.38629436e+00\n",
      " 1.79175941e+00 1.79175947e+00 2.19722449e+00 2.19722458e+00\n",
      " 2.30258499e+00 2.30258509e+00 2.48490653e+00 2.48490665e+00\n",
      " 3.13549399e+00 3.13549422e+00 3.73766920e+00 3.73766962e+00\n",
      " 3.85014713e+00 3.85014760e+00 4.66343803e+00 4.66343909e+00\n",
      " 4.76217276e+00 4.76217393e+00 5.11799214e+00 5.11799381e+00\n",
      " 5.18178177e+00 5.18178355e+00 5.23110675e+00 5.23110862e+00\n",
      " 5.27299761e+00 5.27299956e+00 6.24221813e+00 6.24222327e+00\n",
      " 6.40356816e+00 6.40357420e+00 6.78670809e+00 6.78671695e+00\n",
      " 7.26261434e+00 7.26262860e+00 8.24298146e+00 8.24301947e+00\n",
      " 8.38155888e+00 8.38160254e+00]\n"
     ]
    }
   ],
   "source": [
    "# print unique weights \n",
    "print(np.unique([pb2020_weighted_cascade[edge[0]][edge[1]]['weight_negative_log'] for edge in pb2020_weighted_cascade.edges()]))\n"
   ]
  },
  {
   "cell_type": "code",
   "execution_count": 50,
   "metadata": {},
   "outputs": [],
   "source": [
    "mia = MIA(pb2020_weighted_cascade)"
   ]
  },
  {
   "cell_type": "code",
   "execution_count": 51,
   "metadata": {},
   "outputs": [
    {
     "name": "stdout",
     "output_type": "stream",
     "text": [
      "Starting MIA intialization\n"
     ]
    },
    {
     "name": "stderr",
     "output_type": "stream",
     "text": [
      "100%|██████████| 13217/13217 [00:42<00:00, 312.77it/s]\n"
     ]
    },
    {
     "name": "stdout",
     "output_type": "stream",
     "text": [
      "Initialization Completed\n"
     ]
    },
    {
     "name": "stderr",
     "output_type": "stream",
     "text": [
      "100%|██████████| 10/10 [01:44<00:00, 10.43s/it]\n"
     ]
    },
    {
     "data": {
      "text/plain": [
       "['principe_giovan',\n",
       " 'Premises187',\n",
       " 'MoralDK',\n",
       " 'proudboy_',\n",
       " 'enrique_tarrio',\n",
       " 'GavinM_ProudBoy',\n",
       " 'proudboy2012',\n",
       " 'ProudBoysGBG',\n",
       " 'ProudBoysUS',\n",
       " 'ProudBoyzLondon']"
      ]
     },
     "execution_count": 51,
     "metadata": {},
     "output_type": "execute_result"
    }
   ],
   "source": [
    "mia.MIA_fast(pb2020_weighted_cascade, 10, 0.5)"
   ]
  },
  {
   "cell_type": "markdown",
   "metadata": {},
   "source": [
    "# Trivalency probabilities + MIA "
   ]
  },
  {
   "cell_type": "code",
   "execution_count": 6,
   "metadata": {},
   "outputs": [],
   "source": [
    "trivalency_model_2020 = Trivalency_Model()\n",
    "trivalency_model_2020.fit(pb2020)"
   ]
  },
  {
   "cell_type": "code",
   "execution_count": 8,
   "metadata": {},
   "outputs": [],
   "source": [
    "# overwrite the weights in pb20_comms_subgraphs[12] as q/in-degree of the node for the outgoing edges of said node, where q=1\n",
    "pb2020_trivalency = pb2020.copy()\n",
    "for edge in pb2020_trivalency.edges():\n",
    "    prob = trivalency_model_2020.probability[trivalency_model_2020.label2id[edge[0]], trivalency_model_2020.label2id[edge[1]]]\n",
    "    \n",
    "    if pb2020_trivalency.in_degree(edge[0]) == 0: # to avoid division by 0\n",
    "        \n",
    "        pb2020_trivalency[edge[0]][edge[1]]['weight'] = prob\n",
    "        pb2020_trivalency[edge[0]][edge[1]]['weight_negative_log'] = np.abs(np.log(prob + 0.00000001)) # to avoid diverging to - infinity\n",
    "    else:\n",
    "        \n",
    "        pb2020_trivalency[edge[0]][edge[1]]['weight'] = prob\n",
    "        pb2020_trivalency[edge[0]][edge[1]]['weight_negative_log'] = np.abs(np.log(prob))\n"
   ]
  },
  {
   "cell_type": "code",
   "execution_count": 11,
   "metadata": {},
   "outputs": [
    {
     "data": {
      "text/plain": [
       "array([0.001, 0.01 , 0.1  ])"
      ]
     },
     "execution_count": 11,
     "metadata": {},
     "output_type": "execute_result"
    }
   ],
   "source": [
    "np.unique([pb2020_trivalency[edge[0]][edge[1]]['weight'] for edge in pb2020_trivalency.edges()])"
   ]
  },
  {
   "cell_type": "code",
   "execution_count": 12,
   "metadata": {},
   "outputs": [
    {
     "name": "stdout",
     "output_type": "stream",
     "text": [
      "[2.30258499 2.30258509 4.60516919 4.60517019 6.90774528 6.90775528]\n"
     ]
    }
   ],
   "source": [
    "print(np.unique([pb2020_trivalency[edge[0]][edge[1]]['weight_negative_log'] for edge in pb2020_trivalency.edges()]))\n"
   ]
  },
  {
   "cell_type": "code",
   "execution_count": 13,
   "metadata": {},
   "outputs": [],
   "source": [
    "mia_trivalency = MIA(pb2020_trivalency)"
   ]
  },
  {
   "cell_type": "code",
   "execution_count": 14,
   "metadata": {},
   "outputs": [
    {
     "name": "stdout",
     "output_type": "stream",
     "text": [
      "Starting MIA intialization\n"
     ]
    },
    {
     "name": "stderr",
     "output_type": "stream",
     "text": [
      "100%|██████████| 13217/13217 [00:30<00:00, 438.55it/s]\n"
     ]
    },
    {
     "name": "stdout",
     "output_type": "stream",
     "text": [
      "Initialization Completed\n"
     ]
    },
    {
     "name": "stderr",
     "output_type": "stream",
     "text": [
      "100%|██████████| 10/10 [01:13<00:00,  7.38s/it]\n"
     ]
    },
    {
     "data": {
      "text/plain": [
       "['ColoradoPOYB',\n",
       " 'ColoradoPOYB',\n",
       " 'ColoradoPOYB',\n",
       " 'ColoradoPOYB',\n",
       " 'ColoradoPOYB',\n",
       " 'ColoradoPOYB',\n",
       " 'ColoradoPOYB',\n",
       " 'ColoradoPOYB',\n",
       " 'ColoradoPOYB',\n",
       " 'ColoradoPOYB']"
      ]
     },
     "execution_count": 14,
     "metadata": {},
     "output_type": "execute_result"
    }
   ],
   "source": [
    "mia_trivalency.MIA_fast(pb2020_trivalency, 10, 0.5)"
   ]
  },
  {
   "cell_type": "markdown",
   "metadata": {},
   "source": [
    "# ICM probabilities model + MIA"
   ]
  },
  {
   "cell_type": "code",
   "execution_count": 16,
   "metadata": {},
   "outputs": [],
   "source": [
    "ICM_model_2020 = Independent_Cascade()\n",
    "ICM_model_2020.fit(pb2020)"
   ]
  },
  {
   "cell_type": "code",
   "execution_count": 17,
   "metadata": {},
   "outputs": [],
   "source": [
    "# overwrite the weights in pb20_comms_subgraphs[12] as q/in-degree of the node for the outgoing edges of said node, where q=1\n",
    "pb2020_ICM = pb2020.copy()\n",
    "for edge in pb2020_ICM.edges():\n",
    "    prob = ICM_model_2020.probability[ICM_model_2020.label2id[edge[0]], ICM_model_2020.label2id[edge[1]]]\n",
    "    \n",
    "    if pb2020_ICM.in_degree(edge[0]) == 0: # to avoid division by 0\n",
    "        \n",
    "        pb2020_ICM[edge[0]][edge[1]]['weight'] = prob\n",
    "        pb2020_ICM[edge[0]][edge[1]]['weight_negative_log'] = np.abs(np.log(prob + 0.00000001)) # to avoid diverging to - infinity\n",
    "    else:\n",
    "        \n",
    "        pb2020_ICM[edge[0]][edge[1]]['weight'] = prob\n",
    "        pb2020_ICM[edge[0]][edge[1]]['weight_negative_log'] = np.abs(np.log(prob))\n"
   ]
  },
  {
   "cell_type": "code",
   "execution_count": 18,
   "metadata": {},
   "outputs": [
    {
     "data": {
      "text/plain": [
       "array([0.16666667, 0.2       , 0.25      , 0.33333333, 0.5       ,\n",
       "       1.        ])"
      ]
     },
     "execution_count": 18,
     "metadata": {},
     "output_type": "execute_result"
    }
   ],
   "source": [
    "np.unique([pb2020_ICM[edge[0]][edge[1]]['weight'] for edge in pb2020_ICM.edges()])"
   ]
  },
  {
   "cell_type": "code",
   "execution_count": 19,
   "metadata": {},
   "outputs": [
    {
     "data": {
      "text/plain": [
       "array([0.00000000e+00, 9.99999989e-09, 6.93147161e-01, 1.09861226e+00,\n",
       "       1.09861229e+00, 1.38629432e+00, 1.38629436e+00, 1.60943786e+00,\n",
       "       1.60943791e+00, 1.79175941e+00, 1.79175947e+00])"
      ]
     },
     "execution_count": 19,
     "metadata": {},
     "output_type": "execute_result"
    }
   ],
   "source": [
    "np.unique([pb2020_ICM[edge[0]][edge[1]]['weight_negative_log'] for edge in pb2020_ICM.edges()])"
   ]
  },
  {
   "cell_type": "code",
   "execution_count": 20,
   "metadata": {},
   "outputs": [],
   "source": [
    "mia_ICM = MIA(pb2020_ICM)"
   ]
  },
  {
   "cell_type": "code",
   "execution_count": 21,
   "metadata": {},
   "outputs": [
    {
     "name": "stdout",
     "output_type": "stream",
     "text": [
      "Starting MIA intialization\n"
     ]
    },
    {
     "name": "stderr",
     "output_type": "stream",
     "text": [
      "100%|██████████| 13217/13217 [00:30<00:00, 427.08it/s]\n"
     ]
    },
    {
     "name": "stdout",
     "output_type": "stream",
     "text": [
      "Initialization Completed\n"
     ]
    },
    {
     "name": "stderr",
     "output_type": "stream",
     "text": [
      "100%|██████████| 10/10 [02:09<00:00, 12.96s/it]\n"
     ]
    },
    {
     "data": {
      "text/plain": [
       "['Premises187',\n",
       " 'SmashCM79',\n",
       " 'enrique_tarrio',\n",
       " 'ProudGirlUK',\n",
       " 'ProudBoysUS',\n",
       " 'principe_giovan',\n",
       " 'proudboy_',\n",
       " 'MoralDK',\n",
       " 'TheWesternChauv',\n",
       " 'proudboy2012']"
      ]
     },
     "execution_count": 21,
     "metadata": {},
     "output_type": "execute_result"
    }
   ],
   "source": [
    "mia_ICM.MIA_fast(pb2020_ICM, 10, 0.5)"
   ]
  }
 ],
 "metadata": {
  "kernelspec": {
   "display_name": "Python 3.10.6 ('NS')",
   "language": "python",
   "name": "python3"
  },
  "language_info": {
   "codemirror_mode": {
    "name": "ipython",
    "version": 3
   },
   "file_extension": ".py",
   "mimetype": "text/x-python",
   "name": "python",
   "nbconvert_exporter": "python",
   "pygments_lexer": "ipython3",
   "version": "3.10.6"
  },
  "orig_nbformat": 4,
  "vscode": {
   "interpreter": {
    "hash": "08b691cf8a3a31d1bdec91e16636791722048a283f28ba8b35477374ad55e1c6"
   }
  }
 },
 "nbformat": 4,
 "nbformat_minor": 2
}
