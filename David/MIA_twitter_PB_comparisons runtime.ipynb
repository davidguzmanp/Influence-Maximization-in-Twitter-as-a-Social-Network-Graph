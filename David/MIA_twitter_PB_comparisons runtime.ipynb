{
 "cells": [
  {
   "cell_type": "code",
   "execution_count": 2,
   "metadata": {},
   "outputs": [],
   "source": [
    "import networkx as nx\n",
    "from diffusion_models import Weighted_Cascade, Trivalency_Model, Independent_Cascade, Decreasing_Cascade, linear_threshold, general_threshold\n",
    "from influence_max_algorithms import MIA\n",
    "import matplotlib.pyplot as plt\n",
    "import numpy as np\n",
    "import tqdm as tqdm\n",
    "import time as time\n",
    "import pandas as pd\n",
    "\n",
    "from nbc import non_backtracking_centrality\n",
    "\n",
    "import pickle\n"
   ]
  },
  {
   "cell_type": "code",
   "execution_count": 4,
   "metadata": {},
   "outputs": [],
   "source": [
    "pb2020 = nx.read_gml('/Users/davidguzman/Documents/GitHub/Network-Science-final-Maximization-/Proud_Boys_Datsets/PB2020.gml')"
   ]
  },
  {
   "cell_type": "code",
   "execution_count": 5,
   "metadata": {},
   "outputs": [],
   "source": [
    "#invert edge direction for PB2020\n",
    "pb2020 = pb2020.reverse()"
   ]
  },
  {
   "cell_type": "code",
   "execution_count": 6,
   "metadata": {},
   "outputs": [
    {
     "name": "stdout",
     "output_type": "stream",
     "text": [
      "Number of nodes:  13217\n",
      "Number of edges:  14477\n"
     ]
    }
   ],
   "source": [
    "#print number of nodes and edges\n",
    "print('Number of nodes: ', pb2020.number_of_nodes())\n",
    "print('Number of edges: ', pb2020.number_of_edges())"
   ]
  },
  {
   "cell_type": "code",
   "execution_count": 5,
   "metadata": {},
   "outputs": [],
   "source": [
    "seed_size = 30"
   ]
  },
  {
   "cell_type": "code",
   "execution_count": 7,
   "metadata": {},
   "outputs": [
    {
     "data": {
      "text/plain": [
       "<networkx.classes.digraph.DiGraph at 0x13fcbc700>"
      ]
     },
     "execution_count": 7,
     "metadata": {},
     "output_type": "execute_result"
    }
   ],
   "source": [
    "ICM_model_2020 = Independent_Cascade()\n",
    "ICM_model_2020.fit(pb2020)\n",
    "decreasing_cascade_model_2020 = Decreasing_Cascade()\n",
    "decreasing_cascade_model_2020.fit(pb2020)\n",
    "weighted_cascade_model_2020 = Weighted_Cascade()\n",
    "weighted_cascade_model_2020.fit(pb2020)\n",
    "trivalency_model_2020 = Trivalency_Model()\n",
    "trivalency_model_2020.fit(pb2020)\n",
    "linear_threshold_model_2020 = linear_threshold()\n",
    "linear_threshold_model_2020.fit(pb2020)\n",
    "general_threshold_model_2020 = general_threshold()\n",
    "general_threshold_model_2020.fit(pb2020)"
   ]
  },
  {
   "cell_type": "code",
   "execution_count": 8,
   "metadata": {},
   "outputs": [],
   "source": [
    "def assing_model_probs_to_weights(model):\n",
    "    pb2020_model = pb2020.copy()\n",
    "    for edge in pb2020_model.edges():\n",
    "        prob = model.probability[model.label2id[edge[0]], model.label2id[edge[1]]]\n",
    "\n",
    "        if pb2020_model.in_degree(edge[0]) == 0: # to avoid division by 0\n",
    "\n",
    "            pb2020_model[edge[0]][edge[1]]['weight'] = prob\n",
    "            pb2020_model[edge[0]][edge[1]]['weight_negative_log'] = np.abs(np.log(prob + 0.00000001)) # to avoid diverging to - infinity\n",
    "        else:\n",
    "\n",
    "            pb2020_model[edge[0]][edge[1]]['weight'] = prob\n",
    "            pb2020_model[edge[0]][edge[1]]['weight_negative_log'] = np.abs(np.log(prob))\n",
    "    return pb2020_model"
   ]
  },
  {
   "cell_type": "code",
   "execution_count": 9,
   "metadata": {},
   "outputs": [],
   "source": [
    "def assing_model_probs_to_weights_threshold(model):\n",
    "    pb2020_model = pb2020.copy()\n",
    "    for edge in pb2020_model.edges():\n",
    "        prob = model.influence[model.label2id[edge[0]], model.label2id[edge[1]]]\n",
    "\n",
    "        if pb2020_model.in_degree(edge[0]) == 0: # to avoid division by 0\n",
    "\n",
    "            pb2020_model[edge[0]][edge[1]]['weight'] = prob\n",
    "            pb2020_model[edge[0]][edge[1]]['weight_negative_log'] = np.abs(np.log(prob + 0.00000001)) # to avoid diverging to - infinity\n",
    "        else:\n",
    "\n",
    "            pb2020_model[edge[0]][edge[1]]['weight'] = prob\n",
    "            pb2020_model[edge[0]][edge[1]]['weight_negative_log'] = np.abs(np.log(prob))\n",
    "    return pb2020_model"
   ]
  },
  {
   "attachments": {},
   "cell_type": "markdown",
   "metadata": {},
   "source": [
    "# Diffusion models + MIA"
   ]
  },
  {
   "cell_type": "code",
   "execution_count": 10,
   "metadata": {},
   "outputs": [],
   "source": [
    "pb2020_independent_cascade = assing_model_probs_to_weights(ICM_model_2020)\n",
    "pb2020_weighted_cascade = assing_model_probs_to_weights(weighted_cascade_model_2020)\n",
    "pb2020_decreasing_cascade = assing_model_probs_to_weights(decreasing_cascade_model_2020)\n",
    "pb2020_trivalency = assing_model_probs_to_weights(trivalency_model_2020)"
   ]
  },
  {
   "cell_type": "code",
   "execution_count": 11,
   "metadata": {},
   "outputs": [],
   "source": [
    "pb2020_linear_threshold = assing_model_probs_to_weights_threshold(linear_threshold_model_2020)\n",
    "pb2020_general_threshold = assing_model_probs_to_weights_threshold(general_threshold_model_2020)"
   ]
  },
  {
   "cell_type": "code",
   "execution_count": 11,
   "metadata": {},
   "outputs": [],
   "source": [
    "mia = MIA(pb2020_weighted_cascade)\n",
    "mia_icm = MIA(pb2020_independent_cascade)\n",
    "mia_decreasing = MIA(pb2020_decreasing_cascade)\n",
    "mia_trivalency = MIA(pb2020_trivalency)\n",
    "mia_linear_threshold = MIA(pb2020_linear_threshold)\n",
    "mia_general_threshold = MIA(pb2020_general_threshold)"
   ]
  },
  {
   "attachments": {},
   "cell_type": "markdown",
   "metadata": {},
   "source": [
    "### calcualtion of MIA"
   ]
  },
  {
   "cell_type": "code",
   "execution_count": 12,
   "metadata": {},
   "outputs": [
    {
     "name": "stdout",
     "output_type": "stream",
     "text": [
      "1.3113021850585938e-05\n"
     ]
    }
   ],
   "source": [
    "start = time.time()\n",
    "\n",
    "end = time.time()\n",
    "\n",
    "print(end - start)"
   ]
  },
  {
   "cell_type": "code",
   "execution_count": 13,
   "metadata": {},
   "outputs": [
    {
     "name": "stdout",
     "output_type": "stream",
     "text": [
      "Starting MIA intialization\n"
     ]
    },
    {
     "name": "stderr",
     "output_type": "stream",
     "text": [
      "100%|██████████| 13217/13217 [00:42<00:00, 309.16it/s]\n"
     ]
    },
    {
     "name": "stdout",
     "output_type": "stream",
     "text": [
      "Initialization Completed\n"
     ]
    },
    {
     "name": "stderr",
     "output_type": "stream",
     "text": [
      "100%|██████████| 20/20 [04:14<00:00, 12.72s/it]\n"
     ]
    }
   ],
   "source": [
    "seed_wcm, timings_wcm = mia.MIA_fast_timed(pb2020_weighted_cascade, 20, 0.5)"
   ]
  },
  {
   "cell_type": "code",
   "execution_count": 12,
   "metadata": {},
   "outputs": [
    {
     "name": "stdout",
     "output_type": "stream",
     "text": [
      "Starting MIA intialization\n"
     ]
    },
    {
     "name": "stderr",
     "output_type": "stream",
     "text": [
      "100%|██████████| 13217/13217 [00:46<00:00, 282.38it/s]\n"
     ]
    },
    {
     "name": "stdout",
     "output_type": "stream",
     "text": [
      "Initialization Completed\n"
     ]
    },
    {
     "name": "stderr",
     "output_type": "stream",
     "text": [
      "100%|██████████| 100/100 [20:41<00:00, 12.41s/it]\n"
     ]
    }
   ],
   "source": [
    "seed_icm, timings_icm = mia_icm.MIA_fast(pb2020_independent_cascade, 100, 0.5)"
   ]
  },
  {
   "cell_type": "code",
   "execution_count": 13,
   "metadata": {},
   "outputs": [
    {
     "name": "stdout",
     "output_type": "stream",
     "text": [
      "Starting MIA intialization\n"
     ]
    },
    {
     "name": "stderr",
     "output_type": "stream",
     "text": [
      "100%|██████████| 13217/13217 [00:45<00:00, 292.91it/s]\n"
     ]
    },
    {
     "name": "stdout",
     "output_type": "stream",
     "text": [
      "Initialization Completed\n"
     ]
    },
    {
     "name": "stderr",
     "output_type": "stream",
     "text": [
      "100%|██████████| 100/100 [19:18<00:00, 11.58s/it]\n"
     ]
    }
   ],
   "source": [
    "seed_dc, timings_dc = mia_decreasing.MIA_fast(pb2020_decreasing_cascade, 100, 0.5)\n"
   ]
  },
  {
   "cell_type": "code",
   "execution_count": 14,
   "metadata": {},
   "outputs": [
    {
     "name": "stdout",
     "output_type": "stream",
     "text": [
      "Starting MIA intialization\n"
     ]
    },
    {
     "name": "stderr",
     "output_type": "stream",
     "text": [
      "100%|██████████| 13217/13217 [00:44<00:00, 295.98it/s]\n"
     ]
    },
    {
     "name": "stdout",
     "output_type": "stream",
     "text": [
      "Initialization Completed\n"
     ]
    },
    {
     "name": "stderr",
     "output_type": "stream",
     "text": [
      "100%|██████████| 100/100 [18:20<00:00, 11.00s/it]\n"
     ]
    }
   ],
   "source": [
    "seed_trivalency, timings_tr = mia_trivalency.MIA_fast(pb2020_trivalency, 100, 0.5)"
   ]
  },
  {
   "cell_type": "code",
   "execution_count": 15,
   "metadata": {},
   "outputs": [
    {
     "name": "stdout",
     "output_type": "stream",
     "text": [
      "Starting MIA intialization\n"
     ]
    },
    {
     "name": "stderr",
     "output_type": "stream",
     "text": [
      "100%|██████████| 13217/13217 [00:42<00:00, 312.00it/s]\n"
     ]
    },
    {
     "name": "stdout",
     "output_type": "stream",
     "text": [
      "Initialization Completed\n"
     ]
    },
    {
     "name": "stderr",
     "output_type": "stream",
     "text": [
      "100%|██████████| 100/100 [18:21<00:00, 11.02s/it]\n"
     ]
    }
   ],
   "source": [
    "seed_lt, timings_lt = mia_linear_threshold.MIA_fast(pb2020_linear_threshold, 100, 0.5)\n"
   ]
  },
  {
   "cell_type": "code",
   "execution_count": 16,
   "metadata": {},
   "outputs": [
    {
     "name": "stdout",
     "output_type": "stream",
     "text": [
      "Starting MIA intialization\n"
     ]
    },
    {
     "name": "stderr",
     "output_type": "stream",
     "text": [
      "100%|██████████| 13217/13217 [00:44<00:00, 294.25it/s]\n"
     ]
    },
    {
     "name": "stdout",
     "output_type": "stream",
     "text": [
      "Initialization Completed\n"
     ]
    },
    {
     "name": "stderr",
     "output_type": "stream",
     "text": [
      "100%|██████████| 100/100 [19:11<00:00, 11.51s/it]\n"
     ]
    }
   ],
   "source": [
    "seed_gt, timings_gt = mia_general_threshold.MIA_fast(pb2020_general_threshold, 100, 0.5)"
   ]
  },
  {
   "cell_type": "code",
   "execution_count": 14,
   "metadata": {},
   "outputs": [],
   "source": [
    "# open pickle \n",
    "with open('mia_timings_wcm.pickle', 'rb') as handle:\n",
    "    timings_wcm = pickle.load(handle)\n",
    "\n",
    "with open('mia_timings_icm.pickle', 'rb') as handle:\n",
    "    timings_icm = pickle.load(handle)\n",
    "\n",
    "with open('mia_timings_dc.pickle', 'rb') as handle:\n",
    "    timings_dc = pickle.load(handle)\n",
    "\n",
    "with open('mia_timings_tr.pickle', 'rb') as handle:\n",
    "    timings_tr = pickle.load(handle)\n",
    "\n",
    "with open('mia_timings_lt.pickle', 'rb') as handle:\n",
    "    timings_lt = pickle.load(handle)\n",
    "\n",
    "with open('mia_timings_gt.pickle', 'rb') as handle:\n",
    "    timings_gt = pickle.load(handle)"
   ]
  },
  {
   "cell_type": "code",
   "execution_count": 18,
   "metadata": {},
   "outputs": [
    {
     "data": {
      "image/png": "[encoded data removed]",
      "text/plain": [
       "<Figure size 640x480 with 1 Axes>"
      ]
     },
     "metadata": {},
     "output_type": "display_data"
    }
   ],
   "source": [
    "# plot the cumulative timings for the MIA algorithm as a function of the number of iterations\n",
    "#calculate the cumulative sum of the timings\n",
    "cumulative_timings_wcm = np.cumsum(timings_wcm)\n",
    "cumulative_timings_icm = np.cumsum(timings_icm)\n",
    "cumulative_timings_dc = np.cumsum(timings_dc)\n",
    "cumulative_timings_tr = np.cumsum(timings_tr)\n",
    "cumulative_timings_lt = np.cumsum(timings_lt)\n",
    "cumulative_timings_gt = np.cumsum(timings_gt)\n",
    "#plot the cumulative timings\n",
    "plt.plot(cumulative_timings_wcm, label='WCM', marker = 'o')\n",
    "plt.plot(cumulative_timings_icm, label='ICM', marker = 'o')\n",
    "plt.plot(cumulative_timings_dc, label='DC', marker = 'o')\n",
    "plt.plot(cumulative_timings_tr, label='TR', marker = 'o')\n",
    "plt.plot(cumulative_timings_lt, label='LT', marker = 'o')\n",
    "plt.plot(cumulative_timings_gt, label='GT', marker = 'o')\n",
    "\n",
    "plt.xlabel('Number of iterations')\n",
    "plt.ylabel('Cumulative time (s)')\n",
    "plt.title('MIA algorithm runtime for different models')\n",
    "#log scale for the y axis\n",
    "#plt.yscale('log')\n",
    "plt.legend()\n",
    "plt.show()"
   ]
  }
 ],
 "metadata": {
  "kernelspec": {
   "display_name": "Python 3.10.6 ('NS')",
   "language": "python",
   "name": "python3"
  },
  "language_info": {
   "codemirror_mode": {
    "name": "ipython",
    "version": 3
   },
   "file_extension": ".py",
   "mimetype": "text/x-python",
   "name": "python",
   "nbconvert_exporter": "python",
   "pygments_lexer": "ipython3",
   "version": "3.10.6"
  },
  "orig_nbformat": 4,
  "vscode": {
   "interpreter": {
    "hash": "08b691cf8a3a31d1bdec91e16636791722048a283f28ba8b35477374ad55e1c6"
   }
  }
 },
 "nbformat": 4,
 "nbformat_minor": 2
}
