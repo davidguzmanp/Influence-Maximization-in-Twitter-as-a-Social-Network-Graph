{
 "cells": [
  {
   "cell_type": "code",
   "execution_count": 1,
   "metadata": {},
   "outputs": [],
   "source": [
    "import networkx as nx\n",
    "import pandas as pd\n",
    "import numpy as np\n",
    "import matplotlib.pyplot as plt\n",
    "from matplotlib import figure\n",
    "import random as rd\n",
    "import copy"
   ]
  },
  {
   "cell_type": "code",
   "execution_count": 74,
   "metadata": {},
   "outputs": [],
   "source": [
    "class Decreasing_Cascade():\n",
    "    def __init__(self):\n",
    "        self.g = nx.DiGraph()\n",
    "        self.num_nodes = 0\n",
    "        self.node_label = []\n",
    "        self.label2id = {}\n",
    "        self.max_out_degree = 0\n",
    "        self.probability = None\n",
    "\n",
    "    def fit(self, g):\n",
    "        # fit graph with probability\n",
    "        self.g = g\n",
    "        self.num_nodes = g.number_of_nodes()\n",
    "        self.node_label = [i for i in g.nodes()]\n",
    "        self.label2id = {self.node_label[i]: i for i in range(self.num_nodes)}\n",
    "        self.max_out_degree = max(j for _, j in g.out_degree(weight='None'))\n",
    "        out_degree = g.out_degree(weight='None')\n",
    "        self.probability = np.zeros((self.num_nodes, self.num_nodes), dtype=float)\n",
    "        for e in g.edges():\n",
    "            if(out_degree[e[0]] >= 10):\n",
    "                self.probability[self.label2id[e[0]], self.label2id[e[1]]] = 1 / int(np.log(out_degree[e[0]]))\n",
    "            else:\n",
    "                self.probability[self.label2id[e[0]], self.label2id[e[1]]] = 1\n",
    "        return g\n",
    "        \n",
    "    # diffusion to all possible nodes\n",
    "    def diffusion_all(self, seed_nodes):\n",
    "        if(seed_nodes == []):\n",
    "            return [], []\n",
    "        activated_nodes = [self.label2id[name] for name in seed_nodes]\n",
    "        old_activated_nodes = copy.deepcopy(activated_nodes)\n",
    "        activate_nums = [len(activated_nodes)]\n",
    "        inform_times = np.zeros(self.num_nodes)\n",
    "        while(True):\n",
    "            new_activated_nodes = []\n",
    "            new_inform_times = np.zeros(self.num_nodes)\n",
    "            for node in old_activated_nodes:\n",
    "                predecessors = self.probability[:, node].nonzero()[0]\n",
    "                if(len(predecessors) == 0):\n",
    "                    continue\n",
    "                for predecessor in predecessors:\n",
    "                    if(predecessor in activated_nodes):\n",
    "                        continue\n",
    "                    new_inform_times[predecessor] += 1\n",
    "                    if (self.probability[predecessor][node] >= (rd.random() + inform_times[predecessor] / self.max_out_degree)):\n",
    "                        new_activated_nodes.append(predecessor)\n",
    "                activated_nodes.extend(new_activated_nodes)\n",
    "            if len(new_activated_nodes) == 0:\n",
    "                break\n",
    "            old_activated_nodes = new_activated_nodes\n",
    "            activate_nums.append(len(new_activated_nodes))\n",
    "            inform_times = inform_times + new_inform_times\n",
    "        return activated_nodes, activate_nums\n",
    "\n",
    "    # diffusion to max step\n",
    "    def diffusion_step(self, seed_nodes, max_step=1):\n",
    "        if(seed_nodes == []):\n",
    "            return [], []\n",
    "        activated_nodes = [self.label2id[name] for name in seed_nodes]\n",
    "        old_activated_nodes = copy.deepcopy(activated_nodes)\n",
    "        activate_nums = [len(activated_nodes)]\n",
    "        inform_times = np.zeros(self.num_nodes)\n",
    "        for step in range(max_step):\n",
    "            new_activated_nodes = []\n",
    "            new_inform_times = np.zeros(self.num_nodes)\n",
    "            for node in old_activated_nodes:\n",
    "                predecessors = self.probability[:, node].nonzero()[0]\n",
    "                if(len(predecessors) == 0):\n",
    "                    continue\n",
    "                for predecessor in predecessors:\n",
    "                    if(predecessor in activated_nodes):\n",
    "                        continue\n",
    "                    new_inform_times[predecessor] += 1\n",
    "                    if (self.probability[predecessor][node] >= (rd.random() + inform_times[predecessor] / self.max_out_degree)):\n",
    "                        new_activated_nodes.append(predecessor)\n",
    "                activated_nodes.extend(new_activated_nodes)\n",
    "            if len(new_activated_nodes) == 0:\n",
    "                break\n",
    "            old_activated_nodes = new_activated_nodes\n",
    "            activate_nums.append(len(new_activated_nodes))\n",
    "            inform_times = inform_times + new_inform_times\n",
    "        return activated_nodes, activate_nums"
   ]
  },
  {
   "cell_type": "code",
   "execution_count": 3,
   "metadata": {},
   "outputs": [],
   "source": [
    "# read from gml\n",
    "G = nx.read_gml('PB2020.gml')"
   ]
  },
  {
   "cell_type": "code",
   "execution_count": 76,
   "metadata": {},
   "outputs": [
    {
     "data": {
      "text/plain": [
       "<networkx.classes.digraph.DiGraph at 0x1c3616c5e50>"
      ]
     },
     "execution_count": 76,
     "metadata": {},
     "output_type": "execute_result"
    }
   ],
   "source": [
    "model = Decreasing_Cascade()\n",
    "model.fit(G)"
   ]
  },
  {
   "cell_type": "code",
   "execution_count": 111,
   "metadata": {},
   "outputs": [
    {
     "name": "stdout",
     "output_type": "stream",
     "text": [
      "[10]\n"
     ]
    }
   ],
   "source": [
    "sample = rd.sample(list(G.nodes), 10)\n",
    "activated_nodes, activate_nums = model.diffusion_all(sample)\n",
    "print(activate_nums)"
   ]
  }
 ],
 "metadata": {
  "kernelspec": {
   "display_name": "Python 3.9.13 ('base')",
   "language": "python",
   "name": "python3"
  },
  "language_info": {
   "codemirror_mode": {
    "name": "ipython",
    "version": 3
   },
   "file_extension": ".py",
   "mimetype": "text/x-python",
   "name": "python",
   "nbconvert_exporter": "python",
   "pygments_lexer": "ipython3",
   "version": "3.9.13"
  },
  "orig_nbformat": 4,
  "vscode": {
   "interpreter": {
    "hash": "88279d2366fe020547cde40dd65aa0e3aa662a6ec1f3ca12d88834876c85e1a6"
   }
  }
 },
 "nbformat": 4,
 "nbformat_minor": 2
}
