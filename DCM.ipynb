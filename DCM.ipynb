{
 "cells": [
  {
   "cell_type": "code",
   "execution_count": 1,
   "metadata": {},
   "outputs": [],
   "source": [
    "import networkx as nx\n",
    "import pandas as pd\n",
    "import numpy as np\n",
    "import matplotlib.pyplot as plt\n",
    "from matplotlib import figure\n",
    "import random as rd\n",
    "import copy"
   ]
  },
  {
   "cell_type": "code",
   "execution_count": 85,
   "metadata": {},
   "outputs": [],
   "source": [
    "class Decreasing_Cascade():\n",
    "    def __init__(self):\n",
    "        self.g = nx.DiGraph()\n",
    "        self.num_nodes = 0\n",
    "        self.node_label = []\n",
    "        self.label2id = {}\n",
    "        self.max_in_degree = 0\n",
    "        self.probability = None\n",
    "\n",
    "    def fit(self, g):\n",
    "        # fit graph with probability\n",
    "        self.g = g\n",
    "        self.num_nodes = g.number_of_nodes()\n",
    "        self.node_label = [i for i in g.nodes()]\n",
    "        self.label2id = {self.node_label[i]: i for i in range(self.num_nodes)}\n",
    "        self.max_in_degree = max(j for _, j in g.in_degree(weight='None'))\n",
    "        in_degree = g.in_degree(weight='None')\n",
    "        self.probability = np.zeros((self.num_nodes, self.num_nodes), dtype=float)\n",
    "        for e in g.edges():\n",
    "            if(in_degree[e[1]] >= 10):\n",
    "                self.probability[self.label2id[e[0]], self.label2id[e[1]]] = 1 / int(np.log(in_degree[e[1]]))\n",
    "            else:\n",
    "                self.probability[self.label2id[e[0]], self.label2id[e[1]]] = 1\n",
    "            \n",
    "    def monte_carlo_diffusion_all(self, seed_nodes, num_simulations=100):\n",
    "        if(seed_nodes == []):\n",
    "            return [], []\n",
    "        activate_nums_list = []\n",
    "        for _ in range(num_simulations):\n",
    "            _, activate_nums = self.diffusion_all(seed_nodes)\n",
    "            activate_nums_list.append(activate_nums)\n",
    "        narry = np.zeros([len(activate_nums_list),len(max(activate_nums_list,key = lambda x: len(x)))])\n",
    "        for i,j in enumerate(activate_nums_list):\n",
    "            narry[i][0:len(j)] = j\n",
    "        return np.mean(narry, axis=0)\n",
    "\n",
    "    def monte_carlo_diffusion_step(self, seed_nodes, max_step=1, num_simulations=100):\n",
    "        if(seed_nodes == []):\n",
    "            return [], []\n",
    "        activate_nums_list = []\n",
    "        for _ in range(num_simulations):\n",
    "            _, activate_nums = self.diffusion_step(seed_nodes, max_step)\n",
    "            activate_nums_list.append(activate_nums)\n",
    "        narry = np.zeros([len(activate_nums_list),len(max(activate_nums_list,key = lambda x: len(x)))])\n",
    "        for i,j in enumerate(activate_nums_list):\n",
    "            narry[i][0:len(j)] = j\n",
    "        return np.mean(narry, axis=0)\n",
    "        \n",
    "    # diffusion to all possible nodes\n",
    "    def diffusion_all(self, seed_nodes):\n",
    "        if(seed_nodes == []):\n",
    "            return [], []\n",
    "        activated_nodes = [self.label2id[name] for name in seed_nodes]\n",
    "        old_activated_nodes = copy.deepcopy(activated_nodes)\n",
    "        activate_nums = [len(activated_nodes)]\n",
    "        inform_times = np.zeros(self.num_nodes)\n",
    "        while(True):\n",
    "            new_activated_nodes = []\n",
    "            new_inform_times = np.zeros(self.num_nodes)\n",
    "            for node in old_activated_nodes:\n",
    "                neighbors = self.probability[node, :].nonzero()[0]\n",
    "                if(len(neighbors) == 0):\n",
    "                    continue\n",
    "                for neighbor in neighbors:\n",
    "                    if(neighbor in activated_nodes and neighbor not in new_activated_nodes):\n",
    "                        continue\n",
    "                    new_inform_times[neighbor] += 1\n",
    "                    if (self.probability[node][neighbor] >= (rd.random()+ inform_times[neighbor] / self.max_in_degree) ):\n",
    "                        new_activated_nodes.append(neighbor)\n",
    "            activated_nodes.extend(new_activated_nodes)\n",
    "            if len(new_activated_nodes) == 0:\n",
    "                break\n",
    "            old_activated_nodes = copy.deepcopy(new_activated_nodes)\n",
    "            activate_nums.append(len(new_activated_nodes))\n",
    "            inform_times = inform_times + new_inform_times\n",
    "        return activated_nodes, activate_nums\n",
    "\n",
    "    # diffusion to max step\n",
    "    def diffusion_step(self, seed_nodes, max_step=1):\n",
    "        if(seed_nodes == []):\n",
    "            return [], []\n",
    "        activated_nodes = [self.label2id[name] for name in seed_nodes]\n",
    "        old_activated_nodes = copy.deepcopy(activated_nodes)\n",
    "        activate_nums = [len(activated_nodes)]\n",
    "        inform_times = np.zeros(self.num_nodes)\n",
    "        for step in range(max_step):\n",
    "            new_activated_nodes = []\n",
    "            new_inform_times = np.zeros(self.num_nodes)\n",
    "            for node in old_activated_nodes:\n",
    "                neighbors = self.probability[node, :].nonzero()[0]\n",
    "                if(len(neighbors) == 0):\n",
    "                    continue\n",
    "                for neighbor in neighbors:\n",
    "                    if(neighbor in activated_nodes and neighbor not in new_activated_nodes):\n",
    "                        continue\n",
    "                    new_inform_times[neighbor] += 1\n",
    "                    if (self.probability[node][neighbor] >= (rd.random()+ inform_times[neighbor] / self.max_in_degree) ):\n",
    "                        new_activated_nodes.append(neighbor)\n",
    "            activated_nodes.extend(new_activated_nodes)\n",
    "            if len(new_activated_nodes) == 0:\n",
    "                break\n",
    "            old_activated_nodes = copy.deepcopy(new_activated_nodes)\n",
    "            activate_nums.append(len(new_activated_nodes))\n",
    "            inform_times = inform_times + new_inform_times\n",
    "        return activated_nodes, activate_nums"
   ]
  },
  {
   "cell_type": "code",
   "execution_count": 86,
   "metadata": {},
   "outputs": [],
   "source": [
    "# read from gml\n",
    "G = nx.read_gml('PB2020.gml')\n",
    "G = G.reverse()"
   ]
  },
  {
   "cell_type": "code",
   "execution_count": 87,
   "metadata": {},
   "outputs": [],
   "source": [
    "model = Decreasing_Cascade()\n",
    "model.fit(G)"
   ]
  },
  {
   "cell_type": "code",
   "execution_count": 90,
   "metadata": {},
   "outputs": [
    {
     "name": "stdout",
     "output_type": "stream",
     "text": [
      "[   7.  1508.     5.9   41.4]\n"
     ]
    }
   ],
   "source": [
    "activate_nums = model.monte_carlo_diffusion_all(['enrique_tarrio',\n",
    " 'GavinM_ProudBoy',\n",
    " 'proudboy2012',\n",
    " 'Premises187',\n",
    " 'ProudBoysGBG',\n",
    " 'principe_giovan',\n",
    " 'MoralDK'], num_simulations=10)\n",
    "print(activate_nums)"
   ]
  },
  {
   "cell_type": "code",
   "execution_count": 92,
   "metadata": {},
   "outputs": [
    {
     "name": "stdout",
     "output_type": "stream",
     "text": [
      "[10, 1, 358]\n"
     ]
    }
   ],
   "source": [
    "sample = rd.sample(list(G.nodes), 10)\n",
    "activated_nodes, activate_nums = model.diffusion_all(sample)\n",
    "print(activate_nums)"
   ]
  },
  {
   "cell_type": "code",
   "execution_count": 95,
   "metadata": {},
   "outputs": [
    {
     "name": "stdout",
     "output_type": "stream",
     "text": [
      "[10, 2]\n"
     ]
    }
   ],
   "source": [
    "sample = rd.sample(list(G.nodes), 10)\n",
    "activated_nodes, activate_nums = model.diffusion_step(sample, 1)\n",
    "print(activate_nums)"
   ]
  },
  {
   "cell_type": "code",
   "execution_count": 96,
   "metadata": {},
   "outputs": [
    {
     "data": {
      "text/plain": [
       "[9170, 10676, 1970, 2612, 10632, 10896, 5607, 12415, 7343, 1311, 8136, 7251]"
      ]
     },
     "execution_count": 96,
     "metadata": {},
     "output_type": "execute_result"
    }
   ],
   "source": [
    "activated_nodes"
   ]
  },
  {
   "cell_type": "code",
   "execution_count": 101,
   "metadata": {},
   "outputs": [
    {
     "name": "stdout",
     "output_type": "stream",
     "text": [
      "[10.   1.2]\n"
     ]
    }
   ],
   "source": [
    "sample = rd.sample(list(G.nodes), 10)\n",
    "activate_nums = model.monte_carlo_diffusion_step(sample, num_simulations=10)\n",
    "print(activate_nums)"
   ]
  }
 ],
 "metadata": {
  "kernelspec": {
   "display_name": "Python 3.9.13 ('base')",
   "language": "python",
   "name": "python3"
  },
  "language_info": {
   "codemirror_mode": {
    "name": "ipython",
    "version": 3
   },
   "file_extension": ".py",
   "mimetype": "text/x-python",
   "name": "python",
   "nbconvert_exporter": "python",
   "pygments_lexer": "ipython3",
   "version": "3.9.13"
  },
  "orig_nbformat": 4,
  "vscode": {
   "interpreter": {
    "hash": "88279d2366fe020547cde40dd65aa0e3aa662a6ec1f3ca12d88834876c85e1a6"
   }
  }
 },
 "nbformat": 4,
 "nbformat_minor": 2
}
