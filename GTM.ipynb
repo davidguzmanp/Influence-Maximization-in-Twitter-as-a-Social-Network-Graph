{
 "cells": [
  {
   "cell_type": "code",
   "execution_count": 51,
   "metadata": {},
   "outputs": [],
   "source": [
    "import networkx as nx\n",
    "import numpy as np\n",
    "import networkx.algorithms.community as nxcom\n",
    "import matplotlib.pyplot as plt\n",
    "import copy\n",
    "import math"
   ]
  },
  {
   "cell_type": "code",
   "execution_count": 2,
   "metadata": {},
   "outputs": [],
   "source": [
    "import warnings\n",
    "warnings.filterwarnings('ignore')"
   ]
  },
  {
   "cell_type": "markdown",
   "metadata": {},
   "source": [
    "### Generalized Threshold Mode"
   ]
  },
  {
   "cell_type": "code",
   "execution_count": 94,
   "metadata": {},
   "outputs": [],
   "source": [
    "class general_threshold():\n",
    "    def __init__(self):\n",
    "        self.g = nx.DiGraph()\n",
    "    \n",
    "    def fit(self, g):\n",
    "        # fit graph with probability\n",
    "        in_degree = g.in_degree()\n",
    "        centrality = nx.degree_centrality(g)\n",
    "        # init influence\n",
    "        for e in g.edges():\n",
    "            if(in_degree[e[1]] >= 10):\n",
    "                g[e[0]][e[1]]['influence'] = 1 / int(np.log(in_degree[e[1]]))\n",
    "            else:\n",
    "                g[e[0]][e[1]]['influence'] = 1 \n",
    "        # init threshold. In GT model, the threshold of each node is assigned half of it's centrality\n",
    "        for n in g.nodes():\n",
    "            g.nodes[n]['threshold'] = centrality[n]/4\n",
    "        \n",
    "        self.g = g\n",
    "        return g\n",
    "    \n",
    "    # diffusion to all possible nodes\n",
    "    def diffusion_all(self, init_seed):\n",
    "        final_activated = copy.deepcopy(init_seed)\n",
    "        activated = []\n",
    "        # the index represent time t, the value is number of activated nodes in current time\n",
    "        times = [len(final_activated)]\n",
    "        while True:\n",
    "            flag = False\n",
    "            for v in self.g.nodes():\n",
    "                if v in final_activated:\n",
    "                    continue\n",
    "                # get the activated neighbor nodes of current node\n",
    "                activated_u = list(set(self.g.predecessors(v)).intersection(set(final_activated)))\n",
    "                total_threshold = 0.0\n",
    "                for u in activated_u:\n",
    "                    total_threshold += self.g[u][v]['influence']\n",
    "                # if total_threshold > 0:\n",
    "                #     print(f'Total:{total_threshold}')\n",
    "                #     print(f't:{self.g.nodes[v][\"threshold\"]}')\n",
    "                if total_threshold >= self.g.nodes[v]['threshold']:\n",
    "                    activated.append(v)\n",
    "                    final_activated = np.append(final_activated, v)\n",
    "                    flag = True\n",
    "            if flag:\n",
    "                times.append(len(final_activated)) \n",
    "                continue\n",
    "            else:\n",
    "                break\n",
    "        return final_activated, times\n",
    "    \n",
    "    # diffusion to max step\n",
    "    def diffusion_step(self, init_seed, max_step=1):\n",
    "        final_activated = copy.deepcopy(init_seed)\n",
    "        activated = []\n",
    "        # the index represent time t, the value is number of activated nodes in current time\n",
    "        times = [len(final_activated)]\n",
    "        for _ in range(max_step):\n",
    "            flag = False\n",
    "            for v in self.g.nodes():\n",
    "                if v in final_activated:\n",
    "                    continue\n",
    "                # get the activated neighbor nodes of current node\n",
    "                activated_u = list(set(self.g.predecessors(v)).intersection(set(final_activated)))\n",
    "                total_threshold = 0.0\n",
    "                for u in activated_u:\n",
    "                    total_threshold += self.g[u][v]['influence']\n",
    "                if total_threshold >= self.g.nodes[v]['threshold']:\n",
    "                    activated.append(v)\n",
    "                    final_activated = np.append(final_activated, v)\n",
    "                    flag = True\n",
    "            if flag:\n",
    "                times.append(len(final_activated)) \n",
    "                continue\n",
    "            else:\n",
    "                break\n",
    "        return final_activated, times\n",
    "    "
   ]
  },
  {
   "cell_type": "code",
   "execution_count": 24,
   "metadata": {},
   "outputs": [],
   "source": [
    "# read from gml\n",
    "G = nx.read_gml('PB2020.gml')"
   ]
  },
  {
   "cell_type": "code",
   "execution_count": 95,
   "metadata": {},
   "outputs": [
    {
     "data": {
      "text/plain": [
       "<networkx.classes.digraph.DiGraph at 0x7f7db8bc7370>"
      ]
     },
     "execution_count": 95,
     "metadata": {},
     "output_type": "execute_result"
    }
   ],
   "source": [
    "lt_model = general_threshold()\n",
    "lt_model.fit(G)"
   ]
  },
  {
   "cell_type": "code",
   "execution_count": 41,
   "metadata": {},
   "outputs": [
    {
     "data": {
      "text/plain": [
       "14477"
      ]
     },
     "execution_count": 41,
     "metadata": {},
     "output_type": "execute_result"
    }
   ],
   "source": [
    "G.number_of_edges()"
   ]
  },
  {
   "cell_type": "code",
   "execution_count": 38,
   "metadata": {},
   "outputs": [
    {
     "data": {
      "text/plain": [
       "('Premises187', 0.35744552058111384)"
      ]
     },
     "execution_count": 38,
     "metadata": {},
     "output_type": "execute_result"
    }
   ],
   "source": [
    "\n",
    "max(nx.degree_centrality(G).items(), key = lambda x:x[1])"
   ]
  },
  {
   "cell_type": "code",
   "execution_count": 100,
   "metadata": {},
   "outputs": [
    {
     "name": "stdout",
     "output_type": "stream",
     "text": [
      "[20, 4423, 5370, 5372, 6812, 6816]\n"
     ]
    }
   ],
   "source": [
    "# init seed\n",
    "N = G.number_of_nodes()\n",
    "nodes = np.array(G.nodes())\n",
    "ran_num = np.random.randint(low=0, high=N, size=20)\n",
    "init_seed = nodes[ran_num]\n",
    "\n",
    "activated_nodes, times = lt_model.diffusion_all(init_seed)\n",
    "print(times)"
   ]
  },
  {
   "cell_type": "code",
   "execution_count": 99,
   "metadata": {},
   "outputs": [
    {
     "name": "stdout",
     "output_type": "stream",
     "text": [
      "[10, 351, 956, 2397]\n"
     ]
    }
   ],
   "source": [
    "activated_nodes, times = lt_model.diffusion_step(init_seed, 3)\n",
    "print(times)"
   ]
  },
  {
   "cell_type": "markdown",
   "metadata": {},
   "source": [
    "### Compare the activated nodes' number of thresholds subject to [0, 0.001] as a function of time t."
   ]
  },
  {
   "cell_type": "code",
   "execution_count": 101,
   "metadata": {},
   "outputs": [
    {
     "name": "stderr",
     "output_type": "stream",
     "text": [
      "No artists with labels found to put in legend.  Note that artists whose label start with an underscore are ignored when legend() is called with no argument.\n"
     ]
    },
    {
     "data": {
      "image/png": "[encoded data removed]",
      "text/plain": [
       "<Figure size 640x480 with 1 Axes>"
      ]
     },
     "metadata": {},
     "output_type": "display_data"
    }
   ],
   "source": [
    "\n",
    "plt.plot(np.arange(len(times)), times, marker='o')\n",
    "plt.legend()\n",
    "plt.xlabel(\"times\")\n",
    "plt.ylabel(\"numbers of final activated nodes\")\n",
    "plt.show()"
   ]
  },
  {
   "cell_type": "code",
   "execution_count": null,
   "metadata": {},
   "outputs": [],
   "source": []
  }
 ],
 "metadata": {
  "kernelspec": {
   "display_name": "Python 3.9.12 ('base')",
   "language": "python",
   "name": "python3"
  },
  "language_info": {
   "codemirror_mode": {
    "name": "ipython",
    "version": 3
   },
   "file_extension": ".py",
   "mimetype": "text/x-python",
   "name": "python",
   "nbconvert_exporter": "python",
   "pygments_lexer": "ipython3",
   "version": "3.9.12"
  },
  "orig_nbformat": 4,
  "vscode": {
   "interpreter": {
    "hash": "49c9a5b9dfe28c183236139a701df5beac39a9ee6d84decc9b39b8510f607c12"
   }
  }
 },
 "nbformat": 4,
 "nbformat_minor": 2
}
