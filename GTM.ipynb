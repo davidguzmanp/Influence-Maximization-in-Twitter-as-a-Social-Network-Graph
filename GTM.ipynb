{
 "cells": [
  {
   "cell_type": "code",
   "execution_count": 1,
   "metadata": {},
   "outputs": [],
   "source": [
    "import networkx as nx\n",
    "import numpy as np\n",
    "import networkx.algorithms.community as nxcom\n",
    "import matplotlib.pyplot as plt\n",
    "import copy\n",
    "import math"
   ]
  },
  {
   "cell_type": "code",
   "execution_count": 2,
   "metadata": {},
   "outputs": [],
   "source": [
    "import warnings\n",
    "warnings.filterwarnings('ignore')"
   ]
  },
  {
   "cell_type": "markdown",
   "metadata": {},
   "source": [
    "### Generalized Threshold Mode"
   ]
  },
  {
   "cell_type": "code",
   "execution_count": 3,
   "metadata": {},
   "outputs": [],
   "source": [
    "class general_threshold():\n",
    "    def __init__(self):\n",
    "        self.g = nx.DiGraph()\n",
    "        self.influence = None\n",
    "        # threshold determine whether the node become activated\n",
    "        self.threshold = None\n",
    "        # spreadTrd determine whether the node have the ability to spread message\n",
    "        self.spreadTrd = None\n",
    "    \n",
    "    def fit(self, g):\n",
    "        # fit graph with probability\n",
    "        in_degree = g.in_degree()\n",
    "        self.num_nodes = g.number_of_nodes()\n",
    "        self.node_label = [i for i in g.nodes()]\n",
    "        self.label2id = {self.node_label[i]: i for i in range(self.num_nodes)}\n",
    "        self.influence = np.zeros((self.num_nodes, self.num_nodes), dtype=float)\n",
    "        centrality = nx.degree_centrality(g)\n",
    "        # init influence\n",
    "        for e in g.edges():\n",
    "            self.influence[self.label2id[e[0]], self.label2id[e[1]]] = 1 / in_degree[e[1]]\n",
    "        # init threshold. In GT model, the threshold of each node is assigned half of it's centrality\n",
    "        self.threshold = np.zeros((self.num_nodes), dtype=float)\n",
    "        self.spreadTrd = np.zeros((self.num_nodes), dtype=float)\n",
    "        for n in g.nodes():\n",
    "            self.threshold[self.label2id[n]] = centrality[n]/4\n",
    "            self.spreadTrd[self.label2id[n]] = centrality[n]/2\n",
    "        self.g = g\n",
    "        return g\n",
    "    \n",
    "    # diffusion to all possible nodes\n",
    "    def diffusion_all(self, init_seed):\n",
    "        if(init_seed == []):\n",
    "            return [], []\n",
    "        activated_nodes = [self.label2id[name] for name in init_seed]\n",
    "        old_spread_nodes = copy.deepcopy(activated_nodes)\n",
    "        # the index represent time t, the value is number of activated nodes in current time\n",
    "        times = [len(old_spread_nodes)]\n",
    "        while True:\n",
    "            new_activated_nodes = []\n",
    "            new_spread_nodes = []\n",
    "            for node in old_spread_nodes:\n",
    "                neighbors = self.influence[node, :].nonzero()[0]\n",
    "                if(len(neighbors) == 0):\n",
    "                    continue\n",
    "                for neighbor in neighbors:\n",
    "                    total_influence = 0.0\n",
    "                    if(neighbor in activated_nodes or neighbor in new_activated_nodes):\n",
    "                        continue\n",
    "                    precessors = self.influence[:, neighbor].nonzero()[0]\n",
    "                    for precessor in precessors :\n",
    "                        if precessor in activated_nodes:\n",
    "                            total_influence += self.influence[precessor][neighbor]\n",
    "                    # informe/activate the node if the total influence exceeds it's threshold of activated\n",
    "                    if(total_influence >= self.threshold[neighbor]):\n",
    "                        new_activated_nodes.append(neighbor)\n",
    "                        # let node be a spreader if the total influence exceeds it's threshold of spread\n",
    "                        if(total_influence >= self.spreadTrd[neighbor]):\n",
    "                            new_spread_nodes.append(neighbor)\n",
    "            if len(new_spread_nodes)==0:\n",
    "                break\n",
    "            else:\n",
    "                activated_nodes.extend(new_activated_nodes)\n",
    "            old_spread_nodes = copy.deepcopy(new_spread_nodes)\n",
    "            times.append(len(new_activated_nodes))\n",
    "        return activated_nodes, times\n",
    "    \n",
    "    # diffusion to max step\n",
    "    def diffusion_step(self, init_seed, max_step=1):\n",
    "        if(init_seed == []):\n",
    "            return [], []\n",
    "        activated_nodes = [self.label2id[name] for name in init_seed]\n",
    "        old_spread_nodes = copy.deepcopy(activated_nodes)\n",
    "        # the index represent time t, the value is number of activated nodes in current time\n",
    "        times = [len(old_spread_nodes)]\n",
    "        for _ in range(max_step):\n",
    "            new_activated_nodes = []\n",
    "            new_spread_nodes = []\n",
    "            for node in old_spread_nodes:\n",
    "                neighbors = self.influence[node, :].nonzero()[0]\n",
    "                if(len(neighbors) == 0):\n",
    "                    continue\n",
    "                for neighbor in neighbors:\n",
    "                    total_influence = 0.0\n",
    "                    if(neighbor in activated_nodes or neighbor in new_activated_nodes):\n",
    "                        continue\n",
    "                    precessors = self.influence[:, neighbor].nonzero()[0]\n",
    "                    for precessor in precessors:\n",
    "                        if precessor in activated_nodes:\n",
    "                            total_influence += self.influence[precessor][neighbor]\n",
    "                    # informe/activate the node if the total influence exceeds it's threshold of activated\n",
    "                    if(total_influence >= self.threshold[neighbor]):\n",
    "                        new_activated_nodes.append(neighbor)\n",
    "                        # let node be a spreader if the total influence exceeds it's threshold of spread\n",
    "                        if(total_influence >= self.spreadTrd[neighbor]):\n",
    "                            new_spread_nodes.append(neighbor)\n",
    "            if len(new_spread_nodes)==0:\n",
    "                break\n",
    "            else:\n",
    "                activated_nodes.extend(new_activated_nodes)\n",
    "            old_spread_nodes = copy.deepcopy(new_spread_nodes)\n",
    "            times.append(len(new_activated_nodes))\n",
    "        return activated_nodes, times\n",
    "    \n",
    "    "
   ]
  },
  {
   "cell_type": "code",
   "execution_count": 4,
   "metadata": {},
   "outputs": [],
   "source": [
    "# read from gml\n",
    "G = nx.read_gml('PB2020.gml')"
   ]
  },
  {
   "cell_type": "code",
   "execution_count": 5,
   "metadata": {},
   "outputs": [
    {
     "data": {
      "text/plain": [
       "<networkx.classes.digraph.DiGraph at 0x11927ca30>"
      ]
     },
     "execution_count": 5,
     "metadata": {},
     "output_type": "execute_result"
    }
   ],
   "source": [
    "gt_model = general_threshold()\n",
    "gt_model.fit(G)"
   ]
  },
  {
   "cell_type": "code",
   "execution_count": 6,
   "metadata": {},
   "outputs": [
    {
     "name": "stdout",
     "output_type": "stream",
     "text": [
      "[20]\n"
     ]
    }
   ],
   "source": [
    "# init seed\n",
    "N = G.number_of_nodes()\n",
    "nodes = np.array(G.nodes())\n",
    "ran_num = np.random.randint(low=0, high=N, size=20)\n",
    "init_seed = nodes[ran_num]\n",
    "\n",
    "activated_nodes, times = gt_model.diffusion_all(init_seed)\n",
    "print(times)"
   ]
  },
  {
   "cell_type": "code",
   "execution_count": 11,
   "metadata": {},
   "outputs": [
    {
     "name": "stdout",
     "output_type": "stream",
     "text": [
      "[7, 6822, 1, 17]\n"
     ]
    }
   ],
   "source": [
    "init_seed = ['principe_giovan', 'Premises187', 'MoralDK', 'proudboy_', 'enrique_tarrio', 'GavinM_ProudBoy', 'proudboy2012']\n",
    "activated_nodes, times = gt_model.diffusion_all(init_seed)\n",
    "print(times)"
   ]
  },
  {
   "cell_type": "code",
   "execution_count": 8,
   "metadata": {},
   "outputs": [
    {
     "name": "stdout",
     "output_type": "stream",
     "text": [
      "[7, 6822]\n"
     ]
    }
   ],
   "source": [
    "activated_nodes, times = gt_model.diffusion_step(init_seed, 1)\n",
    "print(times)"
   ]
  },
  {
   "cell_type": "markdown",
   "metadata": {},
   "source": [
    "### Compare the activated nodes' number of thresholds subject to [0, 0.001] as a function of time t."
   ]
  },
  {
   "cell_type": "code",
   "execution_count": 12,
   "metadata": {},
   "outputs": [
    {
     "name": "stderr",
     "output_type": "stream",
     "text": [
      "No artists with labels found to put in legend.  Note that artists whose label start with an underscore are ignored when legend() is called with no argument.\n"
     ]
    },
    {
     "data": {
      "image/png": "[encoded data removed]",
      "text/plain": [
       "<Figure size 640x480 with 1 Axes>"
      ]
     },
     "metadata": {},
     "output_type": "display_data"
    }
   ],
   "source": [
    "sum = []\n",
    "s=0\n",
    "for t in times:\n",
    "    s=s+t\n",
    "    sum.append(s)\n",
    "plt.plot(np.arange(len(times)), sum, marker='o')\n",
    "plt.legend()\n",
    "plt.xlabel(\"times\")\n",
    "plt.ylabel(\"numbers of final activated nodes\")\n",
    "plt.show()"
   ]
  },
  {
   "cell_type": "code",
   "execution_count": 10,
   "metadata": {},
   "outputs": [
    {
     "data": {
      "text/plain": [
       "574"
      ]
     },
     "execution_count": 10,
     "metadata": {},
     "output_type": "execute_result"
    }
   ],
   "source": [
    "# not important here\n",
    "max(G.in_degree(), key = lambda x:x[1])[1]"
   ]
  },
  {
   "cell_type": "code",
   "execution_count": null,
   "metadata": {},
   "outputs": [],
   "source": []
  }
 ],
 "metadata": {
  "kernelspec": {
   "display_name": "Python 3",
   "language": "python",
   "name": "python3"
  },
  "language_info": {
   "codemirror_mode": {
    "name": "ipython",
    "version": 3
   },
   "file_extension": ".py",
   "mimetype": "text/x-python",
   "name": "python",
   "nbconvert_exporter": "python",
   "pygments_lexer": "ipython3",
   "version": "3.9.6"
  },
  "orig_nbformat": 4,
  "vscode": {
   "interpreter": {
    "hash": "31f2aee4e71d21fbe5cf8b01ff0e069b9275f58929596ceb00d14d90e3e16cd6"
   }
  }
 },
 "nbformat": 4,
 "nbformat_minor": 2
}
