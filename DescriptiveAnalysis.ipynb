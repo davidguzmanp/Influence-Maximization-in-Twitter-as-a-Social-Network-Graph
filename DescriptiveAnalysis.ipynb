{
 "cells": [
  {
   "cell_type": "code",
   "execution_count": 17,
   "metadata": {},
   "outputs": [],
   "source": [
    "import networkx as nx\n",
    "import pandas as pd\n",
    "import numpy as np\n",
    "import matplotlib.pyplot as plt\n",
    "from matplotlib import figure\n"
   ]
  },
  {
   "cell_type": "code",
   "execution_count": 9,
   "metadata": {},
   "outputs": [],
   "source": [
    "import graph_tool.all as gt\n",
    "g = gt.collection.ns[\"twitter_sample\"]"
   ]
  },
  {
   "cell_type": "code",
   "execution_count": 14,
   "metadata": {},
   "outputs": [],
   "source": [
    "#get degree list from graph\n",
    "deg = g.degree_property_map(\"total\").get_array()"
   ]
  },
  {
   "cell_type": "code",
   "execution_count": 27,
   "metadata": {},
   "outputs": [
    {
     "data": {
      "image/png": "[encoded data removed]",
      "text/plain": [
       "<Figure size 1100x660 with 1 Axes>"
      ]
     },
     "metadata": {},
     "output_type": "display_data"
    }
   ],
   "source": [
    "#increase plot size\n",
    "plt.figure(figsize=(10,6), dpi=110)\n",
    "my_bins = np.logspace(np.log10(min(deg)),np.log10(max(deg) +1), 30 ) \n",
    "plt.hist(deg, bins=my_bins, density = True, color = \"lightblue\", ec=\"black\")\n",
    "plt.title(\"Degree distribution Twitter\")\n",
    "plt.ylabel(\"Probability\")\n",
    "plt.xlabel(\"Degree\") \n",
    "plt.xscale('log')\n",
    "plt.yscale('log')\n",
    "plt.show()"
   ]
  },
  {
   "cell_type": "code",
   "execution_count": 32,
   "metadata": {},
   "outputs": [],
   "source": [
    "#visualize the graph g\n",
    "pos = gt.sfdp_layout(g)\n",
    "gt.graph_draw(g, pos=pos, output=\"graph-draw-sfdp.pdf\")"
   ]
  },
  {
   "cell_type": "markdown",
   "metadata": {},
   "source": [
    "# Backup: trying to load it to networkX"
   ]
  },
  {
   "cell_type": "code",
   "execution_count": null,
   "metadata": {},
   "outputs": [
    {
     "name": "stdout",
     "output_type": "stream",
     "text": [
      "Collecting zstandard\n",
      "  Downloading zstandard-0.19.0-cp310-cp310-macosx_11_0_arm64.whl (348 kB)\n",
      "\u001b[2K     \u001b[90m━━━━━━━━━━━━━━━━━━━━━━━━━━━━━━━━━━━━━━━\u001b[0m \u001b[32m348.9/348.9 kB\u001b[0m \u001b[31m9.5 MB/s\u001b[0m eta \u001b[36m0:00:00\u001b[0m00:01\u001b[0m\n",
      "\u001b[?25hInstalling collected packages: zstandard\n",
      "Successfully installed zstandard-0.19.0\n"
     ]
    }
   ],
   "source": [
    "!pip install zstandard"
   ]
  },
  {
   "cell_type": "code",
   "execution_count": null,
   "metadata": {},
   "outputs": [],
   "source": [
    "import zstandard as zstd"
   ]
  },
  {
   "cell_type": "code",
   "execution_count": null,
   "metadata": {},
   "outputs": [],
   "source": [
    "#use the zstandard library to decompress the file dataset/network.gml.zst\n",
    "with open('dataset/network.gml.zst', 'rb') as fh:\n",
    "    dctx = zstd.ZstdDecompressor()\n",
    "    with dctx.stream_reader(fh) as reader:\n",
    "        with open('dataset/network.gml', 'wb') as out:\n",
    "            out.write(reader.read())\n"
   ]
  },
  {
   "cell_type": "code",
   "execution_count": null,
   "metadata": {},
   "outputs": [],
   "source": [
    "#load the network\n",
    "G = nx.read_gml('dataset/network.gml')"
   ]
  },
  {
   "cell_type": "code",
   "execution_count": null,
   "metadata": {},
   "outputs": [],
   "source": [
    "#import nodes from dataset/network.csv/nodes.csv and edges from dataset/network.csv/edges.csv\n",
    "nodes = pd.read_csv('dataset/network.csv/nodes.csv')\n",
    "edges = pd.read_csv('dataset/network.csv/edges.csv')\n",
    "\n",
    "#convert the nodes and edges to a networkx graph\n",
    "G = nx.from_pandas_edgelist(edges, source='# source', target=' target')\n",
    "\n",
    "#add the nodes attributes to the graph\n",
    "#nx.set_node_attributes(G, nodes.set_index('id').to_dict('index'))\n",
    "\n"
   ]
  },
  {
   "cell_type": "code",
   "execution_count": null,
   "metadata": {},
   "outputs": [
    {
     "data": {
      "text/plain": [
       "Index(['# source', ' target'], dtype='object')"
      ]
     },
     "metadata": {},
     "output_type": "display_data"
    }
   ],
   "source": [
    "#edges column names\n",
    "edges.columns"
   ]
  },
  {
   "cell_type": "code",
   "execution_count": null,
   "metadata": {},
   "outputs": [
    {
     "name": "stdout",
     "output_type": "stream",
     "text": [
      "Number of nodes:  5384162\n",
      "Number of edges:  15832003\n"
     ]
    }
   ],
   "source": [
    "# print the number of nodes and edges\n",
    "print('Number of nodes: ', G.number_of_nodes())\n",
    "print('Number of edges: ', G.number_of_edges())"
   ]
  },
  {
   "cell_type": "code",
   "execution_count": null,
   "metadata": {},
   "outputs": [
    {
     "name": "stdout",
     "output_type": "stream",
     "text": [
      "Average degree:  5.8809534334219515\n",
      "Standard deviation:  46.7311794026243\n"
     ]
    }
   ],
   "source": [
    "# print average degree and standard deviation\n",
    "degrees = [G.degree(n) for n in G.nodes()]\n",
    "print('Average degree: ', sum(degrees)/len(degrees))\n",
    "print('Standard deviation: ', np.std(degrees))"
   ]
  }
 ],
 "metadata": {
  "kernelspec": {
   "display_name": "Python 3.10.6 ('NS')",
   "language": "python",
   "name": "python3"
  },
  "language_info": {
   "codemirror_mode": {
    "name": "ipython",
    "version": 3
   },
   "file_extension": ".py",
   "mimetype": "text/x-python",
   "name": "python",
   "nbconvert_exporter": "python",
   "pygments_lexer": "ipython3",
   "version": "3.10.6"
  },
  "orig_nbformat": 4,
  "vscode": {
   "interpreter": {
    "hash": "08b691cf8a3a31d1bdec91e16636791722048a283f28ba8b35477374ad55e1c6"
   }
  }
 },
 "nbformat": 4,
 "nbformat_minor": 2
}
