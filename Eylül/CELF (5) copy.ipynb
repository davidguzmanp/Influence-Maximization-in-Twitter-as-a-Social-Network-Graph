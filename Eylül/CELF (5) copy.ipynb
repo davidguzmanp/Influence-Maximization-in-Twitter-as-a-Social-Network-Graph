{
  "cells": [
    {
      "cell_type": "code",
      "execution_count": 1,
      "metadata": {
        "colab": {
          "base_uri": "https://localhost:8080/"
        },
        "id": "4j9cQk8a6Z1X",
        "outputId": "6ad2ae34-df6d-4af5-aced-a9038271161f"
      },
      "outputs": [
        {
          "name": "stdout",
          "output_type": "stream",
          "text": [
            "Looking in indexes: https://pypi.org/simple, https://us-python.pkg.dev/colab-wheels/public/simple/\n",
            "Requirement already satisfied: igraph in /usr/local/lib/python3.8/dist-packages (0.10.2)\n",
            "Requirement already satisfied: texttable>=1.6.2 in /usr/local/lib/python3.8/dist-packages (from igraph) (1.6.7)\n",
            "Looking in indexes: https://pypi.org/simple, https://us-python.pkg.dev/colab-wheels/public/simple/\n",
            "Requirement already satisfied: import_ipynb in /usr/local/lib/python3.8/dist-packages (0.1.4)\n",
            "Requirement already satisfied: nbformat in /usr/local/lib/python3.8/dist-packages (from import_ipynb) (5.7.0)\n",
            "Requirement already satisfied: IPython in /usr/local/lib/python3.8/dist-packages (from import_ipynb) (7.9.0)\n",
            "Requirement already satisfied: prompt-toolkit<2.1.0,>=2.0.0 in /usr/local/lib/python3.8/dist-packages (from IPython->import_ipynb) (2.0.10)\n",
            "Requirement already satisfied: jedi>=0.10 in /usr/local/lib/python3.8/dist-packages (from IPython->import_ipynb) (0.18.2)\n",
            "Requirement already satisfied: setuptools>=18.5 in /usr/local/lib/python3.8/dist-packages (from IPython->import_ipynb) (57.4.0)\n",
            "Requirement already satisfied: traitlets>=4.2 in /usr/local/lib/python3.8/dist-packages (from IPython->import_ipynb) (5.6.0)\n",
            "Requirement already satisfied: backcall in /usr/local/lib/python3.8/dist-packages (from IPython->import_ipynb) (0.2.0)\n",
            "Requirement already satisfied: decorator in /usr/local/lib/python3.8/dist-packages (from IPython->import_ipynb) (4.4.2)\n",
            "Requirement already satisfied: pygments in /usr/local/lib/python3.8/dist-packages (from IPython->import_ipynb) (2.6.1)\n",
            "Requirement already satisfied: pickleshare in /usr/local/lib/python3.8/dist-packages (from IPython->import_ipynb) (0.7.5)\n",
            "Requirement already satisfied: pexpect in /usr/local/lib/python3.8/dist-packages (from IPython->import_ipynb) (4.8.0)\n",
            "Requirement already satisfied: parso<0.9.0,>=0.8.0 in /usr/local/lib/python3.8/dist-packages (from jedi>=0.10->IPython->import_ipynb) (0.8.3)\n",
            "Requirement already satisfied: six>=1.9.0 in /usr/local/lib/python3.8/dist-packages (from prompt-toolkit<2.1.0,>=2.0.0->IPython->import_ipynb) (1.15.0)\n",
            "Requirement already satisfied: wcwidth in /usr/local/lib/python3.8/dist-packages (from prompt-toolkit<2.1.0,>=2.0.0->IPython->import_ipynb) (0.2.5)\n",
            "Requirement already satisfied: jupyter-core in /usr/local/lib/python3.8/dist-packages (from nbformat->import_ipynb) (5.1.0)\n",
            "Requirement already satisfied: jsonschema>=2.6 in /usr/local/lib/python3.8/dist-packages (from nbformat->import_ipynb) (4.3.3)\n",
            "Requirement already satisfied: fastjsonschema in /usr/local/lib/python3.8/dist-packages (from nbformat->import_ipynb) (2.16.2)\n",
            "Requirement already satisfied: importlib-resources>=1.4.0 in /usr/local/lib/python3.8/dist-packages (from jsonschema>=2.6->nbformat->import_ipynb) (5.10.0)\n",
            "Requirement already satisfied: pyrsistent!=0.17.0,!=0.17.1,!=0.17.2,>=0.14.0 in /usr/local/lib/python3.8/dist-packages (from jsonschema>=2.6->nbformat->import_ipynb) (0.19.2)\n",
            "Requirement already satisfied: attrs>=17.4.0 in /usr/local/lib/python3.8/dist-packages (from jsonschema>=2.6->nbformat->import_ipynb) (22.1.0)\n",
            "Requirement already satisfied: zipp>=3.1.0 in /usr/local/lib/python3.8/dist-packages (from importlib-resources>=1.4.0->jsonschema>=2.6->nbformat->import_ipynb) (3.11.0)\n",
            "Requirement already satisfied: platformdirs>=2.5 in /usr/local/lib/python3.8/dist-packages (from jupyter-core->nbformat->import_ipynb) (2.5.4)\n",
            "Requirement already satisfied: ptyprocess>=0.5 in /usr/local/lib/python3.8/dist-packages (from pexpect->IPython->import_ipynb) (0.7.0)\n"
          ]
        }
      ],
      "source": [
        "!pip install igraph\n",
        "!pip install import_ipynb\n"
      ]
    },
    {
      "cell_type": "code",
      "execution_count": 38,
      "metadata": {
        "id": "DPwLlK5agnV8"
      },
      "outputs": [],
      "source": [
        "import networkx as nx\n",
        "import networkx.algorithms.community as nxcom\n",
        "import matplotlib.pyplot as plt\n",
        "import numpy as np\n",
        "import time as time\n",
        "from random import uniform, seed\n",
        "from igraph import *\n",
        "\n",
        "import import_ipynb\n",
        "import Models as models\n",
        "\n",
        "import pickle\n",
        "import json"
      ]
    },
    {
      "cell_type": "code",
      "execution_count": 50,
      "metadata": {
        "id": "3D8VRHgignWF"
      },
      "outputs": [],
      "source": [
        "AAAA = Graph.Read_GML('PB2020.gml')\n",
        "\n",
        "G = nx.read_gml('PB2020.gml')\n",
        "G = G.reverse()\n",
        "\n",
        "pb2020 = Graph.from_networkx(G)"
      ]
    },
    {
      "cell_type": "markdown",
      "metadata": {
        "id": "1Lc6hpaLgnWG"
      },
      "source": [
        "https://github.com/hautahi/IM_GreedyCELF \n"
      ]
    },
    {
      "attachments": {},
      "cell_type": "markdown",
      "metadata": {},
      "source": [
        "# CELF"
      ]
    },
    {
      "cell_type": "code",
      "execution_count": 11,
      "metadata": {
        "id": "IF-ESOIHgnWK"
      },
      "outputs": [],
      "source": [
        "def compute_spread(g,S,p=0.5,mc=10):\n",
        "    \"\"\"\n",
        "    Input:  graph object, set of seed nodes, propagation probability\n",
        "            and the number of Monte-Carlo simulations\n",
        "    Output: average number of nodes influenced by the seed nodes\n",
        "    \"\"\"\n",
        "    \n",
        "    # Loop over the Monte-Carlo Simulations\n",
        "    spread = []\n",
        "    for i in range(mc):\n",
        "        \n",
        "        # Simulate propagation process      \n",
        "        new_active, A = S[:], S[:]\n",
        "        while new_active:\n",
        "\n",
        "            # For each newly active node, find its neighbors that become activated\n",
        "            new_ones = []\n",
        "            for node in new_active:\n",
        "                \n",
        "                # Determine neighbors that become infected\n",
        "                np.random.seed(i)\n",
        "                success = np.random.uniform(0,1,len(g.neighbors(node,mode=\"out\"))) < p\n",
        "                new_ones += list(np.extract(success, g.neighbors(node,mode=\"out\")))\n",
        "\n",
        "            new_active = list(set(new_ones) - set(A))\n",
        "            \n",
        "            # Add newly activated nodes to the set of activated nodes\n",
        "            A += new_active\n",
        "            \n",
        "        spread.append(len(A))\n",
        "        \n",
        "    return(np.mean(spread))"
      ]
    },
    {
      "cell_type": "code",
      "execution_count": 12,
      "metadata": {
        "id": "ZlcST4V2gnWM"
      },
      "outputs": [],
      "source": [
        "def celf(g,k,p=0.1,mc=10):  \n",
        "    \"\"\"\n",
        "    Input:  graph object, number of seed nodes\n",
        "    Output: optimal seed set, resulting spread, time for each iteration\n",
        "    \"\"\"\n",
        "      \n",
        "    # --------------------\n",
        "    # Find the first node with greedy algorithm\n",
        "    # --------------------\n",
        "    \n",
        "    # Calculate the first iteration sorted list\n",
        "    start_time = time.time() \n",
        "    marg_gain = [compute_spread(g,[node],p,mc) for node in range(g.vcount())]\n",
        "\n",
        "    # Create the sorted list of nodes and their marginal gain \n",
        "    Q = sorted(zip(range(g.vcount()),marg_gain), key=lambda x: x[1],reverse=True)\n",
        "\n",
        "    # Select the first node and remove from candidate list\n",
        "    S, spread, SPREAD = [Q[0][0]], Q[0][1], [Q[0][1]]\n",
        "    Q, LOOKUPS, timelapse = Q[1:], [g.vcount()], [time.time()-start_time]\n",
        "    \n",
        "    # --------------------\n",
        "    # Find the next k-1 nodes using the list-sorting procedure\n",
        "    # --------------------\n",
        "    \n",
        "    for _ in range(k-1):    \n",
        "\n",
        "        check, node_lookup = False, 0\n",
        "        \n",
        "        while not check:\n",
        "            \n",
        "            # Count the number of times the spread is computed\n",
        "            node_lookup += 1\n",
        "            \n",
        "            # Recalculate spread of top node\n",
        "            current = Q[0][0]\n",
        "            \n",
        "            # Evaluate the spread function and store the marginal gain in the list\n",
        "            Q[0] = (current,compute_spread(g,S+[current],p,mc) - spread)\n",
        "\n",
        "            # Re-sort the list\n",
        "            Q = sorted(Q, key = lambda x: x[1], reverse = True)\n",
        "\n",
        "            # Check if previous top node stayed on top after the sort\n",
        "            check = (Q[0][0] == current)\n",
        "\n",
        "        # Select the next node\n",
        "        spread += Q[0][1]\n",
        "        S.append(Q[0][0])\n",
        "        SPREAD.append(spread)\n",
        "        LOOKUPS.append(node_lookup)\n",
        "        timelapse.append(time.time() - start_time)\n",
        "\n",
        "        # Remove the selected node from the list\n",
        "        Q = Q[1:]\n",
        "\n",
        "    return(S,SPREAD,timelapse,LOOKUPS)"
      ]
    },
    {
      "cell_type": "markdown",
      "metadata": {
        "id": "6I5X5vaGjhrB"
      },
      "source": [
        "# Independent Cascade"
      ]
    },
    {
      "cell_type": "code",
      "execution_count": 21,
      "metadata": {
        "id": "rUHID6b6gnWO"
      },
      "outputs": [],
      "source": [
        "# read from gml\n",
        "Independent_Cascade = models.Independent_Cascade()\n",
        "Independent_Cascade.fit(G)\n",
        "\n",
        "# remove all 0 from model.probability which is ndarray\n",
        "p_Independent_Cascade = Independent_Cascade.probability[Independent_Cascade.probability != 0]\n",
        "celf_output_Independent_Cascade = celf(pb2020, 10, p = np.mean(p_Independent_Cascade), mc = 100)"
      ]
    },
    {
      "cell_type": "code",
      "execution_count": 29,
      "metadata": {},
      "outputs": [
        {
          "data": {
            "text/plain": [
              "([6310, 1916, 1596, 7251, 37, 1493, 7157, 7456, 7508, 8020],\n",
              " [170.2,\n",
              "  253.03,\n",
              "  317.62,\n",
              "  363.09,\n",
              "  386.08,\n",
              "  408.94,\n",
              "  424.89,\n",
              "  435.74,\n",
              "  443.45,\n",
              "  447.95],\n",
              " [344.4998607635498,\n",
              "  346.55245637893677,\n",
              "  437.0093924999237,\n",
              "  867.3340129852295,\n",
              "  6382.0392735004425,\n",
              "  6384.444064378738,\n",
              "  6538.080604553223,\n",
              "  8721.390319108963,\n",
              "  8746.713278532028,\n",
              "  8777.18513250351],\n",
              " [13217, 5, 185, 763, 4546, 1, 66, 1381, 44, 52])"
            ]
          },
          "execution_count": 29,
          "metadata": {},
          "output_type": "execute_result"
        }
      ],
      "source": [
        "celf_output_Independent_Cascade"
      ]
    },
    {
      "cell_type": "code",
      "execution_count": 23,
      "metadata": {
        "id": "oO8CsCwb7_i8"
      },
      "outputs": [],
      "source": [
        "pickle_Independent_Cascade = pickle.dumps(celf_output_Independent_Cascade)\n",
        "\n",
        "with open('pickle_Independent_Cascade.pickle', 'wb') as handle:\n",
        "    pickle.dump(pickle_Independent_Cascade, handle)"
      ]
    },
    {
      "cell_type": "code",
      "execution_count": 24,
      "metadata": {},
      "outputs": [],
      "source": [
        "with open('Independent_Cascade.json', 'w') as fjson:\n",
        "    json.dump(celf_output_Independent_Cascade, fjson)"
      ]
    },
    {
      "cell_type": "code",
      "execution_count": 32,
      "metadata": {},
      "outputs": [],
      "source": [
        "AAAAA = Graph.Read_GML('PB2020.gml')"
      ]
    },
    {
      "cell_type": "code",
      "execution_count": 33,
      "metadata": {},
      "outputs": [
        {
          "name": "stdout",
          "output_type": "stream",
          "text": [
            "principe_giovan\n",
            "Premises187\n",
            "MoralDK\n",
            "proudboy_\n",
            "enrique_tarrio\n",
            "GavinM_ProudBoy\n",
            "proudboy2012\n",
            "ProudBoysGBG\n",
            "ProudBoysUS\n",
            "ProudBoyzLondon\n"
          ]
        }
      ],
      "source": [
        "for i in celf_output_Independent_Cascade[0]:\n",
        "    print(AAAAA.vs['label'][i])"
      ]
    },
    {
      "cell_type": "code",
      "execution_count": 22,
      "metadata": {
        "colab": {
          "base_uri": "https://localhost:8080/"
        },
        "id": "L1Bdw_rJgnWP",
        "outputId": "c77976b6-6b4d-4143-cf5e-067875e4928d"
      },
      "outputs": [
        {
          "name": "stdout",
          "output_type": "stream",
          "text": [
            "The optimal seed set is:  [6310, 1916, 1596, 7251, 37, 1493, 7157, 7456, 7508, 8020]\n",
            "The resulting spread is:  [170.2, 253.03, 317.62, 363.09, 386.08, 408.94, 424.89, 435.74, 443.45, 447.95]\n",
            "The time for each iteration is:  [344.4998607635498, 346.55245637893677, 437.0093924999237, 867.3340129852295, 6382.0392735004425, 6384.444064378738, 6538.080604553223, 8721.390319108963, 8746.713278532028, 8777.18513250351]\n",
            "The number of times the spread is computed is:  [13217, 5, 185, 763, 4546, 1, 66, 1381, 44, 52]\n"
          ]
        }
      ],
      "source": [
        "print(\"The optimal seed set is: \", celf_output_Independent_Cascade[0])\n",
        "print(\"The resulting spread is: \", celf_output_Independent_Cascade[1])\n",
        "print(\"The time for each iteration is: \", celf_output_Independent_Cascade[2])\n",
        "print(\"The number of times the spread is computed is: \", celf_output_Independent_Cascade[3])"
      ]
    },
    {
      "cell_type": "code",
      "execution_count": 30,
      "metadata": {
        "colab": {
          "base_uri": "https://localhost:8080/",
          "height": 421
        },
        "id": "oXyMmuvQgnWQ",
        "outputId": "d68d8430-ae0b-47e4-a589-e6f72491e246"
      },
      "outputs": [
        {
          "data": {
            "text/plain": [
              "<matplotlib.legend.Legend at 0x20e47ddf3a0>"
            ]
          },
          "execution_count": 30,
          "metadata": {},
          "output_type": "execute_result"
        },
        {
          "data": {
            "image/png": "[encoded data removed]",
            "text/plain": [
              "<Figure size 648x432 with 1 Axes>"
            ]
          },
          "metadata": {
            "needs_background": "light"
          },
          "output_type": "display_data"
        }
      ],
      "source": [
        "# Plot settings\n",
        "plt.rcParams['figure.figsize'] = (9,6)\n",
        "plt.rcParams['lines.linewidth'] = 4\n",
        "plt.rcParams['xtick.bottom'] = False\n",
        "plt.rcParams['ytick.left'] = False\n",
        "\n",
        "# Plot Computation Time\n",
        "plt.plot(range(1,len(celf_output_Independent_Cascade[2])+1),celf_output_Independent_Cascade[2],label=\"CELF\",color=\"#B3CDE3\")\n",
        "plt.ylabel('Computation Time (Seconds)'); plt.xlabel('Size of Seed Set')\n",
        "plt.title('Computation Time'); plt.legend(loc=2)"
      ]
    },
    {
      "cell_type": "code",
      "execution_count": 31,
      "metadata": {
        "colab": {
          "base_uri": "https://localhost:8080/",
          "height": 421
        },
        "id": "gH1oj-PpgnWR",
        "outputId": "237739de-c035-421e-91a5-81fa313a6129"
      },
      "outputs": [
        {
          "data": {
            "text/plain": [
              "<matplotlib.legend.Legend at 0x20e4837e350>"
            ]
          },
          "execution_count": 31,
          "metadata": {},
          "output_type": "execute_result"
        },
        {
          "data": {
            "image/png": "[encoded data removed]",
            "text/plain": [
              "<Figure size 648x432 with 1 Axes>"
            ]
          },
          "metadata": {
            "needs_background": "light"
          },
          "output_type": "display_data"
        }
      ],
      "source": [
        "# Plot Expected Spread by Seed Set Size\n",
        "plt.plot(range(1,len(celf_output_Independent_Cascade[1])+1),celf_output_Independent_Cascade[1],label=\"CELF\",color=\"#B3CDE3\")\n",
        "plt.xlabel('Size of Seed Set'); plt.ylabel('Expected Spread')\n",
        "plt.title('Expected Spread'); plt.legend(loc=2)"
      ]
    },
    {
      "cell_type": "markdown",
      "metadata": {
        "id": "zk9YT26r6iSv"
      },
      "source": [
        "# Decreasing Cascade"
      ]
    },
    {
      "cell_type": "code",
      "execution_count": 35,
      "metadata": {
        "id": "Y9LBB0DP6iSw"
      },
      "outputs": [],
      "source": [
        "# read from gml\n",
        "Decreasing_Cascade = models.Decreasing_Cascade()\n",
        "Decreasing_Cascade.fit(G)\n",
        "\n",
        "# remove all 0 from model.probability which is ndarray\n",
        "p_Decreasing_Cascade = Decreasing_Cascade.probability[Decreasing_Cascade.probability != 0]\n",
        "celf_output_Decreasing_Cascade = celf(pb2020, 20, p = np.mean(p_Decreasing_Cascade), mc = 100)"
      ]
    },
    {
      "cell_type": "code",
      "execution_count": 36,
      "metadata": {
        "id": "PnEMevJ48RSb"
      },
      "outputs": [],
      "source": [
        "pickle_Decreasing_Cascade = pickle.dumps(celf_output_Decreasing_Cascade)\n",
        "\n",
        "with open('pickle_Decreasing_Cascade.pickle', 'wb') as handle:\n",
        "    pickle.dump(pickle_Decreasing_Cascade, handle)"
      ]
    },
    {
      "cell_type": "code",
      "execution_count": 37,
      "metadata": {},
      "outputs": [],
      "source": [
        "with open('Decreasing_Cascade.json', 'w') as fjson:\n",
        "    json.dump(celf_output_Decreasing_Cascade, fjson)"
      ]
    },
    {
      "cell_type": "code",
      "execution_count": 42,
      "metadata": {},
      "outputs": [
        {
          "name": "stdout",
          "output_type": "stream",
          "text": [
            "principe_giovan\n",
            "Premises187\n",
            "MoralDK\n",
            "proudboy_\n",
            "enrique_tarrio\n",
            "GavinM_ProudBoy\n",
            "proudboy2012\n",
            "ProudBoysGBG\n",
            "ProudBoysUS\n",
            "ProudBoyzLondon\n",
            "DetroitProudBoy\n",
            "Father_Rhyme\n",
            "ColoradoPOYB\n",
            "Proudboy13\n",
            "decentbastards\n",
            "adamciferri\n",
            "GregoryKuhnJr1\n",
            "guns4lyf\n",
            "ashymadison\n",
            "usa_chopper\n"
          ]
        }
      ],
      "source": [
        "for i in celf_output_Decreasing_Cascade[0]:\n",
        "    print(AAAAA.vs['label'][i])"
      ]
    },
    {
      "cell_type": "code",
      "execution_count": 43,
      "metadata": {
        "id": "p-0Lq6lS6iSw"
      },
      "outputs": [
        {
          "name": "stdout",
          "output_type": "stream",
          "text": [
            "The optimal seed set is:  [6310, 1916, 1596, 7251, 37, 1493, 7157, 7456, 7508, 8020, 21, 1485, 0, 7154, 6349, 8667, 11989, 8060, 6336, 2074]\n",
            "The resulting spread is:  [170.2, 253.03, 317.62, 363.09, 386.08, 408.94, 424.89, 435.74, 443.45, 447.95, 451.52, 454.29, 456.1, 457.62, 459.13, 460.5, 461.77, 463.01, 464.23, 465.44]\n",
            "The time for each iteration is:  [511.4944884777069, 514.4299976825714, 639.2418484687805, 1228.0951483249664, 3437.57008934021, 3438.1029143333435, 3473.423464536667, 4748.953769445419, 4795.781750202179, 4852.191705465317, 5593.689623117447, 5605.836257219315, 6381.289360284805, 6550.382925748825, 6550.977323293686, 7143.006497144699, 11978.454059839249, 12129.352005004883, 12130.174284696579, 12140.0514087677]\n",
            "The number of times the spread is computed is:  [13217, 5, 185, 763, 4546, 1, 66, 1381, 44, 52, 686, 11, 919, 283, 1, 888, 4932, 184, 1, 12]\n"
          ]
        }
      ],
      "source": [
        "print(\"The optimal seed set is: \", celf_output_Decreasing_Cascade[0])\n",
        "print(\"The resulting spread is: \", celf_output_Decreasing_Cascade[1])\n",
        "print(\"The time for each iteration is: \", celf_output_Decreasing_Cascade[2])\n",
        "print(\"The number of times the spread is computed is: \", celf_output_Decreasing_Cascade[3])"
      ]
    },
    {
      "cell_type": "code",
      "execution_count": 44,
      "metadata": {
        "id": "5J947yNb6iSx"
      },
      "outputs": [
        {
          "data": {
            "text/plain": [
              "<matplotlib.legend.Legend at 0x20ef4f5aa10>"
            ]
          },
          "execution_count": 44,
          "metadata": {},
          "output_type": "execute_result"
        },
        {
          "data": {
            "image/png": "[encoded data removed]",
            "text/plain": [
              "<Figure size 648x432 with 1 Axes>"
            ]
          },
          "metadata": {
            "needs_background": "light"
          },
          "output_type": "display_data"
        }
      ],
      "source": [
        "# Plot settings\n",
        "plt.rcParams['figure.figsize'] = (9,6)\n",
        "plt.rcParams['lines.linewidth'] = 4\n",
        "plt.rcParams['xtick.bottom'] = False\n",
        "plt.rcParams['ytick.left'] = False\n",
        "\n",
        "# Plot Computation Time\n",
        "plt.plot(range(1,len(celf_output_Decreasing_Cascade[2])+1),celf_output_Decreasing_Cascade[2],label=\"CELF\",color=\"#B3CDE3\")\n",
        "plt.ylabel('Computation Time (Seconds)'); plt.xlabel('Size of Seed Set')\n",
        "plt.title('Computation Time'); plt.legend(loc=2)"
      ]
    },
    {
      "cell_type": "code",
      "execution_count": 45,
      "metadata": {
        "id": "RmHZ5d7b6iSx"
      },
      "outputs": [
        {
          "data": {
            "text/plain": [
              "<matplotlib.legend.Legend at 0x20ef4fbfb50>"
            ]
          },
          "execution_count": 45,
          "metadata": {},
          "output_type": "execute_result"
        },
        {
          "data": {
            "image/png": "[encoded data removed]",
            "text/plain": [
              "<Figure size 648x432 with 1 Axes>"
            ]
          },
          "metadata": {
            "needs_background": "light"
          },
          "output_type": "display_data"
        }
      ],
      "source": [
        "# Plot Expected Spread by Seed Set Size\n",
        "plt.plot(range(1,len(celf_output_Decreasing_Cascade[1])+1),celf_output_Decreasing_Cascade[1],label=\"CELF\",color=\"#B3CDE3\")\n",
        "plt.xlabel('Size of Seed Set'); plt.ylabel('Expected Spread')\n",
        "plt.title('Expected Spread'); plt.legend(loc=2)"
      ]
    },
    {
      "cell_type": "markdown",
      "metadata": {
        "id": "yZM2Sw-pjmCy"
      },
      "source": [
        "# WCM"
      ]
    },
    {
      "cell_type": "code",
      "execution_count": 13,
      "metadata": {
        "id": "wsRCQHg7u0sK"
      },
      "outputs": [],
      "source": [
        "# read from gml\n",
        "Weighted_Cascade = models.Weighted_Cascade()\n",
        "Weighted_Cascade.fit(G)\n",
        "\n",
        "# remove all 0 from model.probability which is ndarray\n",
        "p_Weighted_Cascade = Weighted_Cascade.probability[Weighted_Cascade.probability != 0]\n",
        "celf_output_Weighted_Cascade = celf(pb2020, 20, p = np.mean(p_Weighted_Cascade), mc = 100)"
      ]
    },
    {
      "cell_type": "code",
      "execution_count": 14,
      "metadata": {
        "id": "FG5cJ8ij8Z77"
      },
      "outputs": [],
      "source": [
        "pickle_Weighted_Cascade = pickle.dumps(celf_output_Weighted_Cascade)\n",
        "\n",
        "with open('pickle_Weighted_Cascade.pickle', 'wb') as handle:\n",
        "    pickle.dump(pickle_Weighted_Cascade, handle)"
      ]
    },
    {
      "cell_type": "code",
      "execution_count": 15,
      "metadata": {},
      "outputs": [],
      "source": [
        "with open('Weighted_Cascade.json', 'w') as fjson:\n",
        "    json.dump(celf_output_Weighted_Cascade, fjson)"
      ]
    },
    {
      "cell_type": "code",
      "execution_count": 49,
      "metadata": {},
      "outputs": [
        {
          "name": "stdout",
          "output_type": "stream",
          "text": [
            "principe_giovan\n",
            "Premises187\n",
            "MoralDK\n",
            "proudboy_\n",
            "enrique_tarrio\n",
            "GavinM_ProudBoy\n",
            "proudboy2012\n",
            "ProudBoysGBG\n",
            "ProudBoysUS\n",
            "ProudBoyzLondon\n",
            "DetroitProudBoy\n",
            "Father_Rhyme\n",
            "ColoradoPOYB\n",
            "cckrch\n",
            "decentbastards\n",
            "Proudboy13\n",
            "American_Greg\n",
            "GregoryKuhnJr1\n",
            "Sj71Steven\n",
            "usa_chopper\n"
          ]
        }
      ],
      "source": [
        "for i in celf_output_Weighted_Cascade[0]:\n",
        "    print(AAAAA.vs['label'][i])"
      ]
    },
    {
      "cell_type": "code",
      "execution_count": 16,
      "metadata": {
        "colab": {
          "base_uri": "https://localhost:8080/"
        },
        "id": "gkv9Byg_u0sK",
        "outputId": "7c4c5735-543e-4221-c141-aa57dfc2b6f5"
      },
      "outputs": [
        {
          "name": "stdout",
          "output_type": "stream",
          "text": [
            "The optimal seed set is:  [6310, 1916, 1596, 7251, 37, 1493, 7157, 7456, 7508, 8020, 21, 1485, 0, 8675, 6349, 7154, 11242, 11989, 7471, 2074]\n",
            "The resulting spread is:  [71.85, 115.59, 148.19, 171.6, 185.37, 197.67, 206.17, 212.21, 216.92, 219.7, 222.17, 223.99, 225.48, 226.86, 228.12, 229.37, 230.53, 231.67, 232.81, 233.94]\n",
            "The time for each iteration is:  [79.57531762123108, 79.77191162109375, 80.02083683013916, 80.30128121376038, 81.43490600585938, 82.3844804763794, 281.99675488471985, 1902.8412973880768, 1903.1792125701904, 2426.4930367469788, 2441.1017248630524, 2538.7851662635803, 2736.1050589084625, 3096.2849140167236, 3555.2561049461365, 3555.6598765850067, 3562.7978432178497, 5185.1979830265045, 5255.73091673851, 5256.563062906265]\n",
            "The number of times the spread is computed is:  [13217, 1, 1, 1, 4, 3, 603, 4705, 1, 1433, 41, 255, 484, 912, 1151, 1, 18, 4038, 184, 2]\n"
          ]
        }
      ],
      "source": [
        "print(\"The optimal seed set is: \", celf_output_Weighted_Cascade[0])\n",
        "print(\"The resulting spread is: \", celf_output_Weighted_Cascade[1])\n",
        "print(\"The time for each iteration is: \", celf_output_Weighted_Cascade[2])\n",
        "print(\"The number of times the spread is computed is: \", celf_output_Weighted_Cascade[3])"
      ]
    },
    {
      "cell_type": "code",
      "execution_count": 17,
      "metadata": {
        "colab": {
          "base_uri": "https://localhost:8080/",
          "height": 421
        },
        "id": "hOKGCiwEu0sL",
        "outputId": "d4882e42-a589-4e59-a950-2e305930b0c8"
      },
      "outputs": [
        {
          "data": {
            "text/plain": [
              "<matplotlib.legend.Legend at 0x1fb15533ac0>"
            ]
          },
          "execution_count": 17,
          "metadata": {},
          "output_type": "execute_result"
        },
        {
          "data": {
            "image/png": "[encoded data removed]",
            "text/plain": [
              "<Figure size 432x288 with 1 Axes>"
            ]
          },
          "metadata": {
            "needs_background": "light"
          },
          "output_type": "display_data"
        }
      ],
      "source": [
        "# Plot settings\n",
        "plt.rcParams['figure.figsize'] = (9,6)\n",
        "plt.rcParams['lines.linewidth'] = 4\n",
        "plt.rcParams['xtick.bottom'] = False\n",
        "plt.rcParams['ytick.left'] = False\n",
        "\n",
        "# Plot Computation Time\n",
        "plt.plot(range(1,len(celf_output_Weighted_Cascade[2])+1),celf_output_Weighted_Cascade[2],label=\"CELF\",color=\"#B3CDE3\")\n",
        "plt.ylabel('Computation Time (Seconds)'); plt.xlabel('Size of Seed Set')\n",
        "plt.title('Computation Time'); plt.legend(loc=2)"
      ]
    },
    {
      "cell_type": "code",
      "execution_count": 18,
      "metadata": {
        "colab": {
          "base_uri": "https://localhost:8080/",
          "height": 421
        },
        "id": "PBLPIB9wu0sL",
        "outputId": "122996da-65c9-4e4c-9856-06db3bd64d59"
      },
      "outputs": [
        {
          "data": {
            "text/plain": [
              "<matplotlib.legend.Legend at 0x1fb154cdb40>"
            ]
          },
          "execution_count": 18,
          "metadata": {},
          "output_type": "execute_result"
        },
        {
          "data": {
            "image/png": "[encoded data removed]",
            "text/plain": [
              "<Figure size 432x288 with 1 Axes>"
            ]
          },
          "metadata": {
            "needs_background": "light"
          },
          "output_type": "display_data"
        }
      ],
      "source": [
        "# Plot Expected Spread by Seed Set Size\n",
        "plt.plot(range(1,len(celf_output_Weighted_Cascade[1])+1),celf_output_Weighted_Cascade[1],label=\"CELF\",color=\"#B3CDE3\")\n",
        "plt.xlabel('Size of Seed Set'); plt.ylabel('Expected Spread')\n",
        "plt.title('Expected Spread'); plt.legend(loc=2)"
      ]
    },
    {
      "cell_type": "markdown",
      "metadata": {
        "id": "6zah9ZOTvpx8"
      },
      "source": [
        "# Trivalency "
      ]
    },
    {
      "cell_type": "code",
      "execution_count": 19,
      "metadata": {
        "id": "HpsiGkNXvxJ7"
      },
      "outputs": [],
      "source": [
        "# read from gml\n",
        "Trivalency_Model = models.Trivalency_Model()\n",
        "Trivalency_Model.fit(G)\n",
        "\n",
        "# remove all 0 from model.probability which is ndarray\n",
        "p_Trivalency_Model = Trivalency_Model.probability[Trivalency_Model.probability != 0]\n",
        "celf_output_Trivalency_Model = celf(pb2020, 20, p = np.mean(p_Trivalency_Model), mc = 100)"
      ]
    },
    {
      "cell_type": "code",
      "execution_count": 20,
      "metadata": {
        "id": "Ji3HHs4M8ff7"
      },
      "outputs": [],
      "source": [
        "pickle_Trivalency_Model = pickle.dumps(celf_output_Trivalency_Model)\n",
        "\n",
        "with open('pickle_Trivalency_Model.pickle', 'wb') as handle:\n",
        "    pickle.dump(pickle_Trivalency_Model, handle)"
      ]
    },
    {
      "cell_type": "code",
      "execution_count": 21,
      "metadata": {},
      "outputs": [],
      "source": [
        "with open('Trivalency_Model.json', 'w') as fjson:\n",
        "    json.dump(celf_output_Trivalency_Model, fjson)"
      ]
    },
    {
      "cell_type": "code",
      "execution_count": 53,
      "metadata": {},
      "outputs": [
        {
          "name": "stdout",
          "output_type": "stream",
          "text": [
            "principe_giovan\n",
            "Premises187\n",
            "MoralDK\n",
            "proudboy_\n",
            "enrique_tarrio\n",
            "GavinM_ProudBoy\n",
            "proudboy2012\n",
            "ProudBoysGBG\n",
            "ProudBoysUS\n",
            "ProudBoyzLondon\n",
            "DetroitProudBoy\n",
            "Father_Rhyme\n",
            "ColoradoPOYB\n",
            "cckrch\n",
            "decentbastards\n",
            "American_Greg\n",
            "Proudboy13\n",
            "guns4lyf\n",
            "KowalskiRandy\n",
            "ashymadison\n"
          ]
        }
      ],
      "source": [
        "f = open('Trivalency_Model.json')\n",
        "celf_output_Trivalency_Model = json.load(f)\n",
        "li = celf_output_Trivalency_Model[0]\n",
        "\n",
        "for i in li:\n",
        "    print(AAAA.vs['label'][i])"
      ]
    },
    {
      "cell_type": "code",
      "execution_count": 54,
      "metadata": {
        "colab": {
          "base_uri": "https://localhost:8080/"
        },
        "id": "5PaNHG8hvxJ7",
        "outputId": "f703395e-2f16-412c-cb40-50b5ff7b0b52"
      },
      "outputs": [
        {
          "name": "stdout",
          "output_type": "stream",
          "text": [
            "The optimal seed set is:  [6310, 1916, 1596, 7251, 37, 1493, 7157, 7456, 7508, 8020, 21, 1485, 0, 8675, 6349, 11242, 7154, 8060, 1113, 6336]\n",
            "The resulting spread is:  [23.19, 38.11, 49.26, 57.72, 63.19, 67.88, 71.25, 73.92, 76.15, 77.75, 79.25, 80.49, 81.7, 82.83, 83.92, 85.0, 86.08, 87.14, 88.19, 89.24]\n",
            "The time for each iteration is:  [29.104891061782837, 29.1684730052948, 29.247025966644287, 29.352786779403687, 29.452685356140137, 29.56034779548645, 29.672269344329834, 30.205024480819702, 30.33803081512451, 118.02567839622498, 118.18523168563843, 773.3544864654541, 802.4098460674286, 1011.0607059001923, 1187.8378012180328, 1267.7748413085938, 1268.2703223228455, 1268.8022413253784, 1313.2873821258545, 1313.4509489536285]\n",
            "The number of times the spread is computed is:  [13217, 1, 1, 1, 1, 1, 1, 4, 1, 606, 1, 4574, 198, 1415, 1137, 496, 3, 3, 268, 1]\n"
          ]
        }
      ],
      "source": [
        "print(\"The optimal seed set is: \", celf_output_Trivalency_Model[0])\n",
        "print(\"The resulting spread is: \", celf_output_Trivalency_Model[1])\n",
        "print(\"The time for each iteration is: \", celf_output_Trivalency_Model[2])\n",
        "print(\"The number of times the spread is computed is: \", celf_output_Trivalency_Model[3])"
      ]
    },
    {
      "cell_type": "code",
      "execution_count": 55,
      "metadata": {
        "colab": {
          "base_uri": "https://localhost:8080/",
          "height": 421
        },
        "id": "pXHm7giYvxJ8",
        "outputId": "2875dd64-abf3-46e0-f491-9a533f7f0bdf"
      },
      "outputs": [
        {
          "data": {
            "text/plain": [
              "<matplotlib.legend.Legend at 0x1fb193625f0>"
            ]
          },
          "execution_count": 55,
          "metadata": {},
          "output_type": "execute_result"
        },
        {
          "data": {
            "image/png": "[encoded data removed]",
            "text/plain": [
              "<Figure size 648x432 with 1 Axes>"
            ]
          },
          "metadata": {
            "needs_background": "light"
          },
          "output_type": "display_data"
        }
      ],
      "source": [
        "# Plot settings\n",
        "plt.rcParams['figure.figsize'] = (9,6)\n",
        "plt.rcParams['lines.linewidth'] = 4\n",
        "plt.rcParams['xtick.bottom'] = False\n",
        "plt.rcParams['ytick.left'] = False\n",
        "\n",
        "# Plot Computation Time\n",
        "plt.plot(range(1,len(celf_output_Trivalency_Model[2])+1),celf_output_Trivalency_Model[2],label=\"CELF\",color=\"#B3CDE3\")\n",
        "plt.ylabel('Computation Time (Seconds)'); plt.xlabel('Size of Seed Set')\n",
        "plt.title('Computation Time'); plt.legend(loc=2)"
      ]
    },
    {
      "cell_type": "code",
      "execution_count": 24,
      "metadata": {
        "colab": {
          "base_uri": "https://localhost:8080/",
          "height": 421
        },
        "id": "DULvdup6vxJ8",
        "outputId": "1fff762c-a2e5-40c4-e6e8-3822be7a4859"
      },
      "outputs": [
        {
          "data": {
            "text/plain": [
              "<matplotlib.legend.Legend at 0x1fb187263b0>"
            ]
          },
          "execution_count": 24,
          "metadata": {},
          "output_type": "execute_result"
        },
        {
          "data": {
            "image/png": "[encoded data removed]",
            "text/plain": [
              "<Figure size 648x432 with 1 Axes>"
            ]
          },
          "metadata": {
            "needs_background": "light"
          },
          "output_type": "display_data"
        }
      ],
      "source": [
        "# Plot Expected Spread by Seed Set Size\n",
        "plt.plot(range(1,len(celf_output_Trivalency_Model[1])+1),celf_output_Trivalency_Model[1],label=\"CELF\",color=\"#B3CDE3\")\n",
        "plt.xlabel('Size of Seed Set'); plt.ylabel('Expected Spread')\n",
        "plt.title('Expected Spread'); plt.legend(loc=2)"
      ]
    },
    {
      "cell_type": "markdown",
      "metadata": {
        "id": "6TBH9t596bC1"
      },
      "source": [
        "# Generalized Threshold Mode"
      ]
    },
    {
      "cell_type": "code",
      "execution_count": 25,
      "metadata": {
        "id": "9MrIpoXu6bC1"
      },
      "outputs": [],
      "source": [
        "general_threshold = models.general_threshold()\n",
        "general_threshold.fit(G)\n",
        "\n",
        "p_general_threshold = general_threshold.influence[general_threshold.influence != 0]\n",
        "celf_output_general_threshold = celf(pb2020, 20, p = np.mean(p_general_threshold), mc = 100)"
      ]
    },
    {
      "cell_type": "code",
      "execution_count": 26,
      "metadata": {},
      "outputs": [],
      "source": [
        "pickle_general_threshold = pickle.dumps(celf_output_general_threshold)\n",
        "\n",
        "with open('pickle_general_threshold.pickle', 'wb') as handle:\n",
        "    pickle.dump(pickle_general_threshold, handle)"
      ]
    },
    {
      "cell_type": "code",
      "execution_count": 27,
      "metadata": {},
      "outputs": [],
      "source": [
        "with open('general_threshold.json', 'w') as fjson:\n",
        "    json.dump(celf_output_general_threshold, fjson)"
      ]
    },
    {
      "cell_type": "code",
      "execution_count": 57,
      "metadata": {},
      "outputs": [
        {
          "name": "stdout",
          "output_type": "stream",
          "text": [
            "principe_giovan\n",
            "Premises187\n",
            "MoralDK\n",
            "proudboy_\n",
            "enrique_tarrio\n",
            "GavinM_ProudBoy\n",
            "proudboy2012\n",
            "ProudBoysGBG\n",
            "ProudBoysUS\n",
            "ProudBoyzLondon\n",
            "DetroitProudBoy\n",
            "Father_Rhyme\n",
            "ColoradoPOYB\n",
            "cckrch\n",
            "decentbastards\n",
            "Proudboy13\n",
            "American_Greg\n",
            "GregoryKuhnJr1\n",
            "Sj71Steven\n",
            "usa_chopper\n"
          ]
        }
      ],
      "source": [
        "f = open('general_threshold.json')\n",
        "celf_output_general_threshold = json.load(f)\n",
        "li = celf_output_general_threshold[0]\n",
        "\n",
        "for i in li:\n",
        "    print(AAAA.vs['label'][i])"
      ]
    },
    {
      "cell_type": "code",
      "execution_count": 28,
      "metadata": {
        "colab": {
          "base_uri": "https://localhost:8080/"
        },
        "id": "_qdsHN7Z6bC1",
        "outputId": "2974e7ae-7b74-4c2b-c14a-50b4db13886d"
      },
      "outputs": [
        {
          "name": "stdout",
          "output_type": "stream",
          "text": [
            "The optimal seed set is:  [6310, 1916, 1596, 7251, 37, 1493, 7157, 7456, 7508, 8020, 21, 1485, 0, 8675, 6349, 7154, 11242, 11989, 7471, 2074]\n",
            "The resulting spread is:  [71.85, 115.59, 148.19, 171.6, 185.37, 197.67, 206.17, 212.21, 216.92, 219.7, 222.17, 223.99, 225.48, 226.86, 228.12, 229.37, 230.53, 231.67, 232.81, 233.94]\n",
            "The time for each iteration is:  [95.69701266288757, 95.90197038650513, 96.12114119529724, 96.38977432250977, 97.55258226394653, 98.48818182945251, 306.312903881073, 1989.100070476532, 1989.4703533649445, 2553.8979671001434, 2570.999572992325, 2678.345794916153, 2836.9711520671844, 3148.3851251602173, 3542.2470881938934, 3542.608117580414, 3549.8248813152313, 4887.280225515366, 4946.117290735245, 4946.766103744507]\n",
            "The number of times the spread is computed is:  [13217, 1, 1, 1, 4, 3, 603, 4705, 1, 1433, 41, 255, 484, 912, 1151, 1, 18, 4038, 184, 2]\n"
          ]
        }
      ],
      "source": [
        "print(\"The optimal seed set is: \", celf_output_general_threshold[0])\n",
        "print(\"The resulting spread is: \", celf_output_general_threshold[1])\n",
        "print(\"The time for each iteration is: \", celf_output_general_threshold[2])\n",
        "print(\"The number of times the spread is computed is: \", celf_output_general_threshold[3])"
      ]
    },
    {
      "cell_type": "code",
      "execution_count": 58,
      "metadata": {
        "colab": {
          "base_uri": "https://localhost:8080/",
          "height": 421
        },
        "id": "JKLuWKX46bC1",
        "outputId": "ea1cf298-369a-4e9f-fac6-cf5c29f49645"
      },
      "outputs": [
        {
          "data": {
            "text/plain": [
              "<matplotlib.legend.Legend at 0x1fb1933dba0>"
            ]
          },
          "execution_count": 58,
          "metadata": {},
          "output_type": "execute_result"
        },
        {
          "data": {
            "image/png": "[encoded data removed]",
            "text/plain": [
              "<Figure size 648x432 with 1 Axes>"
            ]
          },
          "metadata": {
            "needs_background": "light"
          },
          "output_type": "display_data"
        }
      ],
      "source": [
        "# Plot settings\n",
        "plt.rcParams['figure.figsize'] = (9,6)\n",
        "plt.rcParams['lines.linewidth'] = 4\n",
        "plt.rcParams['xtick.bottom'] = False\n",
        "plt.rcParams['ytick.left'] = False\n",
        "\n",
        "# Plot Computation Time\n",
        "plt.plot(range(1,len(celf_output_general_threshold[2])+1),celf_output_general_threshold[2],label=\"CELF\",color=\"#B3CDE3\")\n",
        "plt.ylabel('Computation Time (Seconds)'); plt.xlabel('Size of Seed Set')\n",
        "plt.title('Computation Time'); plt.legend(loc=2)"
      ]
    },
    {
      "cell_type": "code",
      "execution_count": 30,
      "metadata": {
        "colab": {
          "base_uri": "https://localhost:8080/",
          "height": 421
        },
        "id": "SiGzm1pm6bC1",
        "outputId": "c719934d-490c-409e-ed85-dc2bb17b7a4d"
      },
      "outputs": [
        {
          "data": {
            "text/plain": [
              "<matplotlib.legend.Legend at 0x1fb192e94e0>"
            ]
          },
          "execution_count": 30,
          "metadata": {},
          "output_type": "execute_result"
        },
        {
          "data": {
            "image/png": "[encoded data removed]",
            "text/plain": [
              "<Figure size 648x432 with 1 Axes>"
            ]
          },
          "metadata": {
            "needs_background": "light"
          },
          "output_type": "display_data"
        }
      ],
      "source": [
        "# Plot Expected Spread by Seed Set Size\n",
        "plt.plot(range(1,len(celf_output_general_threshold[1])+1),celf_output_general_threshold[1],label=\"CELF\",color=\"#B3CDE3\")\n",
        "plt.xlabel('Size of Seed Set'); plt.ylabel('Expected Spread')\n",
        "plt.title('Expected Spread'); plt.legend(loc=2)"
      ]
    },
    {
      "cell_type": "markdown",
      "metadata": {
        "id": "aXisLGEFvI_7"
      },
      "source": [
        "# Linear Threshold Mode"
      ]
    },
    {
      "cell_type": "code",
      "execution_count": 31,
      "metadata": {
        "id": "K7TtWHs-hoY1"
      },
      "outputs": [],
      "source": [
        "linear_threshold = models.linear_threshold()\n",
        "linear_threshold.fit(G)\n",
        "\n",
        "p_linear_threshold = linear_threshold.influence[linear_threshold.influence != 0]\n",
        "celf_output_linear_threshold= celf(pb2020, 20, p = np.mean(p_linear_threshold), mc = 100)"
      ]
    },
    {
      "cell_type": "code",
      "execution_count": 32,
      "metadata": {},
      "outputs": [],
      "source": [
        "pickle_linear_threshold = pickle.dumps(celf_output_linear_threshold)\n",
        "\n",
        "with open('pickle_linear_threshold.pickle', 'wb') as handle:\n",
        "    pickle.dump(pickle_linear_threshold, handle)"
      ]
    },
    {
      "cell_type": "code",
      "execution_count": 33,
      "metadata": {},
      "outputs": [],
      "source": [
        "with open('linear_threshold.json', 'w') as fjson:\n",
        "    json.dump(celf_output_linear_threshold, fjson)"
      ]
    },
    {
      "cell_type": "code",
      "execution_count": 59,
      "metadata": {},
      "outputs": [
        {
          "name": "stdout",
          "output_type": "stream",
          "text": [
            "principe_giovan\n",
            "Premises187\n",
            "MoralDK\n",
            "proudboy_\n",
            "enrique_tarrio\n",
            "GavinM_ProudBoy\n",
            "proudboy2012\n",
            "ProudBoysGBG\n",
            "ProudBoysUS\n",
            "ProudBoyzLondon\n",
            "DetroitProudBoy\n",
            "Father_Rhyme\n",
            "ColoradoPOYB\n",
            "cckrch\n",
            "decentbastards\n",
            "Proudboy13\n",
            "American_Greg\n",
            "GregoryKuhnJr1\n",
            "Sj71Steven\n",
            "usa_chopper\n"
          ]
        }
      ],
      "source": [
        "f = open('linear_threshold.json')\n",
        "celf_output_linear_threshold = json.load(f)\n",
        "li = celf_output_linear_threshold[0]\n",
        "\n",
        "for i in li:\n",
        "    print(AAAA.vs['label'][i])"
      ]
    },
    {
      "cell_type": "code",
      "execution_count": 34,
      "metadata": {
        "colab": {
          "base_uri": "https://localhost:8080/"
        },
        "id": "wJL1RL8thoY2",
        "outputId": "5804945f-b576-4e10-b124-13160bf88cb0"
      },
      "outputs": [
        {
          "name": "stdout",
          "output_type": "stream",
          "text": [
            "The optimal seed set is:  [6310, 1916, 1596, 7251, 37, 1493, 7157, 7456, 7508, 8020, 21, 1485, 0, 8675, 6349, 7154, 11242, 11989, 7471, 2074]\n",
            "The resulting spread is:  [71.85, 115.59, 148.19, 171.6, 185.37, 197.67, 206.17, 212.21, 216.92, 219.7, 222.17, 223.99, 225.48, 226.86, 228.12, 229.37, 230.53, 231.67, 232.81, 233.94]\n",
            "The time for each iteration is:  [73.4015576839447, 73.5800564289093, 73.81907296180725, 74.08768010139465, 75.28535914421082, 76.17710900306702, 243.90924191474915, 1782.837567806244, 1783.1775259971619, 2231.054145336151, 2249.0770626068115, 2338.9165830612183, 2499.2617180347443, 2794.873381137848, 3162.9981949329376, 3163.3145003318787, 3169.1303074359894, 4564.828184843063, 4627.633970499039, 4628.259597063065]\n",
            "The number of times the spread is computed is:  [13217, 1, 1, 1, 4, 3, 603, 4705, 1, 1433, 41, 255, 484, 912, 1151, 1, 18, 4038, 184, 2]\n"
          ]
        }
      ],
      "source": [
        "print(\"The optimal seed set is: \", celf_output_linear_threshold[0])\n",
        "print(\"The resulting spread is: \", celf_output_linear_threshold[1])\n",
        "print(\"The time for each iteration is: \", celf_output_linear_threshold[2])\n",
        "print(\"The number of times the spread is computed is: \", celf_output_linear_threshold[3])"
      ]
    },
    {
      "cell_type": "code",
      "execution_count": 60,
      "metadata": {
        "colab": {
          "base_uri": "https://localhost:8080/",
          "height": 421
        },
        "id": "icafFcUZhoY3",
        "outputId": "fa8e214b-b036-4540-b21b-f307adc4b2b8"
      },
      "outputs": [
        {
          "data": {
            "text/plain": [
              "<matplotlib.legend.Legend at 0x1fb1933c160>"
            ]
          },
          "execution_count": 60,
          "metadata": {},
          "output_type": "execute_result"
        },
        {
          "data": {
            "image/png": "[encoded data removed]",
            "text/plain": [
              "<Figure size 648x432 with 1 Axes>"
            ]
          },
          "metadata": {
            "needs_background": "light"
          },
          "output_type": "display_data"
        }
      ],
      "source": [
        "# Plot settings\n",
        "plt.rcParams['figure.figsize'] = (9,6)\n",
        "plt.rcParams['lines.linewidth'] = 4\n",
        "plt.rcParams['xtick.bottom'] = False\n",
        "plt.rcParams['ytick.left'] = False\n",
        "\n",
        "# Plot Computation Time\n",
        "plt.plot(range(1,len(celf_output_linear_threshold[2])+1),celf_output_linear_threshold[2],label=\"CELF\",color=\"#B3CDE3\")\n",
        "plt.ylabel('Computation Time (Seconds)'); plt.xlabel('Size of Seed Set')\n",
        "plt.title('Computation Time'); plt.legend(loc=2)"
      ]
    },
    {
      "cell_type": "code",
      "execution_count": 36,
      "metadata": {
        "colab": {
          "base_uri": "https://localhost:8080/",
          "height": 421
        },
        "id": "bC-wpQ28hoY3",
        "outputId": "26dfbc33-2917-4319-9269-80129fc48018"
      },
      "outputs": [
        {
          "data": {
            "text/plain": [
              "<matplotlib.legend.Legend at 0x1fa814273a0>"
            ]
          },
          "execution_count": 36,
          "metadata": {},
          "output_type": "execute_result"
        },
        {
          "data": {
            "image/png": "[encoded data removed]",
            "text/plain": [
              "<Figure size 648x432 with 1 Axes>"
            ]
          },
          "metadata": {
            "needs_background": "light"
          },
          "output_type": "display_data"
        }
      ],
      "source": [
        "# Plot Expected Spread by Seed Set Size\n",
        "plt.plot(range(1,len(celf_output_linear_threshold[1])+1),celf_output_linear_threshold[1],label=\"CELF\",color=\"#B3CDE3\")\n",
        "plt.xlabel('Size of Seed Set'); plt.ylabel('Expected Spread')\n",
        "plt.title('Expected Spread'); plt.legend(loc=2)"
      ]
    },
    {
      "cell_type": "code",
      "execution_count": 28,
      "metadata": {
        "id": "7ZsOEFShh5I2"
      },
      "outputs": [],
      "source": []
    },
    {
      "attachments": {},
      "cell_type": "markdown",
      "metadata": {},
      "source": [
        "# Plots"
      ]
    },
    {
      "cell_type": "markdown",
      "metadata": {},
      "source": []
    }
  ],
  "metadata": {
    "colab": {
      "provenance": []
    },
    "kernelspec": {
      "display_name": "Python 3.10.8 64-bit (microsoft store)",
      "language": "python",
      "name": "python3"
    },
    "language_info": {
      "codemirror_mode": {
        "name": "ipython",
        "version": 3
      },
      "file_extension": ".py",
      "mimetype": "text/x-python",
      "name": "python",
      "nbconvert_exporter": "python",
      "pygments_lexer": "ipython3",
      "version": "3.10.9"
    },
    "vscode": {
      "interpreter": {
        "hash": "7b5397a2bf77fa055d8167da5446012172620a7a42afd7048bad863c46440604"
      }
    }
  },
  "nbformat": 4,
  "nbformat_minor": 0
}
