{
 "cells": [
  {
   "cell_type": "code",
   "execution_count": null,
   "metadata": {},
   "outputs": [],
   "source": [
    "import networkx as nx\n",
    "import networkx.algorithms.community as nxcom\n",
    "import matplotlib.pyplot as plt\n",
    "import numpy as np\n",
    "import time as time\n",
    "from random import uniform, seed\n",
    "from igraph import *\n",
    "import copy\n",
    "import pandas as pd\n",
    "from matplotlib import figure\n",
    "import random as rd"
   ]
  },
  {
   "cell_type": "code",
   "execution_count": null,
   "metadata": {},
   "outputs": [],
   "source": [
    "import import_ipynb\n",
    "import Models as models"
   ]
  },
  {
   "cell_type": "code",
   "execution_count": null,
   "metadata": {},
   "outputs": [],
   "source": [
    "# default probability is 0.5 and monte carlo is 10\n",
    "# g is the graph, k is the seed size\n",
    "# # https://github.com/hautahi/IM_GreedyCELF  \n",
    "def celf(g,k,p=0.5,mc=10, model = \"IC\"):  \n",
    "    if(model == 'IC'):\n",
    "        model = models.Independent_Cascade()\n",
    "    elif(model == 'DC'):\n",
    "        model = models.Decreasing_Cascade()\n",
    "    elif(model == 'TR'):\n",
    "        model = models.Trivalency_Model()\n",
    "    elif(model == 'WC'):\n",
    "        model = models.Weighted_Cascade()\n",
    "    elif(model == 'LT'):\n",
    "        model = models.linear_threshold()\n",
    "    elif(model == 'GT'):\n",
    "        model = models.general_threshold()\n",
    "    start_time = time.time() \n",
    "    marg_gain_m = []\n",
    "    if(model == 'IC' or model == 'DC' or model == 'TR' or model == 'WC'):\n",
    "        for node in g.edges():\n",
    "            marg_gain_m.append(model.monte_carlo_diffusion([node], num_simulations = mc))\n",
    "    elif(model == 'LT' or model == 'GT'):\n",
    "        for node in g.nodes():\n",
    "            marg_gain_m.append(model.diffusion_all([node], k))\n",
    "    Q = sorted(zip(range(g.vcount()),marg_gain_m), key=lambda x: x[1],reverse=True) \n",
    "    seeds, spread, spreads_list = [Q[0][0]], Q[0][1], [Q[0][1]]\n",
    "    Q, count_of_look_ups, times = Q[1:], [g.vcount()], [time.time()-start_time]\n",
    "    for i in range(k-1): \n",
    "        check  = False\n",
    "        node_lookup = 0\n",
    "        while not check:\n",
    "            node_lookup += 1\n",
    "            current = Q[0][0]\n",
    "            if(model == 'IC' or model == 'DC' or model == 'TR' or model == 'WC'):\n",
    "                Q[0] = (current, model.monte_carlo_diffusion_step([node], num_simulations = mc) - spread)\n",
    "            elif(model == 'LT' or model == 'GT'):\n",
    "                Q[0] = (current, model.diffusion_step([node], k) - spread)\n",
    "            Q = sorted(Q, key = lambda x: x[1], reverse = True)\n",
    "            check = (Q[0][0] == current)\n",
    "        spread += Q[0][1]\n",
    "        seeds.append(Q[0][0])\n",
    "        spreads_list.append(spread)\n",
    "        count_of_look_ups.append(node_lookup)\n",
    "        times.append(time.time() - start_time)\n",
    "        Q = Q[1:]\n",
    "\n",
    "    return(seeds,spreads_list,times,count_of_look_ups)"
   ]
  }
 ],
 "metadata": {
  "kernelspec": {
   "display_name": "Python 3",
   "language": "python",
   "name": "python3"
  },
  "language_info": {
   "name": "python",
   "version": "3.10.9 (tags/v3.10.9:1dd9be6, Dec  6 2022, 20:01:21) [MSC v.1934 64 bit (AMD64)]"
  },
  "orig_nbformat": 4,
  "vscode": {
   "interpreter": {
    "hash": "7b5397a2bf77fa055d8167da5446012172620a7a42afd7048bad863c46440604"
   }
  }
 },
 "nbformat": 4,
 "nbformat_minor": 2
}
