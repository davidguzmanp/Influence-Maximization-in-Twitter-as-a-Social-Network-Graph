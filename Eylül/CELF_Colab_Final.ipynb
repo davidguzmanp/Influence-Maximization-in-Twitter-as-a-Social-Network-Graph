{
  "cells": [
    {
      "cell_type": "code",
      "execution_count": 1,
      "metadata": {
        "colab": {
          "base_uri": "https://localhost:8080/"
        },
        "id": "4j9cQk8a6Z1X",
        "outputId": "543b996a-5e17-4748-8047-b53b4d48ce95"
      },
      "outputs": [
        {
          "name": "stdout",
          "output_type": "stream",
          "text": [
            "Looking in indexes: https://pypi.org/simple, https://us-python.pkg.dev/colab-wheels/public/simple/\n",
            "Collecting igraph\n",
            "  Downloading igraph-0.10.2-cp38-cp38-manylinux_2_17_x86_64.manylinux2014_x86_64.whl (3.3 MB)\n",
            "\u001b[K     |████████████████████████████████| 3.3 MB 9.7 MB/s \n",
            "\u001b[?25hCollecting texttable>=1.6.2\n",
            "  Downloading texttable-1.6.7-py2.py3-none-any.whl (10 kB)\n",
            "Installing collected packages: texttable, igraph\n",
            "Successfully installed igraph-0.10.2 texttable-1.6.7\n",
            "Looking in indexes: https://pypi.org/simple, https://us-python.pkg.dev/colab-wheels/public/simple/\n",
            "Collecting import_ipynb\n",
            "  Downloading import_ipynb-0.1.4-py3-none-any.whl (4.1 kB)\n",
            "Requirement already satisfied: IPython in /usr/local/lib/python3.8/dist-packages (from import_ipynb) (7.9.0)\n",
            "Requirement already satisfied: nbformat in /usr/local/lib/python3.8/dist-packages (from import_ipynb) (5.7.0)\n",
            "Requirement already satisfied: traitlets>=4.2 in /usr/local/lib/python3.8/dist-packages (from IPython->import_ipynb) (5.7.1)\n",
            "Requirement already satisfied: backcall in /usr/local/lib/python3.8/dist-packages (from IPython->import_ipynb) (0.2.0)\n",
            "Requirement already satisfied: pexpect in /usr/local/lib/python3.8/dist-packages (from IPython->import_ipynb) (4.8.0)\n",
            "Requirement already satisfied: decorator in /usr/local/lib/python3.8/dist-packages (from IPython->import_ipynb) (4.4.2)\n",
            "Requirement already satisfied: pygments in /usr/local/lib/python3.8/dist-packages (from IPython->import_ipynb) (2.6.1)\n",
            "Requirement already satisfied: setuptools>=18.5 in /usr/local/lib/python3.8/dist-packages (from IPython->import_ipynb) (57.4.0)\n",
            "Requirement already satisfied: pickleshare in /usr/local/lib/python3.8/dist-packages (from IPython->import_ipynb) (0.7.5)\n",
            "Collecting jedi>=0.10\n",
            "  Downloading jedi-0.18.2-py2.py3-none-any.whl (1.6 MB)\n",
            "\u001b[K     |████████████████████████████████| 1.6 MB 10.8 MB/s \n",
            "\u001b[?25hRequirement already satisfied: prompt-toolkit<2.1.0,>=2.0.0 in /usr/local/lib/python3.8/dist-packages (from IPython->import_ipynb) (2.0.10)\n",
            "Requirement already satisfied: parso<0.9.0,>=0.8.0 in /usr/local/lib/python3.8/dist-packages (from jedi>=0.10->IPython->import_ipynb) (0.8.3)\n",
            "Requirement already satisfied: six>=1.9.0 in /usr/local/lib/python3.8/dist-packages (from prompt-toolkit<2.1.0,>=2.0.0->IPython->import_ipynb) (1.15.0)\n",
            "Requirement already satisfied: wcwidth in /usr/local/lib/python3.8/dist-packages (from prompt-toolkit<2.1.0,>=2.0.0->IPython->import_ipynb) (0.2.5)\n",
            "Requirement already satisfied: jsonschema>=2.6 in /usr/local/lib/python3.8/dist-packages (from nbformat->import_ipynb) (4.3.3)\n",
            "Requirement already satisfied: jupyter-core in /usr/local/lib/python3.8/dist-packages (from nbformat->import_ipynb) (5.1.0)\n",
            "Requirement already satisfied: fastjsonschema in /usr/local/lib/python3.8/dist-packages (from nbformat->import_ipynb) (2.16.2)\n",
            "Requirement already satisfied: importlib-resources>=1.4.0 in /usr/local/lib/python3.8/dist-packages (from jsonschema>=2.6->nbformat->import_ipynb) (5.10.1)\n",
            "Requirement already satisfied: attrs>=17.4.0 in /usr/local/lib/python3.8/dist-packages (from jsonschema>=2.6->nbformat->import_ipynb) (22.1.0)\n",
            "Requirement already satisfied: pyrsistent!=0.17.0,!=0.17.1,!=0.17.2,>=0.14.0 in /usr/local/lib/python3.8/dist-packages (from jsonschema>=2.6->nbformat->import_ipynb) (0.19.2)\n",
            "Requirement already satisfied: zipp>=3.1.0 in /usr/local/lib/python3.8/dist-packages (from importlib-resources>=1.4.0->jsonschema>=2.6->nbformat->import_ipynb) (3.11.0)\n",
            "Requirement already satisfied: platformdirs>=2.5 in /usr/local/lib/python3.8/dist-packages (from jupyter-core->nbformat->import_ipynb) (2.6.0)\n",
            "Requirement already satisfied: ptyprocess>=0.5 in /usr/local/lib/python3.8/dist-packages (from pexpect->IPython->import_ipynb) (0.7.0)\n",
            "Installing collected packages: jedi, import-ipynb\n",
            "Successfully installed import-ipynb-0.1.4 jedi-0.18.2\n"
          ]
        }
      ],
      "source": [
        "!pip install igraph\n",
        "!pip install import_ipynb\n"
      ]
    },
    {
      "cell_type": "code",
      "execution_count": 2,
      "metadata": {
        "id": "DPwLlK5agnV8"
      },
      "outputs": [],
      "source": [
        "import networkx as nx\n",
        "import networkx.algorithms.community as nxcom\n",
        "import matplotlib.pyplot as plt\n",
        "import numpy as np\n",
        "import time as time\n",
        "from random import uniform, seed\n",
        "from igraph import *\n",
        "import copy\n",
        "import pandas as pd\n",
        "from matplotlib import figure\n",
        "import random as rd"
      ]
    },
    {
      "cell_type": "code",
      "execution_count": 3,
      "metadata": {
        "colab": {
          "base_uri": "https://localhost:8080/"
        },
        "id": "haEC8hVGgnWE",
        "outputId": "d7f460d1-2f17-496a-9e17-fe6dce6bbe07"
      },
      "outputs": [
        {
          "name": "stdout",
          "output_type": "stream",
          "text": [
            "importing Jupyter notebook from Models.ipynb\n"
          ]
        }
      ],
      "source": [
        "import import_ipynb\n",
        "import Models as models\n",
        "import pickle\n",
        "import json"
      ]
    },
    {
      "attachments": {},
      "cell_type": "markdown",
      "metadata": {},
      "source": [
        "# CELF"
      ]
    },
    {
      "cell_type": "code",
      "execution_count": 6,
      "metadata": {
        "id": "ZlcST4V2gnWM"
      },
      "outputs": [],
      "source": [
        "def compute_spread(g,seeds,p=0.5,mc=10):\n",
        "    spread = []\n",
        "    for i in range(mc):\n",
        "        new_active = seeds[:]\n",
        "        activated_nodes = seeds[:]\n",
        "\n",
        "        while new_active:\n",
        "            new_ones = []\n",
        "\n",
        "            for node in new_active:\n",
        "                np.random.seed(i)\n",
        "                success = np.random.uniform(0,1,len(g.neighbors(node,mode=\"out\"))) < p\n",
        "                new_ones += list(np.extract(success, g.neighbors(node,mode=\"out\")))\n",
        "            new_active = list(set(new_ones) - set(activated_nodes))\n",
        "            activated_nodes += new_active\n",
        "        spread.append(len(activated_nodes))\n",
        "    return(np.mean(spread))\n",
        "\n",
        "# default probability is 0.5 and monte carlo is 10\n",
        "# g is the graph, k is the seed size\n",
        "# # https://github.com/hautahi/IM_GreedyCELF  \n",
        "def celf(g,k,p=0.5,mc=10):  \n",
        "    start_time = time.time() \n",
        "    # firt round: find marginal gain for each node\n",
        "    marg_gain = [compute_spread(g,[node],p,mc) for node in range(g.vcount())]\n",
        "    Q = sorted(zip(range(g.vcount()),marg_gain), key=lambda x: x[1],reverse=True) # sort Queue in descending order\n",
        "    seeds, spread, spreads_list = [Q[0][0]], Q[0][1], [Q[0][1]]\n",
        "    Q, count_of_look_ups, times = Q[1:], [g.vcount()], [time.time()-start_time]\n",
        "   \n",
        "    for i in range(k-1):   # k = seed size  \n",
        "        check  = False\n",
        "        node_lookup = 0\n",
        "        while not check:\n",
        "            node_lookup += 1\n",
        "            current = Q[0][0]\n",
        "            Q[0] = (current,compute_spread(g,seeds+[current],p,mc) - spread) # ojnly compute marginal gain for the first node in the queue\n",
        "            Q = sorted(Q, key = lambda x: x[1], reverse = True)\n",
        "            check = (Q[0][0] == current)\n",
        "        spread += Q[0][1]\n",
        "        seeds.append(Q[0][0])\n",
        "        spreads_list.append(spread)\n",
        "        count_of_look_ups.append(node_lookup)\n",
        "        times.append(time.time() - start_time)\n",
        "        Q = Q[1:]\n",
        "\n",
        "    return(seeds,spreads_list,times,count_of_look_ups)"
      ]
    },
    {
      "cell_type": "code",
      "execution_count": 33,
      "metadata": {
        "id": "bM1ecOHqgpJU"
      },
      "outputs": [],
      "source": [
        "AAAA = Graph.Read_GML('PB2020.gml') # for printing account names"
      ]
    },
    {
      "cell_type": "markdown",
      "metadata": {
        "id": "6I5X5vaGjhrB"
      },
      "source": [
        "# Independent Cascade"
      ]
    },
    {
      "cell_type": "code",
      "execution_count": 8,
      "metadata": {
        "id": "iNQq1v3Nl4er"
      },
      "outputs": [],
      "source": [
        "G = nx.read_gml('PB2020.gml')\n",
        "G = G.reverse()"
      ]
    },
    {
      "cell_type": "code",
      "execution_count": 9,
      "metadata": {
        "id": "l-Z_P0YVR-IT"
      },
      "outputs": [],
      "source": [
        "pb2020 = Graph.from_networkx(G)"
      ]
    },
    {
      "cell_type": "code",
      "execution_count": null,
      "metadata": {
        "id": "rUHID6b6gnWO"
      },
      "outputs": [],
      "source": [
        "# read from gml\n",
        "Independent_Cascade = models.Independent_Cascade()\n",
        "Independent_Cascade.fit(G)\n",
        "\n",
        "p_Independent_Cascade = Independent_Cascade.probability[Independent_Cascade.probability != 0]\n",
        "celf_output_Independent_Cascade = celf(pb2020, 20, p = np.mean(p_Independent_Cascade), mc = 100)"
      ]
    },
    {
      "cell_type": "code",
      "execution_count": null,
      "metadata": {
        "id": "oO8CsCwb7_i8"
      },
      "outputs": [],
      "source": [
        "pickle_Independent_Cascade = pickle.dumps(celf_output_Independent_Cascade)\n",
        "\n",
        "with open('pickle_Independent_Cascade.pickle', 'wb') as handle:\n",
        "    pickle.dump(pickle_Independent_Cascade, handle)"
      ]
    },
    {
      "cell_type": "code",
      "execution_count": null,
      "metadata": {
        "id": "MLzGrUGYR-IU"
      },
      "outputs": [],
      "source": [
        "with open('Independent_Cascade.json', 'w') as fjson:\n",
        "    json.dump(celf_output_Independent_Cascade, fjson)"
      ]
    },
    {
      "cell_type": "code",
      "execution_count": null,
      "metadata": {
        "id": "yanmFxveMfJA"
      },
      "outputs": [],
      "source": [
        "AAAAA = Graph.Read_GML('PB2020.gml')"
      ]
    },
    {
      "cell_type": "code",
      "execution_count": null,
      "metadata": {
        "colab": {
          "base_uri": "https://localhost:8080/"
        },
        "id": "dEdKXBI6R-IU",
        "outputId": "6d01e773-2d53-4bf7-adb8-acbe29a9976b"
      },
      "outputs": [
        {
          "name": "stdout",
          "output_type": "stream",
          "text": [
            "principe_giovan\n",
            "Premises187\n",
            "MoralDK\n",
            "proudboy_\n",
            "enrique_tarrio\n",
            "GavinM_ProudBoy\n",
            "proudboy2012\n",
            "ProudBoysGBG\n",
            "ProudBoysUS\n",
            "ProudBoyzLondon\n",
            "DetroitProudBoy\n",
            "Father_Rhyme\n",
            "ColoradoPOYB\n",
            "Proudboy13\n",
            "decentbastards\n",
            "adamciferri\n",
            "GregoryKuhnJr1\n",
            "guns4lyf\n",
            "ashymadison\n",
            "usa_chopper\n"
          ]
        }
      ],
      "source": [
        "a = []\n",
        "\n",
        "for i in celf_output_Independent_Cascade[0]:\n",
        "    print(AAAAA.vs['label'][i])\n",
        "    a.append(AAAAA.vs['label'][i])"
      ]
    },
    {
      "cell_type": "code",
      "execution_count": null,
      "metadata": {
        "colab": {
          "base_uri": "https://localhost:8080/"
        },
        "id": "L1Bdw_rJgnWP",
        "outputId": "c77976b6-6b4d-4143-cf5e-067875e4928d"
      },
      "outputs": [
        {
          "name": "stdout",
          "output_type": "stream",
          "text": [
            "The optimal seed set is:  [1916, 8136, 37, 8051, 7508, 6310, 8068, 7740, 7251, 11887, 1596, 8033, 7157, 1493, 7456, 7240, 0, 27, 19, 8032]\n",
            "The resulting spread is:  [1137.97, 2104.7, 2446.58, 2669.67, 2813.38, 2942.92, 2997.12, 3029.87, 3059.62, 3088.53, 3115.37, 3136.01, 3148.37, 3157.3, 3162.26, 3165.74, 3168.39, 3170.13, 3171.59, 3173.03]\n",
            "The time for each iteration is:  [353.96013283729553, 357.03223156929016, 1249.7630233764648, 1286.7884104251862, 1334.817443370819, 1730.576559305191, 6156.150046825409, 7322.482601642609, 7326.096370220184, 7329.7310962677, 7362.500376701355, 7395.648240327835, 7410.599984407425, 7414.392749547958, 7478.138260126114, 7730.668055772781, 7755.647500514984, 8663.508173704147, 8830.539412736893, 9002.90307354927]\n",
            "The number of times the spread is computed is:  [13217, 1, 349, 12, 14, 98, 990, 226, 1, 1, 9, 9, 4, 1, 17, 66, 4, 142, 26, 27]\n"
          ]
        }
      ],
      "source": [
        "print(\"The optimal seed set is: \", celf_output_Independent_Cascade[0])\n",
        "print(\"The resulting spread is: \", celf_output_Independent_Cascade[1])\n",
        "print(\"The time for each iteration is: \", celf_output_Independent_Cascade[2])\n",
        "print(\"The number of times the spread is computed is: \", celf_output_Independent_Cascade[3])"
      ]
    },
    {
      "cell_type": "code",
      "execution_count": null,
      "metadata": {
        "colab": {
          "base_uri": "https://localhost:8080/",
          "height": 421
        },
        "id": "oXyMmuvQgnWQ",
        "outputId": "7a9b38b5-d430-4e91-e64e-3937c7b0ba29"
      },
      "outputs": [
        {
          "data": {
            "text/plain": [
              "<matplotlib.legend.Legend at 0x7fd43e0062e0>"
            ]
          },
          "execution_count": 18,
          "metadata": {},
          "output_type": "execute_result"
        },
        {
          "data": {
            "image/png": "[encoded data removed]",
            "text/plain": [
              "<Figure size 648x432 with 1 Axes>"
            ]
          },
          "metadata": {
            "needs_background": "light"
          },
          "output_type": "display_data"
        }
      ],
      "source": [
        "# Plot settings\n",
        "plt.rcParams['figure.figsize'] = (9,6)\n",
        "plt.rcParams['lines.linewidth'] = 4\n",
        "plt.rcParams['xtick.bottom'] = False\n",
        "plt.rcParams['ytick.left'] = False\n",
        "\n",
        "# Plot Computation Time\n",
        "plt.plot(range(1,len(celf_output_Independent_Cascade[2])+1),celf_output_Independent_Cascade[2],label=\"CELF\",color=\"#B3CDE3\")\n",
        "plt.ylabel('Computation Time (Seconds)'); plt.xlabel('Size of Seed Set')\n",
        "plt.title('Computation Time'); plt.legend(loc=2)"
      ]
    },
    {
      "cell_type": "code",
      "execution_count": null,
      "metadata": {
        "colab": {
          "base_uri": "https://localhost:8080/",
          "height": 421
        },
        "id": "gH1oj-PpgnWR",
        "outputId": "cebb0a14-d62f-470d-f9bc-e12260a42d1a"
      },
      "outputs": [
        {
          "data": {
            "text/plain": [
              "<matplotlib.legend.Legend at 0x7fd43dfd0e20>"
            ]
          },
          "execution_count": 29,
          "metadata": {},
          "output_type": "execute_result"
        },
        {
          "data": {
            "image/png": "[encoded data removed]",
            "text/plain": [
              "<Figure size 648x432 with 1 Axes>"
            ]
          },
          "metadata": {
            "needs_background": "light"
          },
          "output_type": "display_data"
        }
      ],
      "source": [
        "# Plot Expected Spread by Seed Set Size\n",
        "plt.plot(range(1,len(celf_output_Independent_Cascade[1])+1),celf_output_Independent_Cascade[1],label=\"CELF\",color=\"#B3CDE3\")\n",
        "plt.xlabel('Size of Seed Set'); plt.ylabel('Expected Spread')\n",
        "plt.title('Expected Spread'); plt.legend(loc=2)"
      ]
    },
    {
      "cell_type": "markdown",
      "metadata": {
        "id": "zk9YT26r6iSv"
      },
      "source": [
        "# Decreasing Cascade"
      ]
    },
    {
      "cell_type": "code",
      "execution_count": 16,
      "metadata": {
        "id": "Y9LBB0DP6iSw"
      },
      "outputs": [],
      "source": [
        "# read from gml\n",
        "Decreasing_Cascade = models.Decreasing_Cascade()\n",
        "Decreasing_Cascade.fit(G)\n",
        "\n",
        "p_Decreasing_Cascade = Decreasing_Cascade.probability[Decreasing_Cascade.probability != 0]\n",
        "celf_output_Decreasing_Cascade = celf(pb2020, 20, p = np.mean(p_Decreasing_Cascade), mc = 100)"
      ]
    },
    {
      "cell_type": "code",
      "execution_count": 17,
      "metadata": {
        "id": "PnEMevJ48RSb"
      },
      "outputs": [],
      "source": [
        "pickle_Decreasing_Cascade = pickle.dumps(celf_output_Decreasing_Cascade)\n",
        "\n",
        "with open('pickle_Decreasing_Cascade.pickle', 'wb') as handle:\n",
        "    pickle.dump(pickle_Decreasing_Cascade, handle)"
      ]
    },
    {
      "cell_type": "code",
      "execution_count": 18,
      "metadata": {
        "id": "3AfbKnhfR-IW"
      },
      "outputs": [],
      "source": [
        "with open('Decreasing_Cascade.json', 'w') as fjson:\n",
        "    json.dump(celf_output_Decreasing_Cascade, fjson)"
      ]
    },
    {
      "cell_type": "code",
      "execution_count": 34,
      "metadata": {
        "colab": {
          "base_uri": "https://localhost:8080/",
          "height": 189
        },
        "id": "5KXNsPYrR-IW",
        "outputId": "7bf345cc-afc3-47dc-eed1-fb253d9540e6"
      },
      "outputs": [
        {
          "ename": "NameError",
          "evalue": "ignored",
          "output_type": "error",
          "traceback": [
            "\u001b[0;31m---------------------------------------------------------------------------\u001b[0m",
            "\u001b[0;31mNameError\u001b[0m                                 Traceback (most recent call last)",
            "\u001b[0;32m<ipython-input-34-6dc1a2fb46f8>\u001b[0m in \u001b[0;36m<module>\u001b[0;34m\u001b[0m\n\u001b[0;32m----> 1\u001b[0;31m \u001b[0;32mfor\u001b[0m \u001b[0mi\u001b[0m \u001b[0;32min\u001b[0m \u001b[0mcelf_output_Decreasing_Cascade\u001b[0m\u001b[0;34m[\u001b[0m\u001b[0;36m0\u001b[0m\u001b[0;34m]\u001b[0m\u001b[0;34m:\u001b[0m\u001b[0;34m\u001b[0m\u001b[0;34m\u001b[0m\u001b[0m\n\u001b[0m\u001b[1;32m      2\u001b[0m     \u001b[0mprint\u001b[0m\u001b[0;34m(\u001b[0m\u001b[0mAAAA\u001b[0m\u001b[0;34m.\u001b[0m\u001b[0mvs\u001b[0m\u001b[0;34m[\u001b[0m\u001b[0;34m'label'\u001b[0m\u001b[0;34m]\u001b[0m\u001b[0;34m[\u001b[0m\u001b[0mi\u001b[0m\u001b[0;34m]\u001b[0m\u001b[0;34m)\u001b[0m\u001b[0;34m\u001b[0m\u001b[0;34m\u001b[0m\u001b[0m\n",
            "\u001b[0;31mNameError\u001b[0m: name 'celf_output_Decreasing_Cascade' is not defined"
          ]
        }
      ],
      "source": [
        "for i in celf_output_Decreasing_Cascade[0]:\n",
        "    print(AAAA.vs['label'][i])"
      ]
    },
    {
      "cell_type": "code",
      "execution_count": 20,
      "metadata": {
        "colab": {
          "base_uri": "https://localhost:8080/"
        },
        "id": "p-0Lq6lS6iSw",
        "outputId": "3c741321-0dcf-4b51-e730-eea740394ef7"
      },
      "outputs": [
        {
          "name": "stdout",
          "output_type": "stream",
          "text": [
            "The optimal seed set is:  [6310, 1916, 1596, 7251, 37, 1493, 7157, 7456, 7508, 8020, 21, 1485, 0, 7154, 6349, 8667, 11989, 8060, 6336, 2074]\n",
            "The resulting spread is:  [170.2, 253.03, 317.62, 363.09, 386.08, 408.94, 424.89, 435.74, 443.45, 447.95, 451.52, 454.29, 456.1, 457.62, 459.13, 460.5, 461.77, 463.01, 464.23, 465.44]\n",
            "The time for each iteration is:  [515.0244359970093, 517.8426225185394, 641.6042211055756, 1220.2066597938538, 5177.020837068558, 5177.973946094513, 5243.100147247314, 6642.570923089981, 6687.883443117142, 6743.658916950226, 7469.340130329132, 7481.095819950104, 8481.791491031647, 8789.102011919022, 8790.184591531754, 9761.755005836487, 15178.846940040588, 15383.035708904266, 15384.08792090416, 15397.21490597725]\n",
            "The number of times the spread is computed is:  [13217, 5, 185, 763, 4546, 1, 66, 1381, 44, 52, 686, 11, 919, 283, 1, 888, 4932, 184, 1, 12]\n"
          ]
        }
      ],
      "source": [
        "print(\"The optimal seed set is: \", celf_output_Decreasing_Cascade[0])\n",
        "print(\"The resulting spread is: \", celf_output_Decreasing_Cascade[1])\n",
        "print(\"The time for each iteration is: \", celf_output_Decreasing_Cascade[2])\n",
        "print(\"The number of times the spread is computed is: \", celf_output_Decreasing_Cascade[3])"
      ]
    },
    {
      "cell_type": "code",
      "execution_count": 21,
      "metadata": {
        "colab": {
          "base_uri": "https://localhost:8080/",
          "height": 422
        },
        "id": "5J947yNb6iSx",
        "outputId": "7830a130-de40-4615-ca78-87f325b110d3"
      },
      "outputs": [
        {
          "data": {
            "text/plain": [
              "<matplotlib.legend.Legend at 0x7fd09755c5e0>"
            ]
          },
          "execution_count": 21,
          "metadata": {},
          "output_type": "execute_result"
        },
        {
          "data": {
            "image/png": "[encoded data removed]",
            "text/plain": [
              "<Figure size 648x432 with 1 Axes>"
            ]
          },
          "metadata": {
            "needs_background": "light"
          },
          "output_type": "display_data"
        }
      ],
      "source": [
        "# Plot settings\n",
        "plt.rcParams['figure.figsize'] = (9,6)\n",
        "plt.rcParams['lines.linewidth'] = 4\n",
        "plt.rcParams['xtick.bottom'] = False\n",
        "plt.rcParams['ytick.left'] = False\n",
        "\n",
        "# Plot Computation Time\n",
        "plt.plot(range(1,len(celf_output_Decreasing_Cascade[2])+1),celf_output_Decreasing_Cascade[2],label=\"CELF\",color=\"#B3CDE3\")\n",
        "plt.ylabel('Computation Time (Seconds)'); plt.xlabel('Size of Seed Set')\n",
        "plt.title('Computation Time'); plt.legend(loc=2)"
      ]
    },
    {
      "cell_type": "code",
      "execution_count": 22,
      "metadata": {
        "colab": {
          "base_uri": "https://localhost:8080/",
          "height": 422
        },
        "id": "RmHZ5d7b6iSx",
        "outputId": "cb2822e6-7b71-4c4c-c628-1ee908e028d5"
      },
      "outputs": [
        {
          "data": {
            "text/plain": [
              "<matplotlib.legend.Legend at 0x7fd0971f4f10>"
            ]
          },
          "execution_count": 22,
          "metadata": {},
          "output_type": "execute_result"
        },
        {
          "data": {
            "image/png": "[encoded data removed]",
            "text/plain": [
              "<Figure size 648x432 with 1 Axes>"
            ]
          },
          "metadata": {
            "needs_background": "light"
          },
          "output_type": "display_data"
        }
      ],
      "source": [
        "# Plot Expected Spread by Seed Set Size\n",
        "plt.plot(range(1,len(celf_output_Decreasing_Cascade[1])+1),celf_output_Decreasing_Cascade[1],label=\"CELF\",color=\"#B3CDE3\")\n",
        "plt.xlabel('Size of Seed Set'); plt.ylabel('Expected Spread')\n",
        "plt.title('Expected Spread'); plt.legend(loc=2)"
      ]
    },
    {
      "cell_type": "markdown",
      "metadata": {
        "id": "yZM2Sw-pjmCy"
      },
      "source": [
        "# WCM"
      ]
    },
    {
      "cell_type": "code",
      "execution_count": 10,
      "metadata": {
        "id": "wsRCQHg7u0sK"
      },
      "outputs": [],
      "source": [
        "# read from gml\n",
        "Weighted_Cascade = models.Weighted_Cascade()\n",
        "Weighted_Cascade.fit(G)\n",
        "\n",
        "p_Weighted_Cascade = Weighted_Cascade.probability[Weighted_Cascade.probability != 0]\n",
        "celf_output_Weighted_Cascade = celf(pb2020, 20, p = np.mean(p_Weighted_Cascade), mc = 100)"
      ]
    },
    {
      "cell_type": "code",
      "execution_count": 11,
      "metadata": {
        "id": "FG5cJ8ij8Z77"
      },
      "outputs": [],
      "source": [
        "pickle_Weighted_Cascade = pickle.dumps(celf_output_Weighted_Cascade)\n",
        "\n",
        "with open('pickle_Weighted_Cascade.pickle', 'wb') as handle:\n",
        "    pickle.dump(pickle_Weighted_Cascade, handle)"
      ]
    },
    {
      "cell_type": "code",
      "execution_count": 12,
      "metadata": {
        "id": "NqZb_KjeR-Ia"
      },
      "outputs": [],
      "source": [
        "with open('Weighted_Cascade.json', 'w') as fjson:\n",
        "    json.dump(celf_output_Weighted_Cascade, fjson)"
      ]
    },
    {
      "cell_type": "code",
      "execution_count": 35,
      "metadata": {
        "colab": {
          "base_uri": "https://localhost:8080/"
        },
        "id": "fm9GvlbYR-Ib",
        "outputId": "50fa27d3-0c2c-4652-c275-2622c4748d1c"
      },
      "outputs": [
        {
          "name": "stdout",
          "output_type": "stream",
          "text": [
            "principe_giovan\n",
            "Premises187\n",
            "MoralDK\n",
            "proudboy_\n",
            "enrique_tarrio\n",
            "GavinM_ProudBoy\n",
            "proudboy2012\n",
            "ProudBoysGBG\n",
            "ProudBoysUS\n",
            "ProudBoyzLondon\n",
            "DetroitProudBoy\n",
            "Father_Rhyme\n",
            "ColoradoPOYB\n",
            "cckrch\n",
            "decentbastards\n",
            "Proudboy13\n",
            "American_Greg\n",
            "GregoryKuhnJr1\n",
            "Sj71Steven\n",
            "usa_chopper\n"
          ]
        }
      ],
      "source": [
        "for i in celf_output_Weighted_Cascade[0]:\n",
        "    print(AAAA.vs['label'][i])"
      ]
    },
    {
      "cell_type": "code",
      "execution_count": 13,
      "metadata": {
        "colab": {
          "base_uri": "https://localhost:8080/"
        },
        "id": "gkv9Byg_u0sK",
        "outputId": "50d5ac93-7df0-4f0c-98c4-faed4a2396b8"
      },
      "outputs": [
        {
          "name": "stdout",
          "output_type": "stream",
          "text": [
            "The optimal seed set is:  [6310, 1916, 1596, 7251, 37, 1493, 7157, 7456, 7508, 8020, 21, 1485, 0, 8675, 6349, 7154, 11242, 11989, 7471, 2074]\n",
            "The resulting spread is:  [71.85, 115.59, 148.19, 171.6, 185.37, 197.67, 206.17, 212.21, 216.92, 219.7, 222.17, 223.99, 225.48, 226.86, 228.12, 229.37, 230.53, 231.67, 232.81, 233.94]\n",
            "The time for each iteration is:  [137.845641374588, 138.12411904335022, 138.57750606536865, 138.99254822731018, 140.8390073776245, 142.25314831733704, 435.99164056777954, 2856.5507814884186, 2857.0437366962433, 3642.373048067093, 3665.8117480278015, 3809.8945486545563, 4080.883213043213, 4593.030191421509, 5254.656946659088, 5255.214297771454, 5265.233835697174, 7650.675204515457, 7757.616986274719, 7758.859664440155]\n",
            "The number of times the spread is computed is:  [13217, 1, 1, 1, 4, 3, 603, 4705, 1, 1433, 41, 255, 484, 912, 1151, 1, 18, 4038, 184, 2]\n"
          ]
        }
      ],
      "source": [
        "print(\"The optimal seed set is: \", celf_output_Weighted_Cascade[0])\n",
        "print(\"The resulting spread is: \", celf_output_Weighted_Cascade[1])\n",
        "print(\"The time for each iteration is: \", celf_output_Weighted_Cascade[2])\n",
        "print(\"The number of times the spread is computed is: \", celf_output_Weighted_Cascade[3])"
      ]
    },
    {
      "cell_type": "code",
      "execution_count": 14,
      "metadata": {
        "colab": {
          "base_uri": "https://localhost:8080/",
          "height": 422
        },
        "id": "hOKGCiwEu0sL",
        "outputId": "82788c47-79c7-439c-e91d-b5c01c7c01a6"
      },
      "outputs": [
        {
          "data": {
            "text/plain": [
              "<matplotlib.legend.Legend at 0x7fd06b4ebd00>"
            ]
          },
          "execution_count": 14,
          "metadata": {},
          "output_type": "execute_result"
        },
        {
          "data": {
            "image/png": "[encoded data removed]",
            "text/plain": [
              "<Figure size 648x432 with 1 Axes>"
            ]
          },
          "metadata": {
            "needs_background": "light"
          },
          "output_type": "display_data"
        }
      ],
      "source": [
        "# Plot settings\n",
        "plt.rcParams['figure.figsize'] = (9,6)\n",
        "plt.rcParams['lines.linewidth'] = 4\n",
        "plt.rcParams['xtick.bottom'] = False\n",
        "plt.rcParams['ytick.left'] = False\n",
        "\n",
        "# Plot Computation Time\n",
        "plt.plot(range(1,len(celf_output_Weighted_Cascade[2])+1),celf_output_Weighted_Cascade[2],label=\"CELF\",color=\"#B3CDE3\")\n",
        "plt.ylabel('Computation Time (Seconds)'); plt.xlabel('Size of Seed Set')\n",
        "plt.title('Computation Time'); plt.legend(loc=2)"
      ]
    },
    {
      "cell_type": "code",
      "execution_count": 15,
      "metadata": {
        "colab": {
          "base_uri": "https://localhost:8080/",
          "height": 422
        },
        "id": "PBLPIB9wu0sL",
        "outputId": "333f2665-1c26-4797-f8a4-a0a17b1b823f"
      },
      "outputs": [
        {
          "data": {
            "text/plain": [
              "<matplotlib.legend.Legend at 0x7fd06b3f87c0>"
            ]
          },
          "execution_count": 15,
          "metadata": {},
          "output_type": "execute_result"
        },
        {
          "data": {
            "image/png": "[encoded data removed]",
            "text/plain": [
              "<Figure size 648x432 with 1 Axes>"
            ]
          },
          "metadata": {
            "needs_background": "light"
          },
          "output_type": "display_data"
        }
      ],
      "source": [
        "# Plot Expected Spread by Seed Set Size\n",
        "plt.plot(range(1,len(celf_output_Weighted_Cascade[1])+1),celf_output_Weighted_Cascade[1],label=\"CELF\",color=\"#B3CDE3\")\n",
        "plt.xlabel('Size of Seed Set'); plt.ylabel('Expected Spread')\n",
        "plt.title('Expected Spread'); plt.legend(loc=2)"
      ]
    },
    {
      "cell_type": "markdown",
      "metadata": {
        "id": "6zah9ZOTvpx8"
      },
      "source": [
        "# Trivalency "
      ]
    },
    {
      "cell_type": "code",
      "execution_count": 16,
      "metadata": {
        "id": "HpsiGkNXvxJ7"
      },
      "outputs": [],
      "source": [
        "# read from gml\n",
        "Trivalency_Model = models.Trivalency_Model()\n",
        "Trivalency_Model.fit(G)\n",
        "\n",
        "p_Trivalency_Model = Trivalency_Model.probability[Trivalency_Model.probability != 0]\n",
        "celf_output_Trivalency_Model = celf(pb2020, 20, p = np.mean(p_Trivalency_Model), mc = 100)"
      ]
    },
    {
      "cell_type": "code",
      "execution_count": 17,
      "metadata": {
        "id": "Ji3HHs4M8ff7"
      },
      "outputs": [],
      "source": [
        "pickle_Trivalency_Model = pickle.dumps(celf_output_Trivalency_Model)\n",
        "\n",
        "with open('pickle_Trivalency_Model.pickle', 'wb') as handle:\n",
        "    pickle.dump(pickle_Trivalency_Model, handle)"
      ]
    },
    {
      "cell_type": "code",
      "execution_count": 18,
      "metadata": {
        "id": "sQ2RtD8ER-Ie"
      },
      "outputs": [],
      "source": [
        "with open('Trivalency_Model.json', 'w') as fjson:\n",
        "    json.dump(celf_output_Trivalency_Model, fjson)"
      ]
    },
    {
      "cell_type": "code",
      "execution_count": 36,
      "metadata": {
        "colab": {
          "base_uri": "https://localhost:8080/"
        },
        "id": "wwSwkrUhR-Ie",
        "outputId": "3848c285-b748-4d10-df43-fc2b625b5d10"
      },
      "outputs": [
        {
          "name": "stdout",
          "output_type": "stream",
          "text": [
            "principe_giovan\n",
            "Premises187\n",
            "MoralDK\n",
            "proudboy_\n",
            "enrique_tarrio\n",
            "GavinM_ProudBoy\n",
            "proudboy2012\n",
            "ProudBoysGBG\n",
            "ProudBoysUS\n",
            "ProudBoyzLondon\n",
            "DetroitProudBoy\n",
            "Father_Rhyme\n",
            "ColoradoPOYB\n",
            "cckrch\n",
            "decentbastards\n",
            "American_Greg\n",
            "Proudboy13\n",
            "guns4lyf\n",
            "ashymadison\n",
            "mike29401\n"
          ]
        }
      ],
      "source": [
        "for i in celf_output_Trivalency_Model[0]:\n",
        "    print(AAAA.vs['label'][i])"
      ]
    },
    {
      "cell_type": "code",
      "execution_count": 19,
      "metadata": {
        "colab": {
          "base_uri": "https://localhost:8080/"
        },
        "id": "5PaNHG8hvxJ7",
        "outputId": "583a6535-30da-4bea-d8b0-3c5b17f7514b"
      },
      "outputs": [
        {
          "name": "stdout",
          "output_type": "stream",
          "text": [
            "The optimal seed set is:  [6310, 1916, 1596, 7251, 37, 1493, 7157, 7456, 7508, 8020, 21, 1485, 0, 8675, 6349, 11242, 7154, 8060, 6336, 5]\n",
            "The resulting spread is:  [23.36, 38.4, 49.62, 58.14, 63.63, 68.33, 71.7, 74.37, 76.6, 78.2, 79.7, 80.94, 82.15, 83.28, 84.37, 85.45, 86.53, 87.59, 88.64, 89.69]\n",
            "The time for each iteration is:  [43.76752471923828, 43.860724449157715, 43.982332706451416, 44.1362943649292, 44.34457015991211, 44.52149820327759, 44.71859574317932, 45.56133222579956, 45.75854134559631, 173.0706536769867, 173.26326894760132, 1174.8642740249634, 1219.387167930603, 1539.414338350296, 1597.4237504005432, 1911.2873072624207, 1912.0071074962616, 1912.6998236179352, 1976.888543844223, 1979.6347115039825]\n",
            "The number of times the spread is computed is:  [13217, 1, 1, 1, 1, 1, 1, 4, 1, 606, 1, 4574, 198, 1415, 255, 1378, 3, 3, 265, 11]\n"
          ]
        }
      ],
      "source": [
        "print(\"The optimal seed set is: \", celf_output_Trivalency_Model[0])\n",
        "print(\"The resulting spread is: \", celf_output_Trivalency_Model[1])\n",
        "print(\"The time for each iteration is: \", celf_output_Trivalency_Model[2])\n",
        "print(\"The number of times the spread is computed is: \", celf_output_Trivalency_Model[3])"
      ]
    },
    {
      "cell_type": "code",
      "execution_count": 20,
      "metadata": {
        "colab": {
          "base_uri": "https://localhost:8080/",
          "height": 422
        },
        "id": "pXHm7giYvxJ8",
        "outputId": "1e93f6ce-2410-467f-fdd5-8e5bd1116667"
      },
      "outputs": [
        {
          "data": {
            "text/plain": [
              "<matplotlib.legend.Legend at 0x7fd06ad39f70>"
            ]
          },
          "execution_count": 20,
          "metadata": {},
          "output_type": "execute_result"
        },
        {
          "data": {
            "image/png": "[encoded data removed]",
            "text/plain": [
              "<Figure size 648x432 with 1 Axes>"
            ]
          },
          "metadata": {
            "needs_background": "light"
          },
          "output_type": "display_data"
        }
      ],
      "source": [
        "# Plot settings\n",
        "plt.rcParams['figure.figsize'] = (9,6)\n",
        "plt.rcParams['lines.linewidth'] = 4\n",
        "plt.rcParams['xtick.bottom'] = False\n",
        "plt.rcParams['ytick.left'] = False\n",
        "\n",
        "# Plot Computation Time\n",
        "plt.plot(range(1,len(celf_output_Trivalency_Model[2])+1),celf_output_Trivalency_Model[2],label=\"CELF\",color=\"#B3CDE3\")\n",
        "plt.ylabel('Computation Time (Seconds)'); plt.xlabel('Size of Seed Set')\n",
        "plt.title('Computation Time'); plt.legend(loc=2)"
      ]
    },
    {
      "cell_type": "code",
      "execution_count": 21,
      "metadata": {
        "colab": {
          "base_uri": "https://localhost:8080/",
          "height": 422
        },
        "id": "DULvdup6vxJ8",
        "outputId": "ccf8cab7-ef4e-4d9c-d847-7cd5c218909d"
      },
      "outputs": [
        {
          "data": {
            "text/plain": [
              "<matplotlib.legend.Legend at 0x7fd06b41ed90>"
            ]
          },
          "execution_count": 21,
          "metadata": {},
          "output_type": "execute_result"
        },
        {
          "data": {
            "image/png": "[encoded data removed]",
            "text/plain": [
              "<Figure size 648x432 with 1 Axes>"
            ]
          },
          "metadata": {
            "needs_background": "light"
          },
          "output_type": "display_data"
        }
      ],
      "source": [
        "# Plot Expected Spread by Seed Set Size\n",
        "plt.plot(range(1,len(celf_output_Trivalency_Model[1])+1),celf_output_Trivalency_Model[1],label=\"CELF\",color=\"#B3CDE3\")\n",
        "plt.xlabel('Size of Seed Set'); plt.ylabel('Expected Spread')\n",
        "plt.title('Expected Spread'); plt.legend(loc=2)"
      ]
    },
    {
      "cell_type": "markdown",
      "metadata": {
        "id": "6TBH9t596bC1"
      },
      "source": [
        "# Generalized Threshold Mode"
      ]
    },
    {
      "cell_type": "code",
      "execution_count": 22,
      "metadata": {
        "id": "9MrIpoXu6bC1"
      },
      "outputs": [],
      "source": [
        "general_threshold = models.general_threshold()\n",
        "general_threshold.fit(G)\n",
        "\n",
        "p_general_threshold = general_threshold.influence[general_threshold.influence != 0]\n",
        "celf_output_general_threshold = celf(pb2020, 20, p = np.mean(p_general_threshold), mc = 100)"
      ]
    },
    {
      "cell_type": "code",
      "execution_count": 23,
      "metadata": {
        "id": "li0231FqR-If"
      },
      "outputs": [],
      "source": [
        "pickle_general_threshold = pickle.dumps(celf_output_general_threshold)\n",
        "\n",
        "with open('pickle_general_threshold.pickle', 'wb') as handle:\n",
        "    pickle.dump(pickle_general_threshold, handle)"
      ]
    },
    {
      "cell_type": "code",
      "execution_count": 24,
      "metadata": {
        "id": "CU3rpHrZR-If"
      },
      "outputs": [],
      "source": [
        "with open('general_threshold.json', 'w') as fjson:\n",
        "    json.dump(celf_output_general_threshold, fjson)"
      ]
    },
    {
      "cell_type": "code",
      "execution_count": 37,
      "metadata": {
        "colab": {
          "base_uri": "https://localhost:8080/"
        },
        "id": "PvCri1N8R-If",
        "outputId": "afc4f67c-af56-45bc-94b0-55463e278574"
      },
      "outputs": [
        {
          "name": "stdout",
          "output_type": "stream",
          "text": [
            "principe_giovan\n",
            "Premises187\n",
            "MoralDK\n",
            "proudboy_\n",
            "enrique_tarrio\n",
            "GavinM_ProudBoy\n",
            "proudboy2012\n",
            "ProudBoysGBG\n",
            "ProudBoysUS\n",
            "ProudBoyzLondon\n",
            "DetroitProudBoy\n",
            "Father_Rhyme\n",
            "ColoradoPOYB\n",
            "cckrch\n",
            "decentbastards\n",
            "Proudboy13\n",
            "American_Greg\n",
            "GregoryKuhnJr1\n",
            "Sj71Steven\n",
            "usa_chopper\n"
          ]
        }
      ],
      "source": [
        "for i in celf_output_general_threshold[0]:\n",
        "    print(AAAA.vs['label'][i])"
      ]
    },
    {
      "cell_type": "code",
      "execution_count": 25,
      "metadata": {
        "colab": {
          "base_uri": "https://localhost:8080/"
        },
        "id": "_qdsHN7Z6bC1",
        "outputId": "7bf86c9c-7b05-48bf-d79e-3819c7b754b8"
      },
      "outputs": [
        {
          "name": "stdout",
          "output_type": "stream",
          "text": [
            "The optimal seed set is:  [6310, 1916, 1596, 7251, 37, 1493, 7157, 7456, 7508, 8020, 21, 1485, 0, 8675, 6349, 7154, 11242, 11989, 7471, 2074]\n",
            "The resulting spread is:  [71.85, 115.59, 148.19, 171.6, 185.37, 197.67, 206.17, 212.21, 216.92, 219.7, 222.17, 223.99, 225.48, 226.86, 228.12, 229.37, 230.53, 231.67, 232.81, 233.94]\n",
            "The time for each iteration is:  [135.77107667922974, 136.08820033073425, 136.4457938671112, 136.86086130142212, 138.65555477142334, 140.15923881530762, 439.13199639320374, 2910.704601049423, 2911.3186736106873, 3706.2139954566956, 3730.6344969272614, 3884.7681634426117, 4180.40248799324, 4725.48167181015, 5404.599050760269, 5405.187263727188, 5415.777118444443, 7823.486579656601, 7935.886960029602, 7937.07158613205]\n",
            "The number of times the spread is computed is:  [13217, 1, 1, 1, 4, 3, 603, 4705, 1, 1433, 41, 255, 484, 912, 1151, 1, 18, 4038, 184, 2]\n"
          ]
        }
      ],
      "source": [
        "print(\"The optimal seed set is: \", celf_output_general_threshold[0])\n",
        "print(\"The resulting spread is: \", celf_output_general_threshold[1])\n",
        "print(\"The time for each iteration is: \", celf_output_general_threshold[2])\n",
        "print(\"The number of times the spread is computed is: \", celf_output_general_threshold[3])"
      ]
    },
    {
      "cell_type": "code",
      "execution_count": 26,
      "metadata": {
        "colab": {
          "base_uri": "https://localhost:8080/",
          "height": 422
        },
        "id": "JKLuWKX46bC1",
        "outputId": "cc122e30-86fa-4f3d-f64f-4bb3a8b9403b"
      },
      "outputs": [
        {
          "data": {
            "text/plain": [
              "<matplotlib.legend.Legend at 0x7fd06ce91130>"
            ]
          },
          "execution_count": 26,
          "metadata": {},
          "output_type": "execute_result"
        },
        {
          "data": {
            "image/png": "[encoded data removed]",
            "text/plain": [
              "<Figure size 648x432 with 1 Axes>"
            ]
          },
          "metadata": {
            "needs_background": "light"
          },
          "output_type": "display_data"
        }
      ],
      "source": [
        "# Plot settings\n",
        "plt.rcParams['figure.figsize'] = (9,6)\n",
        "plt.rcParams['lines.linewidth'] = 4\n",
        "plt.rcParams['xtick.bottom'] = False\n",
        "plt.rcParams['ytick.left'] = False\n",
        "\n",
        "# Plot Computation Time\n",
        "plt.plot(range(1,len(celf_output_general_threshold[2])+1),celf_output_general_threshold[2],label=\"CELF\",color=\"#B3CDE3\")\n",
        "plt.ylabel('Computation Time (Seconds)'); plt.xlabel('Size of Seed Set')\n",
        "plt.title('Computation Time'); plt.legend(loc=2)"
      ]
    },
    {
      "cell_type": "code",
      "execution_count": 27,
      "metadata": {
        "colab": {
          "base_uri": "https://localhost:8080/",
          "height": 422
        },
        "id": "SiGzm1pm6bC1",
        "outputId": "022c84ee-a213-4d48-8f23-369bd3fdd4ca"
      },
      "outputs": [
        {
          "data": {
            "text/plain": [
              "<matplotlib.legend.Legend at 0x7fd06ac9dfa0>"
            ]
          },
          "execution_count": 27,
          "metadata": {},
          "output_type": "execute_result"
        },
        {
          "data": {
            "image/png": "[encoded data removed]",
            "text/plain": [
              "<Figure size 648x432 with 1 Axes>"
            ]
          },
          "metadata": {
            "needs_background": "light"
          },
          "output_type": "display_data"
        }
      ],
      "source": [
        "# Plot Expected Spread by Seed Set Size\n",
        "plt.plot(range(1,len(celf_output_general_threshold[1])+1),celf_output_general_threshold[1],label=\"CELF\",color=\"#B3CDE3\")\n",
        "plt.xlabel('Size of Seed Set'); plt.ylabel('Expected Spread')\n",
        "plt.title('Expected Spread'); plt.legend(loc=2)"
      ]
    },
    {
      "cell_type": "markdown",
      "metadata": {
        "id": "aXisLGEFvI_7"
      },
      "source": [
        "# Linear Threshold Mode"
      ]
    },
    {
      "cell_type": "code",
      "execution_count": 28,
      "metadata": {
        "id": "K7TtWHs-hoY1"
      },
      "outputs": [],
      "source": [
        "linear_threshold = models.linear_threshold()\n",
        "linear_threshold.fit(G)\n",
        "\n",
        "p_linear_threshold = linear_threshold.influence[linear_threshold.influence != 0]\n",
        "celf_output_linear_threshold= celf(pb2020, 20, p = np.mean(p_linear_threshold), mc = 100)"
      ]
    },
    {
      "cell_type": "code",
      "execution_count": 29,
      "metadata": {
        "id": "zFc5V2MbR-Ig"
      },
      "outputs": [],
      "source": [
        "pickle_linear_threshold = pickle.dumps(celf_output_linear_threshold)\n",
        "\n",
        "with open('pickle_linear_threshold.pickle', 'wb') as handle:\n",
        "    pickle.dump(pickle_linear_threshold, handle)"
      ]
    },
    {
      "cell_type": "code",
      "execution_count": 30,
      "metadata": {
        "id": "Ce4it-sOR-Ig"
      },
      "outputs": [],
      "source": [
        "with open('linear_threshold.json', 'w') as fjson:\n",
        "    json.dump(celf_output_linear_threshold, fjson)"
      ]
    },
    {
      "cell_type": "code",
      "execution_count": 38,
      "metadata": {
        "colab": {
          "base_uri": "https://localhost:8080/"
        },
        "id": "WEOMS9SyR-Ig",
        "outputId": "538da599-f891-4d1b-e06f-318f010d126d"
      },
      "outputs": [
        {
          "name": "stdout",
          "output_type": "stream",
          "text": [
            "principe_giovan\n",
            "Premises187\n",
            "MoralDK\n",
            "proudboy_\n",
            "enrique_tarrio\n",
            "GavinM_ProudBoy\n",
            "proudboy2012\n",
            "ProudBoysGBG\n",
            "ProudBoysUS\n",
            "ProudBoyzLondon\n",
            "DetroitProudBoy\n",
            "Father_Rhyme\n",
            "ColoradoPOYB\n",
            "cckrch\n",
            "decentbastards\n",
            "Proudboy13\n",
            "American_Greg\n",
            "GregoryKuhnJr1\n",
            "Sj71Steven\n",
            "usa_chopper\n"
          ]
        }
      ],
      "source": [
        "for i in celf_output_linear_threshold[0]:\n",
        "    print(AAAA.vs['label'][i])"
      ]
    },
    {
      "cell_type": "code",
      "execution_count": 39,
      "metadata": {
        "colab": {
          "base_uri": "https://localhost:8080/"
        },
        "id": "wJL1RL8thoY2",
        "outputId": "dea9d50b-4889-46ec-f8a7-c6ce2c54e1f5"
      },
      "outputs": [
        {
          "name": "stdout",
          "output_type": "stream",
          "text": [
            "The optimal seed set is:  [6310, 1916, 1596, 7251, 37, 1493, 7157, 7456, 7508, 8020, 21, 1485, 0, 8675, 6349, 7154, 11242, 11989, 7471, 2074]\n",
            "The resulting spread is:  [71.85, 115.59, 148.19, 171.6, 185.37, 197.67, 206.17, 212.21, 216.92, 219.7, 222.17, 223.99, 225.48, 226.86, 228.12, 229.37, 230.53, 231.67, 232.81, 233.94]\n",
            "The time for each iteration is:  [138.00805258750916, 138.25737595558167, 138.62743377685547, 139.09537267684937, 140.81257557868958, 142.31163477897644, 439.15544748306274, 3065.7932596206665, 3066.3842980861664, 3929.1436109542847, 3954.2861065864563, 4114.4750854969025, 4420.145762205124, 4997.603032112122, 5719.003885269165, 5719.654893159866, 5731.181626081467, 8311.753476142883, 8430.57275056839, 8431.860447883606]\n",
            "The number of times the spread is computed is:  [13217, 1, 1, 1, 4, 3, 603, 4705, 1, 1433, 41, 255, 484, 912, 1151, 1, 18, 4038, 184, 2]\n"
          ]
        }
      ],
      "source": [
        "print(\"The optimal seed set is: \", celf_output_linear_threshold[0])\n",
        "print(\"The resulting spread is: \", celf_output_linear_threshold[1])\n",
        "print(\"The time for each iteration is: \", celf_output_linear_threshold[2])\n",
        "print(\"The number of times the spread is computed is: \", celf_output_linear_threshold[3])"
      ]
    },
    {
      "cell_type": "code",
      "execution_count": 31,
      "metadata": {
        "colab": {
          "base_uri": "https://localhost:8080/",
          "height": 422
        },
        "id": "icafFcUZhoY3",
        "outputId": "e0b53716-39ce-4522-da05-f279021c9661"
      },
      "outputs": [
        {
          "data": {
            "text/plain": [
              "<matplotlib.legend.Legend at 0x7fd06bbd2370>"
            ]
          },
          "execution_count": 31,
          "metadata": {},
          "output_type": "execute_result"
        },
        {
          "data": {
            "image/png": "[encoded data removed]",
            "text/plain": [
              "<Figure size 648x432 with 1 Axes>"
            ]
          },
          "metadata": {
            "needs_background": "light"
          },
          "output_type": "display_data"
        }
      ],
      "source": [
        "# Plot settings\n",
        "plt.rcParams['figure.figsize'] = (9,6)\n",
        "plt.rcParams['lines.linewidth'] = 4\n",
        "plt.rcParams['xtick.bottom'] = False\n",
        "plt.rcParams['ytick.left'] = False\n",
        "\n",
        "# Plot Computation Time\n",
        "plt.plot(range(1,len(celf_output_linear_threshold[2])+1),celf_output_linear_threshold[2],label=\"CELF\",color=\"#B3CDE3\")\n",
        "plt.ylabel('Computation Time (Seconds)'); plt.xlabel('Size of Seed Set')\n",
        "plt.title('Computation Time'); plt.legend(loc=2)"
      ]
    },
    {
      "cell_type": "code",
      "execution_count": 32,
      "metadata": {
        "colab": {
          "base_uri": "https://localhost:8080/",
          "height": 422
        },
        "id": "bC-wpQ28hoY3",
        "outputId": "c4aee140-6e12-483c-de49-444ccc824a70"
      },
      "outputs": [
        {
          "data": {
            "text/plain": [
              "<matplotlib.legend.Legend at 0x7fd06cb18310>"
            ]
          },
          "execution_count": 32,
          "metadata": {},
          "output_type": "execute_result"
        },
        {
          "data": {
            "image/png": "[encoded data removed]",
            "text/plain": [
              "<Figure size 648x432 with 1 Axes>"
            ]
          },
          "metadata": {
            "needs_background": "light"
          },
          "output_type": "display_data"
        }
      ],
      "source": [
        "# Plot Expected Spread by Seed Set Size\n",
        "plt.plot(range(1,len(celf_output_linear_threshold[1])+1),celf_output_linear_threshold[1],label=\"CELF\",color=\"#B3CDE3\")\n",
        "plt.xlabel('Size of Seed Set'); plt.ylabel('Expected Spread')\n",
        "plt.title('Expected Spread'); plt.legend(loc=2)"
      ]
    },
    {
      "cell_type": "code",
      "execution_count": null,
      "metadata": {
        "id": "7ZsOEFShh5I2"
      },
      "outputs": [],
      "source": []
    },
    {
      "cell_type": "markdown",
      "metadata": {
        "id": "LDG9Cow8R-Ih"
      },
      "source": []
    }
  ],
  "metadata": {
    "colab": {
      "provenance": []
    },
    "kernelspec": {
      "display_name": "Python 3.10.8 64-bit (microsoft store)",
      "language": "python",
      "name": "python3"
    },
    "language_info": {
      "codemirror_mode": {
        "name": "ipython",
        "version": 3
      },
      "file_extension": ".py",
      "mimetype": "text/x-python",
      "name": "python",
      "nbconvert_exporter": "python",
      "pygments_lexer": "ipython3",
      "version": "3.10.9 (tags/v3.10.9:1dd9be6, Dec  6 2022, 20:01:21) [MSC v.1934 64 bit (AMD64)]"
    },
    "vscode": {
      "interpreter": {
        "hash": "7b5397a2bf77fa055d8167da5446012172620a7a42afd7048bad863c46440604"
      }
    }
  },
  "nbformat": 4,
  "nbformat_minor": 0
}
