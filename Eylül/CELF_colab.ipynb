{
  "cells": [
    {
      "cell_type": "code",
      "execution_count": 2,
      "metadata": {
        "colab": {
          "base_uri": "https://localhost:8080/"
        },
        "id": "4j9cQk8a6Z1X",
        "outputId": "ff11de0a-2707-480c-9d50-f7eb832c945d"
      },
      "outputs": [
        {
          "name": "stdout",
          "output_type": "stream",
          "text": [
            "Looking in indexes: https://pypi.org/simple, https://us-python.pkg.dev/colab-wheels/public/simple/\n",
            "Requirement already satisfied: igraph in /usr/local/lib/python3.8/dist-packages (0.10.2)\n",
            "Requirement already satisfied: texttable>=1.6.2 in /usr/local/lib/python3.8/dist-packages (from igraph) (1.6.7)\n",
            "Looking in indexes: https://pypi.org/simple, https://us-python.pkg.dev/colab-wheels/public/simple/\n",
            "Requirement already satisfied: import_ipynb in /usr/local/lib/python3.8/dist-packages (0.1.4)\n",
            "Requirement already satisfied: nbformat in /usr/local/lib/python3.8/dist-packages (from import_ipynb) (5.7.0)\n",
            "Requirement already satisfied: IPython in /usr/local/lib/python3.8/dist-packages (from import_ipynb) (7.9.0)\n",
            "Requirement already satisfied: setuptools>=18.5 in /usr/local/lib/python3.8/dist-packages (from IPython->import_ipynb) (57.4.0)\n",
            "Requirement already satisfied: pygments in /usr/local/lib/python3.8/dist-packages (from IPython->import_ipynb) (2.6.1)\n",
            "Requirement already satisfied: pexpect in /usr/local/lib/python3.8/dist-packages (from IPython->import_ipynb) (4.8.0)\n",
            "Requirement already satisfied: traitlets>=4.2 in /usr/local/lib/python3.8/dist-packages (from IPython->import_ipynb) (5.6.0)\n",
            "Requirement already satisfied: jedi>=0.10 in /usr/local/lib/python3.8/dist-packages (from IPython->import_ipynb) (0.18.2)\n",
            "Requirement already satisfied: decorator in /usr/local/lib/python3.8/dist-packages (from IPython->import_ipynb) (4.4.2)\n",
            "Requirement already satisfied: prompt-toolkit<2.1.0,>=2.0.0 in /usr/local/lib/python3.8/dist-packages (from IPython->import_ipynb) (2.0.10)\n",
            "Requirement already satisfied: pickleshare in /usr/local/lib/python3.8/dist-packages (from IPython->import_ipynb) (0.7.5)\n",
            "Requirement already satisfied: backcall in /usr/local/lib/python3.8/dist-packages (from IPython->import_ipynb) (0.2.0)\n",
            "Requirement already satisfied: parso<0.9.0,>=0.8.0 in /usr/local/lib/python3.8/dist-packages (from jedi>=0.10->IPython->import_ipynb) (0.8.3)\n",
            "Requirement already satisfied: wcwidth in /usr/local/lib/python3.8/dist-packages (from prompt-toolkit<2.1.0,>=2.0.0->IPython->import_ipynb) (0.2.5)\n",
            "Requirement already satisfied: six>=1.9.0 in /usr/local/lib/python3.8/dist-packages (from prompt-toolkit<2.1.0,>=2.0.0->IPython->import_ipynb) (1.15.0)\n",
            "Requirement already satisfied: fastjsonschema in /usr/local/lib/python3.8/dist-packages (from nbformat->import_ipynb) (2.16.2)\n",
            "Requirement already satisfied: jsonschema>=2.6 in /usr/local/lib/python3.8/dist-packages (from nbformat->import_ipynb) (4.3.3)\n",
            "Requirement already satisfied: jupyter-core in /usr/local/lib/python3.8/dist-packages (from nbformat->import_ipynb) (5.1.0)\n",
            "Requirement already satisfied: attrs>=17.4.0 in /usr/local/lib/python3.8/dist-packages (from jsonschema>=2.6->nbformat->import_ipynb) (22.1.0)\n",
            "Requirement already satisfied: pyrsistent!=0.17.0,!=0.17.1,!=0.17.2,>=0.14.0 in /usr/local/lib/python3.8/dist-packages (from jsonschema>=2.6->nbformat->import_ipynb) (0.19.2)\n",
            "Requirement already satisfied: importlib-resources>=1.4.0 in /usr/local/lib/python3.8/dist-packages (from jsonschema>=2.6->nbformat->import_ipynb) (5.10.0)\n",
            "Requirement already satisfied: zipp>=3.1.0 in /usr/local/lib/python3.8/dist-packages (from importlib-resources>=1.4.0->jsonschema>=2.6->nbformat->import_ipynb) (3.11.0)\n",
            "Requirement already satisfied: platformdirs>=2.5 in /usr/local/lib/python3.8/dist-packages (from jupyter-core->nbformat->import_ipynb) (2.5.4)\n",
            "Requirement already satisfied: ptyprocess>=0.5 in /usr/local/lib/python3.8/dist-packages (from pexpect->IPython->import_ipynb) (0.7.0)\n"
          ]
        }
      ],
      "source": [
        "!pip install igraph\n",
        "!pip install import_ipynb\n"
      ]
    },
    {
      "cell_type": "code",
      "execution_count": 3,
      "metadata": {
        "id": "DPwLlK5agnV8"
      },
      "outputs": [],
      "source": [
        "import networkx as nx\n",
        "import networkx.algorithms.community as nxcom\n",
        "import matplotlib.pyplot as plt\n",
        "import numpy as np\n",
        "import time as time\n",
        "from random import uniform, seed\n",
        "from igraph import *"
      ]
    },
    {
      "cell_type": "code",
      "execution_count": 4,
      "metadata": {
        "colab": {
          "base_uri": "https://localhost:8080/"
        },
        "id": "haEC8hVGgnWE",
        "outputId": "5094c626-6ff5-431f-a289-e32899e24602"
      },
      "outputs": [
        {
          "name": "stdout",
          "output_type": "stream",
          "text": [
            "importing Jupyter notebook from Models.ipynb\n"
          ]
        }
      ],
      "source": [
        "import import_ipynb\n",
        "import Models as models"
      ]
    },
    {
      "cell_type": "code",
      "execution_count": 5,
      "metadata": {
        "id": "GNmtRwG_7vnM"
      },
      "outputs": [],
      "source": [
        "import pickle"
      ]
    },
    {
      "cell_type": "code",
      "execution_count": 6,
      "metadata": {
        "id": "3D8VRHgignWF"
      },
      "outputs": [],
      "source": [
        "pb2020 = Graph.Read_GML('PB2020.gml')"
      ]
    },
    {
      "cell_type": "markdown",
      "metadata": {
        "id": "1Lc6hpaLgnWG"
      },
      "source": [
        "https://github.com/hautahi/IM_GreedyCELF \n"
      ]
    },
    {
      "cell_type": "code",
      "execution_count": 7,
      "metadata": {
        "id": "IF-ESOIHgnWK"
      },
      "outputs": [],
      "source": [
        "def IC(g,S,p=0.5,mc=10):\n",
        "    \"\"\"\n",
        "    Input:  graph object, set of seed nodes, propagation probability\n",
        "            and the number of Monte-Carlo simulations\n",
        "    Output: average number of nodes influenced by the seed nodes\n",
        "    \"\"\"\n",
        "    \n",
        "    # Loop over the Monte-Carlo Simulations\n",
        "    spread = []\n",
        "    for i in range(mc):\n",
        "        \n",
        "        # Simulate propagation process      \n",
        "        new_active, A = S[:], S[:]\n",
        "        while new_active:\n",
        "\n",
        "            # For each newly active node, find its neighbors that become activated\n",
        "            new_ones = []\n",
        "            for node in new_active:\n",
        "                \n",
        "                # Determine neighbors that become infected\n",
        "                np.random.seed(i)\n",
        "                success = np.random.uniform(0,1,len(g.neighbors(node,mode=\"out\"))) < p\n",
        "                new_ones += list(np.extract(success, g.neighbors(node,mode=\"out\")))\n",
        "\n",
        "            new_active = list(set(new_ones) - set(A))\n",
        "            \n",
        "            # Add newly activated nodes to the set of activated nodes\n",
        "            A += new_active\n",
        "            \n",
        "        spread.append(len(A))\n",
        "        \n",
        "    return(np.mean(spread))"
      ]
    },
    {
      "cell_type": "code",
      "execution_count": 8,
      "metadata": {
        "id": "ZlcST4V2gnWM"
      },
      "outputs": [],
      "source": [
        "def celf(g,k,p=0.1,mc=10):  \n",
        "    \"\"\"\n",
        "    Input:  graph object, number of seed nodes\n",
        "    Output: optimal seed set, resulting spread, time for each iteration\n",
        "    \"\"\"\n",
        "      \n",
        "    # Find the first node with greedy algorithm    \n",
        "    # Calculate the first iteration sorted list\n",
        "    start_time = time.time() \n",
        "    marg_gain = [IC(g,[node],p,mc) for node in range(g.vcount())]\n",
        "\n",
        "    # Create the sorted list of nodes and their marginal gain \n",
        "    Q = sorted(zip(range(g.vcount()),marg_gain), key=lambda x: x[1],reverse=True)\n",
        "\n",
        "    # Select the first node and remove from candidate list\n",
        "    S, spread, SPREAD = [Q[0][0]], Q[0][1], [Q[0][1]]\n",
        "    Q, LOOKUPS, timelapse = Q[1:], [g.vcount()], [time.time()-start_time]\n",
        "    \n",
        "    # Find the next k-1 nodes using the list-sorting procedure\n",
        "    for _ in range(k-1):    \n",
        "\n",
        "        check, node_lookup = False, 0\n",
        "        \n",
        "        while not check:\n",
        "            \n",
        "            # Count the number of times the spread is computed\n",
        "            node_lookup += 1\n",
        "            \n",
        "            # Recalculate spread of top node\n",
        "            current = Q[0][0]\n",
        "            \n",
        "            # Evaluate the spread function and store the marginal gain in the list\n",
        "            Q[0] = (current,IC(g,S+[current],p,mc) - spread)\n",
        "\n",
        "            # Re-sort the list\n",
        "            Q = sorted(Q, key = lambda x: x[1], reverse = True)\n",
        "\n",
        "            # Check if previous top node stayed on top after the sort\n",
        "            check = (Q[0][0] == current)\n",
        "\n",
        "        # Select the next node\n",
        "        spread += Q[0][1]\n",
        "        S.append(Q[0][0])\n",
        "        SPREAD.append(spread)\n",
        "        LOOKUPS.append(node_lookup)\n",
        "        timelapse.append(time.time() - start_time)\n",
        "\n",
        "        # Remove the selected node from the list\n",
        "        Q = Q[1:]\n",
        "\n",
        "    return(S,SPREAD,timelapse,LOOKUPS)"
      ]
    },
    {
      "cell_type": "markdown",
      "metadata": {
        "id": "6I5X5vaGjhrB"
      },
      "source": [
        "# Independent Cascade"
      ]
    },
    {
      "cell_type": "code",
      "execution_count": 11,
      "metadata": {
        "id": "iNQq1v3Nl4er"
      },
      "outputs": [],
      "source": [
        "G = nx.read_gml('PB2020.gml')\n",
        "G = G.reverse()"
      ]
    },
    {
      "cell_type": "code",
      "execution_count": 11,
      "metadata": {
        "id": "rUHID6b6gnWO"
      },
      "outputs": [],
      "source": [
        "Independent_Cascade = models.Independent_Cascade()\n",
        "Independent_Cascade.fit(G)\n",
        "\n",
        "p_Independent_Cascade = Independent_Cascade.probability[Independent_Cascade.probability != 0]\n",
        "celf_output_Independent_Cascade = celf(pb2020, 10, p = np.mean(p_Independent_Cascade), mc = 50)"
      ]
    },
    {
      "cell_type": "code",
      "execution_count": 12,
      "metadata": {
        "id": "oO8CsCwb7_i8"
      },
      "outputs": [],
      "source": [
        "pickle_Independent_Cascade = pickle.dumps(celf_output_Independent_Cascade)"
      ]
    },
    {
      "cell_type": "code",
      "execution_count": 13,
      "metadata": {
        "colab": {
          "base_uri": "https://localhost:8080/"
        },
        "id": "L1Bdw_rJgnWP",
        "outputId": "c547b41c-b8cc-431b-a990-8a4a5db04b1e"
      },
      "outputs": [
        {
          "name": "stdout",
          "output_type": "stream",
          "text": [
            "The optimal seed set is:  [1916, 8136, 37, 8051, 7508, 6310, 8068, 7740, 7251, 11887]\n",
            "The resulting spread is:  [1106.14, 2066.38, 2429.18, 2649.0, 2789.92, 2925.7, 2978.76, 3011.98, 3042.42, 3070.54]\n",
            "The time for each iteration is:  [311.2968602180481, 314.51875829696655, 334.6221308708191, 1669.59415102005, 1714.9219982624054, 1736.0691168308258, 5018.795011758804, 5982.85812163353, 6010.641767501831, 6015.242363214493]\n",
            "The number of times the spread is computed is:  [13217, 1, 6, 351, 11, 5, 727, 210, 6, 1]\n"
          ]
        }
      ],
      "source": [
        "print(\"The optimal seed set is: \", celf_output_Independent_Cascade[0])\n",
        "print(\"The resulting spread is: \", celf_output_Independent_Cascade[1])\n",
        "print(\"The time for each iteration is: \", celf_output_Independent_Cascade[2])\n",
        "print(\"The number of times the spread is computed is: \", celf_output_Independent_Cascade[3])"
      ]
    },
    {
      "cell_type": "code",
      "execution_count": 33,
      "metadata": {
        "colab": {
          "base_uri": "https://localhost:8080/",
          "height": 421
        },
        "id": "oXyMmuvQgnWQ",
        "outputId": "71041d0e-2c13-4572-d15b-afe3a7c630af"
      },
      "outputs": [
        {
          "data": {
            "text/plain": [
              "<matplotlib.legend.Legend at 0x7f6f8e0a8fa0>"
            ]
          },
          "execution_count": 33,
          "metadata": {},
          "output_type": "execute_result"
        },
        {
          "data": {
            "image/png": "[encoded data removed]",
            "text/plain": [
              "<Figure size 648x432 with 1 Axes>"
            ]
          },
          "metadata": {
            "needs_background": "light"
          },
          "output_type": "display_data"
        }
      ],
      "source": [
        "# Plot settings\n",
        "plt.rcParams['figure.figsize'] = (9,6)\n",
        "plt.rcParams['lines.linewidth'] = 4\n",
        "plt.rcParams['xtick.bottom'] = False\n",
        "plt.rcParams['ytick.left'] = False\n",
        "\n",
        "# Plot Computation Time\n",
        "plt.plot(range(1,len(celf_output_Independent_Cascade[2])+1),celf_output_Independent_Cascade[2],label=\"CELF\",color=\"#B3CDE3\")\n",
        "plt.ylabel('Computation Time (Seconds)'); plt.xlabel('Size of Seed Set')\n",
        "plt.title('Computation Time'); plt.legend(loc=2)"
      ]
    },
    {
      "cell_type": "code",
      "execution_count": 15,
      "metadata": {
        "colab": {
          "base_uri": "https://localhost:8080/",
          "height": 421
        },
        "id": "gH1oj-PpgnWR",
        "outputId": "9f6c9d12-6513-4fd3-ae59-8d53cbe49b6e"
      },
      "outputs": [
        {
          "data": {
            "text/plain": [
              "<matplotlib.legend.Legend at 0x7f6f8e642100>"
            ]
          },
          "execution_count": 15,
          "metadata": {},
          "output_type": "execute_result"
        },
        {
          "data": {
            "image/png": "[encoded data removed]",
            "text/plain": [
              "<Figure size 648x432 with 1 Axes>"
            ]
          },
          "metadata": {
            "needs_background": "light"
          },
          "output_type": "display_data"
        }
      ],
      "source": [
        "# Plot Expected Spread by Seed Set Size\n",
        "plt.plot(range(1,len(celf_output_Independent_Cascade[1])+1),celf_output_Independent_Cascade[1],label=\"CELF\",color=\"#B3CDE3\")\n",
        "plt.xlabel('Size of Seed Set'); plt.ylabel('Expected Spread')\n",
        "plt.title('Expected Spread'); plt.legend(loc=2)"
      ]
    },
    {
      "cell_type": "markdown",
      "metadata": {
        "id": "zk9YT26r6iSv"
      },
      "source": [
        "# Decreasing Cascade"
      ]
    },
    {
      "cell_type": "code",
      "execution_count": 16,
      "metadata": {
        "id": "Y9LBB0DP6iSw"
      },
      "outputs": [],
      "source": [
        "Decreasing_Cascade = models.Decreasing_Cascade()\n",
        "Decreasing_Cascade.fit(G)\n",
        "\n",
        "p_Decreasing_Cascade = Decreasing_Cascade.probability[Decreasing_Cascade.probability != 0]\n",
        "celf_output_Decreasing_Cascade = celf(pb2020, 10, p = np.mean(p_Decreasing_Cascade), mc = 50)"
      ]
    },
    {
      "cell_type": "code",
      "execution_count": 17,
      "metadata": {
        "id": "PnEMevJ48RSb"
      },
      "outputs": [],
      "source": [
        "pickle_Decreasing_Cascade = pickle.dumps(celf_output_Independent_Cascade)"
      ]
    },
    {
      "cell_type": "code",
      "execution_count": 18,
      "metadata": {
        "colab": {
          "base_uri": "https://localhost:8080/"
        },
        "id": "p-0Lq6lS6iSw",
        "outputId": "ca55b36f-cf3c-4d6e-f6c5-bd8d518c5992"
      },
      "outputs": [
        {
          "name": "stdout",
          "output_type": "stream",
          "text": [
            "The optimal seed set is:  [1916, 8136, 37, 8051, 7508, 6310, 8068, 7740, 7251, 11887]\n",
            "The resulting spread is:  [1106.14, 2066.38, 2429.18, 2649.0, 2789.92, 2925.7, 2978.76, 3011.98, 3042.42, 3070.54]\n",
            "The time for each iteration is:  [312.67027378082275, 316.01764464378357, 337.52797770500183, 1651.6742510795593, 1698.000317811966, 1719.8656072616577, 5004.265845537186, 5980.16846871376, 6008.894874095917, 6013.571175575256]\n",
            "The number of times the spread is computed is:  [13217, 1, 6, 351, 11, 5, 727, 210, 6, 1]\n"
          ]
        }
      ],
      "source": [
        "print(\"The optimal seed set is: \", celf_output_Decreasing_Cascade[0])\n",
        "print(\"The resulting spread is: \", celf_output_Decreasing_Cascade[1])\n",
        "print(\"The time for each iteration is: \", celf_output_Decreasing_Cascade[2])\n",
        "print(\"The number of times the spread is computed is: \", celf_output_Decreasing_Cascade[3])"
      ]
    },
    {
      "cell_type": "code",
      "execution_count": 19,
      "metadata": {
        "colab": {
          "base_uri": "https://localhost:8080/",
          "height": 421
        },
        "id": "5J947yNb6iSx",
        "outputId": "22904b09-d693-4770-9c99-879dc9e82f1e"
      },
      "outputs": [
        {
          "data": {
            "text/plain": [
              "<matplotlib.legend.Legend at 0x7f6f8e798ee0>"
            ]
          },
          "execution_count": 19,
          "metadata": {},
          "output_type": "execute_result"
        },
        {
          "data": {
            "image/png": "[encoded data removed]",
            "text/plain": [
              "<Figure size 648x432 with 1 Axes>"
            ]
          },
          "metadata": {
            "needs_background": "light"
          },
          "output_type": "display_data"
        }
      ],
      "source": [
        "# Plot settings\n",
        "plt.rcParams['figure.figsize'] = (9,6)\n",
        "plt.rcParams['lines.linewidth'] = 4\n",
        "plt.rcParams['xtick.bottom'] = False\n",
        "plt.rcParams['ytick.left'] = False\n",
        "\n",
        "# Plot Computation Time\n",
        "plt.plot(range(1,len(celf_output_Decreasing_Cascade[2])+1),celf_output_Decreasing_Cascade[2],label=\"CELF\",color=\"#B3CDE3\")\n",
        "plt.ylabel('Computation Time (Seconds)'); plt.xlabel('Size of Seed Set')\n",
        "plt.title('Computation Time'); plt.legend(loc=2)"
      ]
    },
    {
      "cell_type": "code",
      "execution_count": 20,
      "metadata": {
        "colab": {
          "base_uri": "https://localhost:8080/",
          "height": 421
        },
        "id": "RmHZ5d7b6iSx",
        "outputId": "7d0e739c-187e-4313-d9b6-efc63cfdf2cf"
      },
      "outputs": [
        {
          "data": {
            "text/plain": [
              "<matplotlib.legend.Legend at 0x7f6f8e1290a0>"
            ]
          },
          "execution_count": 20,
          "metadata": {},
          "output_type": "execute_result"
        },
        {
          "data": {
            "image/png": "[encoded data removed]",
            "text/plain": [
              "<Figure size 648x432 with 1 Axes>"
            ]
          },
          "metadata": {
            "needs_background": "light"
          },
          "output_type": "display_data"
        }
      ],
      "source": [
        "# Plot Expected Spread by Seed Set Size\n",
        "plt.plot(range(1,len(celf_output_Decreasing_Cascade[1])+1),celf_output_Decreasing_Cascade[1],label=\"CELF\",color=\"#B3CDE3\")\n",
        "plt.xlabel('Size of Seed Set'); plt.ylabel('Expected Spread')\n",
        "plt.title('Expected Spread'); plt.legend(loc=2)"
      ]
    },
    {
      "cell_type": "markdown",
      "metadata": {
        "id": "yZM2Sw-pjmCy"
      },
      "source": [
        "# WCM"
      ]
    },
    {
      "cell_type": "code",
      "execution_count": 21,
      "metadata": {
        "id": "wsRCQHg7u0sK"
      },
      "outputs": [],
      "source": [
        "Weighted_Cascade = models.Weighted_Cascade()\n",
        "Weighted_Cascade.fit(G)\n",
        "\n",
        "p_Weighted_Cascade = Weighted_Cascade.probability[Weighted_Cascade.probability != 0]\n",
        "celf_output_Weighted_Cascade = celf(pb2020, 10, p = np.mean(p_Weighted_Cascade), mc = 50)"
      ]
    },
    {
      "cell_type": "code",
      "execution_count": 22,
      "metadata": {
        "id": "FG5cJ8ij8Z77"
      },
      "outputs": [],
      "source": [
        "pickle_Weighted_Cascade = pickle.dumps(celf_output_Weighted_Cascade)"
      ]
    },
    {
      "cell_type": "code",
      "execution_count": 23,
      "metadata": {
        "colab": {
          "base_uri": "https://localhost:8080/"
        },
        "id": "gkv9Byg_u0sK",
        "outputId": "eb0f2384-8f49-4832-89cb-7170f7ed6ee1"
      },
      "outputs": [
        {
          "name": "stdout",
          "output_type": "stream",
          "text": [
            "The optimal seed set is:  [1916, 8136, 37, 8051, 6310, 7508, 8068, 7740, 7251, 1596]\n",
            "The resulting spread is:  [516.04, 963.96, 1134.22, 1239.48, 1313.38, 1378.48, 1404.46, 1425.0, 1443.64, 1460.26]\n",
            "The time for each iteration is:  [98.4213969707489, 100.08581185340881, 101.90568351745605, 103.77018451690674, 754.0473434925079, 768.282389163971, 993.2392671108246, 1005.2323846817017, 1013.2168920040131, 1088.7248513698578]\n",
            "The number of times the spread is computed is:  [13217, 1, 1, 1, 352, 7, 114, 6, 4, 37]\n"
          ]
        }
      ],
      "source": [
        "print(\"The optimal seed set is: \", celf_output_Weighted_Cascade[0])\n",
        "print(\"The resulting spread is: \", celf_output_Weighted_Cascade[1])\n",
        "print(\"The time for each iteration is: \", celf_output_Weighted_Cascade[2])\n",
        "print(\"The number of times the spread is computed is: \", celf_output_Weighted_Cascade[3])"
      ]
    },
    {
      "cell_type": "code",
      "execution_count": 24,
      "metadata": {
        "colab": {
          "base_uri": "https://localhost:8080/",
          "height": 421
        },
        "id": "hOKGCiwEu0sL",
        "outputId": "be84667f-4417-4185-9720-1e247b2f7dc5"
      },
      "outputs": [
        {
          "data": {
            "text/plain": [
              "<matplotlib.legend.Legend at 0x7f6f8e15d160>"
            ]
          },
          "execution_count": 24,
          "metadata": {},
          "output_type": "execute_result"
        },
        {
          "data": {
            "image/png": "[encoded data removed]",
            "text/plain": [
              "<Figure size 648x432 with 1 Axes>"
            ]
          },
          "metadata": {
            "needs_background": "light"
          },
          "output_type": "display_data"
        }
      ],
      "source": [
        "# Plot settings\n",
        "plt.rcParams['figure.figsize'] = (9,6)\n",
        "plt.rcParams['lines.linewidth'] = 4\n",
        "plt.rcParams['xtick.bottom'] = False\n",
        "plt.rcParams['ytick.left'] = False\n",
        "\n",
        "# Plot Computation Time\n",
        "plt.plot(range(1,len(celf_output_Weighted_Cascade[2])+1),celf_output_Weighted_Cascade[2],label=\"CELF\",color=\"#B3CDE3\")\n",
        "plt.ylabel('Computation Time (Seconds)'); plt.xlabel('Size of Seed Set')\n",
        "plt.title('Computation Time'); plt.legend(loc=2)"
      ]
    },
    {
      "cell_type": "code",
      "execution_count": 25,
      "metadata": {
        "colab": {
          "base_uri": "https://localhost:8080/",
          "height": 421
        },
        "id": "PBLPIB9wu0sL",
        "outputId": "34a8277b-2c35-44ac-8b78-454a57cba2bb"
      },
      "outputs": [
        {
          "data": {
            "text/plain": [
              "<matplotlib.legend.Legend at 0x7f6f8de5c730>"
            ]
          },
          "execution_count": 25,
          "metadata": {},
          "output_type": "execute_result"
        },
        {
          "data": {
            "image/png": "[encoded data removed]",
            "text/plain": [
              "<Figure size 648x432 with 1 Axes>"
            ]
          },
          "metadata": {
            "needs_background": "light"
          },
          "output_type": "display_data"
        }
      ],
      "source": [
        "# Plot Expected Spread by Seed Set Size\n",
        "plt.plot(range(1,len(celf_output_Weighted_Cascade[1])+1),celf_output_Weighted_Cascade[1],label=\"CELF\",color=\"#B3CDE3\")\n",
        "plt.xlabel('Size of Seed Set'); plt.ylabel('Expected Spread')\n",
        "plt.title('Expected Spread'); plt.legend(loc=2)"
      ]
    },
    {
      "cell_type": "markdown",
      "metadata": {
        "id": "6zah9ZOTvpx8"
      },
      "source": [
        "# Trivalency "
      ]
    },
    {
      "cell_type": "code",
      "execution_count": 12,
      "metadata": {
        "id": "HpsiGkNXvxJ7"
      },
      "outputs": [],
      "source": [
        "Trivalency_Model = models.Trivalency_Model()\n",
        "Trivalency_Model.fit(G)\n",
        "\n",
        "p_Trivalency_Model = Trivalency_Model.probability[Trivalency_Model.probability != 0]\n",
        "celf_output_Trivalency_Model = celf(pb2020, 10, p = np.mean(p_Trivalency_Model), mc = 50)"
      ]
    },
    {
      "cell_type": "code",
      "execution_count": 13,
      "metadata": {
        "id": "Ji3HHs4M8ff7"
      },
      "outputs": [],
      "source": [
        "pickle_Trivalency_Model = pickle.dumps(celf_output_Trivalency_Model)"
      ]
    },
    {
      "cell_type": "code",
      "execution_count": 14,
      "metadata": {
        "colab": {
          "base_uri": "https://localhost:8080/"
        },
        "id": "5PaNHG8hvxJ7",
        "outputId": "29e93dd6-9447-4f18-e036-6e62e655e9aa"
      },
      "outputs": [
        {
          "name": "stdout",
          "output_type": "stream",
          "text": [
            "The optimal seed set is:  [1916, 8136, 37, 8051, 6310, 7508, 8068, 7740, 7251, 1596]\n",
            "The resulting spread is:  [159.6, 298.76, 352.16, 386.2, 411.08, 432.46, 440.56, 448.12, 455.28, 462.06]\n",
            "The time for each iteration is:  [30.748766899108887, 31.199387788772583, 31.77226686477661, 32.42503643035889, 33.127992391586304, 33.7905752658844, 43.12250471115112, 291.515873670578, 293.71650791168213, 295.93819665908813]\n",
            "The number of times the spread is computed is:  [13217, 1, 1, 1, 1, 1, 13, 343, 3, 3]\n"
          ]
        }
      ],
      "source": [
        "print(\"The optimal seed set is: \", celf_output_Trivalency_Model[0])\n",
        "print(\"The resulting spread is: \", celf_output_Trivalency_Model[1])\n",
        "print(\"The time for each iteration is: \", celf_output_Trivalency_Model[2])\n",
        "print(\"The number of times the spread is computed is: \", celf_output_Trivalency_Model[3])"
      ]
    },
    {
      "cell_type": "code",
      "execution_count": 15,
      "metadata": {
        "colab": {
          "base_uri": "https://localhost:8080/",
          "height": 421
        },
        "id": "pXHm7giYvxJ8",
        "outputId": "7cdf7386-cd9d-494b-9b79-cf877c4440c9"
      },
      "outputs": [
        {
          "data": {
            "text/plain": [
              "<matplotlib.legend.Legend at 0x7fe8f70c8880>"
            ]
          },
          "execution_count": 15,
          "metadata": {},
          "output_type": "execute_result"
        },
        {
          "data": {
            "image/png": "[encoded data removed]",
            "text/plain": [
              "<Figure size 648x432 with 1 Axes>"
            ]
          },
          "metadata": {
            "needs_background": "light"
          },
          "output_type": "display_data"
        }
      ],
      "source": [
        "# Plot settings\n",
        "plt.rcParams['figure.figsize'] = (9,6)\n",
        "plt.rcParams['lines.linewidth'] = 4\n",
        "plt.rcParams['xtick.bottom'] = False\n",
        "plt.rcParams['ytick.left'] = False\n",
        "\n",
        "# Plot Computation Time\n",
        "plt.plot(range(1,len(celf_output_Trivalency_Model[2])+1),celf_output_Trivalency_Model[2],label=\"CELF\",color=\"#B3CDE3\")\n",
        "plt.ylabel('Computation Time (Seconds)'); plt.xlabel('Size of Seed Set')\n",
        "plt.title('Computation Time'); plt.legend(loc=2)"
      ]
    },
    {
      "cell_type": "code",
      "execution_count": 16,
      "metadata": {
        "colab": {
          "base_uri": "https://localhost:8080/",
          "height": 421
        },
        "id": "DULvdup6vxJ8",
        "outputId": "3199989b-aa7b-42a5-8ae8-5478d871dfd4"
      },
      "outputs": [
        {
          "data": {
            "text/plain": [
              "<matplotlib.legend.Legend at 0x7fe8f7082970>"
            ]
          },
          "execution_count": 16,
          "metadata": {},
          "output_type": "execute_result"
        },
        {
          "data": {
            "image/png": "[encoded data removed]",
            "text/plain": [
              "<Figure size 648x432 with 1 Axes>"
            ]
          },
          "metadata": {
            "needs_background": "light"
          },
          "output_type": "display_data"
        }
      ],
      "source": [
        "# Plot Expected Spread by Seed Set Size\n",
        "plt.plot(range(1,len(celf_output_Trivalency_Model[1])+1),celf_output_Trivalency_Model[1],label=\"CELF\",color=\"#B3CDE3\")\n",
        "plt.xlabel('Size of Seed Set'); plt.ylabel('Expected Spread')\n",
        "plt.title('Expected Spread'); plt.legend(loc=2)"
      ]
    },
    {
      "cell_type": "code",
      "execution_count": null,
      "metadata": {
        "id": "WOGR2BNB6Cnk"
      },
      "outputs": [],
      "source": []
    },
    {
      "cell_type": "markdown",
      "metadata": {
        "id": "6TBH9t596bC1"
      },
      "source": [
        "# Generalized Threshold Mode"
      ]
    },
    {
      "cell_type": "code",
      "execution_count": null,
      "metadata": {},
      "outputs": [],
      "source": []
    },
    {
      "cell_type": "markdown",
      "metadata": {
        "id": "aXisLGEFvI_7"
      },
      "source": [
        "# Linear Threshold Mode"
      ]
    },
    {
      "cell_type": "code",
      "execution_count": null,
      "metadata": {
        "id": "OfXdbpOJ7h3L"
      },
      "outputs": [],
      "source": []
    }
  ],
  "metadata": {
    "colab": {
      "provenance": []
    },
    "kernelspec": {
      "display_name": "Python 3.10.8 64-bit (microsoft store)",
      "language": "python",
      "name": "python3"
    },
    "language_info": {
      "codemirror_mode": {
        "name": "ipython",
        "version": 3
      },
      "file_extension": ".py",
      "mimetype": "text/x-python",
      "name": "python",
      "nbconvert_exporter": "python",
      "pygments_lexer": "ipython3",
      "version": "3.10.9 (tags/v3.10.9:1dd9be6, Dec  6 2022, 20:01:21) [MSC v.1934 64 bit (AMD64)]"
    },
    "vscode": {
      "interpreter": {
        "hash": "7b5397a2bf77fa055d8167da5446012172620a7a42afd7048bad863c46440604"
      }
    }
  },
  "nbformat": 4,
  "nbformat_minor": 0
}
