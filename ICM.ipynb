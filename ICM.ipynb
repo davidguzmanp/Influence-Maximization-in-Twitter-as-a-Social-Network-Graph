{
 "cells": [
  {
   "cell_type": "code",
   "execution_count": 1,
   "metadata": {},
   "outputs": [],
   "source": [
    "import networkx as nx\n",
    "import pandas as pd\n",
    "import numpy as np\n",
    "import matplotlib.pyplot as plt\n",
    "from matplotlib import figure\n",
    "import random as rd\n",
    "import copy"
   ]
  },
  {
   "cell_type": "code",
   "execution_count": 2,
   "metadata": {},
   "outputs": [],
   "source": [
    "class Independent_Cascade():\n",
    "    def __init__(self):\n",
    "        self.g = nx.DiGraph()\n",
    "\n",
    "    def fit(self, g):\n",
    "        # fit graph with probability\n",
    "        out_degree = g.out_degree(weight='None')\n",
    "        max_out_degree = max(out_degree, key=lambda item:item[1])\n",
    "        for e in g.edges():\n",
    "            if(out_degree[e[0]] >= 10):\n",
    "                # g[e[0]][e[1]]['probability'] = 1 - out_degree[e[0]]/max_out_degree[1]\n",
    "                g[e[0]][e[1]]['probability'] = 1 / int(np.log(out_degree[e[0]]))\n",
    "            else:\n",
    "                g[e[0]][e[1]]['probability'] = 1\n",
    "        self.g = g\n",
    "        return g\n",
    "        \n",
    "    # diffusion to all possible nodes\n",
    "    def diffusion_all(self, seed_nodes):\n",
    "        if(seed_nodes == []):\n",
    "            return [], []\n",
    "        activated_nodes = copy.deepcopy(seed_nodes)\n",
    "        old_activated_nodes = seed_nodes\n",
    "        activate_nums = [len(activated_nodes)]\n",
    "        while(True):\n",
    "            new_activated_nodes = []\n",
    "            for node in old_activated_nodes:\n",
    "                for predecessors  in self.g.predecessors(node):\n",
    "                    if( predecessors in activated_nodes):\n",
    "                        continue\n",
    "                    if self.g[predecessors][node]['probability'] >= rd.random():\n",
    "                        new_activated_nodes.append(predecessors)\n",
    "                activated_nodes.extend(new_activated_nodes)\n",
    "            if len(new_activated_nodes) == 0:\n",
    "                break\n",
    "            old_activated_nodes = new_activated_nodes\n",
    "            activate_nums.append(len(new_activated_nodes))\n",
    "        return activated_nodes, activate_nums\n",
    "\n",
    "    # diffusion to max step\n",
    "    def diffusion_step(self, seed_nodes, max_step=1):\n",
    "        if(seed_nodes == []):\n",
    "            return [], []\n",
    "        activated_nodes = copy.deepcopy(seed_nodes)\n",
    "        old_activated_nodes = seed_nodes\n",
    "        activate_nums = [len(activated_nodes)]\n",
    "        for _ in range(max_step):\n",
    "            new_activated_nodes = []\n",
    "            for node in old_activated_nodes:\n",
    "                for predecessors  in self.g.predecessors(node):\n",
    "                    if( predecessors in activated_nodes):\n",
    "                        continue\n",
    "                    if self.g[predecessors][node]['probability'] >= rd.random():\n",
    "                        new_activated_nodes.append(predecessors)\n",
    "                activated_nodes.extend(new_activated_nodes)\n",
    "            if len(new_activated_nodes) == 0:\n",
    "                break\n",
    "            old_activated_nodes = new_activated_nodes\n",
    "            activate_nums.append(len(new_activated_nodes))\n",
    "        return activated_nodes, activate_nums"
   ]
  },
  {
   "cell_type": "code",
   "execution_count": 3,
   "metadata": {},
   "outputs": [],
   "source": [
    "# read from gml\n",
    "G = nx.read_gml('PB2020.gml')"
   ]
  },
  {
   "cell_type": "code",
   "execution_count": 4,
   "metadata": {},
   "outputs": [
    {
     "data": {
      "text/plain": [
       "<networkx.classes.digraph.DiGraph at 0x215cc4fe0a0>"
      ]
     },
     "execution_count": 4,
     "metadata": {},
     "output_type": "execute_result"
    }
   ],
   "source": [
    "model = Independent_Cascade()\n",
    "model.fit(G)"
   ]
  },
  {
   "cell_type": "code",
   "execution_count": 5,
   "metadata": {},
   "outputs": [
    {
     "name": "stdout",
     "output_type": "stream",
     "text": [
      "[7, 1439, 9, 228, 1]\n"
     ]
    }
   ],
   "source": [
    "activated_nodes, activate_nums = model.diffusion_all(['enrique_tarrio',\n",
    " 'GavinM_ProudBoy',\n",
    " 'proudboy2012',\n",
    " 'Premises187',\n",
    " 'ProudBoysGBG',\n",
    " 'principe_giovan',\n",
    " 'MoralDK'])\n",
    "print(activate_nums)"
   ]
  },
  {
   "cell_type": "code",
   "execution_count": 6,
   "metadata": {},
   "outputs": [
    {
     "name": "stdout",
     "output_type": "stream",
     "text": [
      "[10, 1, 357]\n"
     ]
    }
   ],
   "source": [
    "sample = rd.sample(list(G.nodes), 10)\n",
    "activated_nodes, activate_nums = model.diffusion_all(sample)\n",
    "print(activate_nums)"
   ]
  },
  {
   "cell_type": "code",
   "execution_count": 25,
   "metadata": {},
   "outputs": [
    {
     "name": "stdout",
     "output_type": "stream",
     "text": [
      "[10, 2]\n"
     ]
    }
   ],
   "source": [
    "sample = rd.sample(list(G.nodes), 10)\n",
    "activated_nodes, activate_nums = model.diffusion_step(sample, 1)\n",
    "print(activate_nums)"
   ]
  }
 ],
 "metadata": {
  "kernelspec": {
   "display_name": "Python 3.9.13 ('base')",
   "language": "python",
   "name": "python3"
  },
  "language_info": {
   "codemirror_mode": {
    "name": "ipython",
    "version": 3
   },
   "file_extension": ".py",
   "mimetype": "text/x-python",
   "name": "python",
   "nbconvert_exporter": "python",
   "pygments_lexer": "ipython3",
   "version": "3.9.13"
  },
  "orig_nbformat": 4,
  "vscode": {
   "interpreter": {
    "hash": "88279d2366fe020547cde40dd65aa0e3aa662a6ec1f3ca12d88834876c85e1a6"
   }
  }
 },
 "nbformat": 4,
 "nbformat_minor": 2
}
