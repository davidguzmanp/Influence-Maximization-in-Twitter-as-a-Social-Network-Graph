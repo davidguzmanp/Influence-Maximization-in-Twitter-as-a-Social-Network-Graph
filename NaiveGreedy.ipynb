{
  "cells": [
    {
      "cell_type": "code",
      "execution_count": 1,
      "metadata": {
        "colab": {
          "base_uri": "https://localhost:8080/"
        },
        "id": "4X1JtU-0cjX1",
        "outputId": "ed5a3b0d-d2fc-44be-d868-93cc65f38aa1"
      },
      "outputs": [
        {
          "name": "stdout",
          "output_type": "stream",
          "text": [
            "Mounted at /content/drive\n",
            "/content/drive/MyDrive/Network-Science-final-Maximization\n"
          ]
        }
      ],
      "source": [
        "from google.colab import drive\n",
        "drive.mount('/content/drive')\n",
        "%cd /content/drive/MyDrive/Network-Science-final-Maximization/"
      ]
    },
    {
      "cell_type": "code",
      "execution_count": 2,
      "metadata": {
        "id": "RJP_T0xtci47"
      },
      "outputs": [],
      "source": [
        "import networkx as nx\n",
        "import pandas as pd\n",
        "import numpy as np\n",
        "import matplotlib.pyplot as plt\n",
        "from matplotlib import figure\n",
        "import random as rd\n",
        "import copy\n",
        "import time"
      ]
    },
    {
      "cell_type": "code",
      "execution_count": 3,
      "metadata": {
        "id": "_KLLsBbZci48"
      },
      "outputs": [],
      "source": [
        "class Independent_Cascade():\n",
        "    def __init__(self):\n",
        "        self.g = nx.DiGraph()\n",
        "        self.num_nodes = 0\n",
        "        self.node_label = []\n",
        "        self.label2id = {}\n",
        "        self.probability = None\n",
        "\n",
        "    def fit(self, g):\n",
        "        self.g = g\n",
        "        self.num_nodes = g.number_of_nodes()\n",
        "        self.node_label = [i for i in g.nodes()]\n",
        "        self.label2id = {self.node_label[i]: i for i in range(self.num_nodes)}\n",
        "        in_degree = g.in_degree(weight='None')\n",
        "        self.probability = np.zeros((self.num_nodes, self.num_nodes), dtype=float)\n",
        "        for e in g.edges():\n",
        "            if(in_degree[e[1]] >= 10):\n",
        "                self.probability[self.label2id[e[0]], self.label2id[e[1]]] = 1 / int(np.log(in_degree[e[1]]))\n",
        "            else:\n",
        "                self.probability[self.label2id[e[0]], self.label2id[e[1]]] = 1\n",
        "        \n",
        "    def monte_carlo_diffusion_all(self, seed_nodes, num_simulations=100):\n",
        "        if(seed_nodes == []):\n",
        "            return [], []\n",
        "        activate_nums_list = []\n",
        "        for _ in range(num_simulations):\n",
        "            _, activate_nums = self.diffusion_all(seed_nodes)\n",
        "            activate_nums_list.append(activate_nums)\n",
        "        narry = np.zeros([len(activate_nums_list),len(max(activate_nums_list,key = lambda x: len(x)))])\n",
        "        for i,j in enumerate(activate_nums_list):\n",
        "            narry[i][0:len(j)] = j\n",
        "        return np.mean(narry, axis=0)\n",
        "\n",
        "    def monte_carlo_diffusion_step(self, seed_nodes, max_step=1, num_simulations=100):\n",
        "        if(seed_nodes == []):\n",
        "            return [], []\n",
        "        activate_nums_list = []\n",
        "        for _ in range(num_simulations):\n",
        "            _, activate_nums = self.diffusion_step(seed_nodes, max_step)\n",
        "            activate_nums_list.append(activate_nums)\n",
        "        narry = np.zeros([len(activate_nums_list),len(max(activate_nums_list,key = lambda x: len(x)))])\n",
        "        for i,j in enumerate(activate_nums_list):\n",
        "            narry[i][0:len(j)] = j\n",
        "        return np.mean(narry, axis=0)\n",
        "    \n",
        "    # diffusion to all possible nodes\n",
        "    def diffusion_all(self, seed_nodes):\n",
        "        if(seed_nodes == []):\n",
        "            return [], []\n",
        "        activated_nodes = [self.label2id[name] for name in seed_nodes]\n",
        "        old_activated_nodes = copy.deepcopy(activated_nodes)\n",
        "        activate_nums = [len(activated_nodes)]\n",
        "        while(True):\n",
        "            new_activated_nodes = []\n",
        "            for node in old_activated_nodes:\n",
        "                neighbors = self.probability[node, :].nonzero()[0]\n",
        "                if(len(neighbors) == 0):\n",
        "                    continue\n",
        "                for neighbor in neighbors:\n",
        "                    if(neighbor in activated_nodes and neighbor not in new_activated_nodes):\n",
        "                        continue\n",
        "                    if (self.probability[node][neighbor] >= rd.random()):\n",
        "                        new_activated_nodes.append(neighbor)\n",
        "            activated_nodes.extend(new_activated_nodes)\n",
        "            if len(new_activated_nodes) == 0:\n",
        "                break\n",
        "            old_activated_nodes = copy.deepcopy(new_activated_nodes)\n",
        "            activate_nums.append(len(new_activated_nodes))\n",
        "        return activated_nodes, activate_nums\n",
        "\n",
        "    # diffusion to max step\n",
        "    def diffusion_step(self, seed_nodes, max_step=1):\n",
        "        if(seed_nodes == []):\n",
        "            return [], []\n",
        "        activated_nodes = [self.label2id[name] for name in seed_nodes]\n",
        "        old_activated_nodes = copy.deepcopy(activated_nodes)\n",
        "        activate_nums = [len(activated_nodes)]\n",
        "        for step in range(max_step):\n",
        "            new_activated_nodes = []\n",
        "            for node in old_activated_nodes:\n",
        "                neighbors = self.probability[node, :].nonzero()[0]\n",
        "                if(len(neighbors) == 0):\n",
        "                    continue\n",
        "                for neighbor in neighbors:\n",
        "                    if(neighbor in activated_nodes and neighbor not in new_activated_nodes):\n",
        "                        continue\n",
        "                    if (self.probability[node][neighbor] >= rd.random()):\n",
        "                        new_activated_nodes.append(neighbor)\n",
        "            activated_nodes.extend(new_activated_nodes)\n",
        "            if len(new_activated_nodes) == 0:\n",
        "                break\n",
        "            old_activated_nodes = copy.deepcopy(new_activated_nodes)\n",
        "            activate_nums.append(len(new_activated_nodes))\n",
        "        return activated_nodes, activate_nums"
      ]
    },
    {
      "cell_type": "code",
      "execution_count": 4,
      "metadata": {
        "id": "CdcqlX-Uci49"
      },
      "outputs": [],
      "source": [
        "class Decreasing_Cascade():\n",
        "    def __init__(self):\n",
        "        self.g = nx.DiGraph()\n",
        "        self.num_nodes = 0\n",
        "        self.node_label = []\n",
        "        self.label2id = {}\n",
        "        self.max_out_degree = 0\n",
        "        self.probability = None\n",
        "\n",
        "    def fit(self, g):\n",
        "        # fit graph with probability\n",
        "        self.g = g\n",
        "        self.num_nodes = g.number_of_nodes()\n",
        "        self.node_label = [i for i in g.nodes()]\n",
        "        self.label2id = {self.node_label[i]: i for i in range(self.num_nodes)}\n",
        "        self.max_out_degree = max(j for _, j in g.out_degree(weight='None'))\n",
        "        out_degree = g.out_degree(weight='None')\n",
        "        self.probability = np.zeros((self.num_nodes, self.num_nodes), dtype=float)\n",
        "        for e in g.edges():\n",
        "            if(out_degree[e[0]] >= 10):\n",
        "                self.probability[self.label2id[e[0]], self.label2id[e[1]]] = 1 / int(np.log(out_degree[e[0]]))\n",
        "            else:\n",
        "                self.probability[self.label2id[e[0]], self.label2id[e[1]]] = 1\n",
        "            \n",
        "    def monte_carlo_diffusion_all(self, seed_nodes, num_simulations=100):\n",
        "        if(seed_nodes == []):\n",
        "            return [], []\n",
        "        activate_nums_list = []\n",
        "        for _ in range(num_simulations):\n",
        "            _, activate_nums = self.diffusion_all(seed_nodes)\n",
        "            activate_nums_list.append(activate_nums)\n",
        "        narry = np.zeros([len(activate_nums_list),len(max(activate_nums_list,key = lambda x: len(x)))])\n",
        "        for i,j in enumerate(activate_nums_list):\n",
        "            narry[i][0:len(j)] = j\n",
        "        return np.mean(narry, axis=0)\n",
        "\n",
        "    def monte_carlo_diffusion_step(self, seed_nodes, max_step=1, num_simulations=100):\n",
        "        if(seed_nodes == []):\n",
        "            return [], []\n",
        "        activate_nums_list = []\n",
        "        for _ in range(num_simulations):\n",
        "            _, activate_nums = self.diffusion_step(seed_nodes, max_step)\n",
        "            activate_nums_list.append(activate_nums)\n",
        "        narry = np.zeros([len(activate_nums_list),len(max(activate_nums_list,key = lambda x: len(x)))])\n",
        "        for i,j in enumerate(activate_nums_list):\n",
        "            narry[i][0:len(j)] = j\n",
        "        return np.mean(narry, axis=0)\n",
        "        \n",
        "    # diffusion to all possible nodes\n",
        "    def diffusion_all(self, seed_nodes):\n",
        "        if(seed_nodes == []):\n",
        "            return [], []\n",
        "        activated_nodes = [self.label2id[name] for name in seed_nodes]\n",
        "        old_activated_nodes = copy.deepcopy(activated_nodes)\n",
        "        activate_nums = [len(activated_nodes)]\n",
        "        inform_times = np.zeros(self.num_nodes)\n",
        "        while(True):\n",
        "            new_activated_nodes = []\n",
        "            new_inform_times = np.zeros(self.num_nodes)\n",
        "            for node in old_activated_nodes:\n",
        "                predecessors = self.probability[:, node].nonzero()[0]\n",
        "                if(len(predecessors) == 0):\n",
        "                    continue\n",
        "                for predecessor in predecessors:\n",
        "                    if(predecessor in activated_nodes and predecessor not in new_activated_nodes):\n",
        "                        continue\n",
        "                    new_inform_times[predecessor] += 1\n",
        "                    if (self.probability[predecessor][node] >= (rd.random() + inform_times[predecessor] / self.max_out_degree)):\n",
        "                        new_activated_nodes.append(predecessor)\n",
        "            activated_nodes.extend(new_activated_nodes)\n",
        "            if len(new_activated_nodes) == 0:\n",
        "                break\n",
        "            old_activated_nodes = copy.deepcopy(new_activated_nodes)\n",
        "            activate_nums.append(len(new_activated_nodes))\n",
        "            inform_times = inform_times + new_inform_times\n",
        "        return activated_nodes, activate_nums\n",
        "\n",
        "    # diffusion to max step\n",
        "    def diffusion_step(self, seed_nodes, max_step=1):\n",
        "        if(seed_nodes == []):\n",
        "            return [], []\n",
        "        activated_nodes = [self.label2id[name] for name in seed_nodes]\n",
        "        old_activated_nodes = copy.deepcopy(activated_nodes)\n",
        "        activate_nums = [len(activated_nodes)]\n",
        "        inform_times = np.zeros(self.num_nodes)\n",
        "        for step in range(max_step):\n",
        "            new_activated_nodes = []\n",
        "            new_inform_times = np.zeros(self.num_nodes)\n",
        "            for node in old_activated_nodes:\n",
        "                predecessors = self.probability[:, node].nonzero()[0]\n",
        "                if(len(predecessors) == 0):\n",
        "                    continue\n",
        "                for predecessor in predecessors:\n",
        "                    if(predecessor in activated_nodes and predecessor not in new_activated_nodes):\n",
        "                        continue\n",
        "                    new_inform_times[predecessor] += 1\n",
        "                    if (self.probability[predecessor][node] >= (rd.random() + inform_times[predecessor] / self.max_out_degree)):\n",
        "                        new_activated_nodes.append(predecessor)\n",
        "            activated_nodes.extend(new_activated_nodes)\n",
        "            if len(new_activated_nodes) == 0:\n",
        "                break\n",
        "            old_activated_nodes = copy.deepcopy(new_activated_nodes)\n",
        "            activate_nums.append(len(new_activated_nodes))\n",
        "            inform_times = inform_times + new_inform_times\n",
        "        return activated_nodes, activate_nums"
      ]
    },
    {
      "cell_type": "code",
      "execution_count": 5,
      "metadata": {
        "id": "rXYCv5bPci4-"
      },
      "outputs": [],
      "source": [
        "class Weighted_Cascade():\n",
        "    def __init__(self):\n",
        "        self.g = nx.DiGraph()\n",
        "        self.num_nodes = 0\n",
        "        self.node_label = []\n",
        "        self.label2id = {}\n",
        "        self.probability = None\n",
        "\n",
        "    def fit(self, g):\n",
        "        self.g = g\n",
        "        self.num_nodes = g.number_of_nodes()\n",
        "        self.node_label = [i for i in g.nodes()]\n",
        "        self.label2id = {self.node_label[i]: i for i in range(self.num_nodes)}\n",
        "        in_degree = g.in_degree(weight='None')\n",
        "        self.probability = np.zeros((self.num_nodes, self.num_nodes), dtype=float)\n",
        "        for e in g.edges():\n",
        "            self.probability[self.label2id[e[0]], self.label2id[e[1]]] = 1 / in_degree[e[1]]\n",
        "        \n",
        "    def monte_carlo_diffusion_all(self, seed_nodes, num_simulations=100):\n",
        "        if(seed_nodes == []):\n",
        "            return [], []\n",
        "        activate_nums_list = []\n",
        "        for _ in range(num_simulations):\n",
        "            _, activate_nums = self.diffusion_all(seed_nodes)\n",
        "            activate_nums_list.append(activate_nums)\n",
        "        narry = np.zeros([len(activate_nums_list),len(max(activate_nums_list,key = lambda x: len(x)))])\n",
        "        for i,j in enumerate(activate_nums_list):\n",
        "            narry[i][0:len(j)] = j\n",
        "        return np.mean(narry, axis=0)\n",
        "\n",
        "    def monte_carlo_diffusion_step(self, seed_nodes, max_step=1, num_simulations=100):\n",
        "        if(seed_nodes == []):\n",
        "            return [], []\n",
        "        activate_nums_list = []\n",
        "        for _ in range(num_simulations):\n",
        "            _, activate_nums = self.diffusion_step(seed_nodes, max_step)\n",
        "            activate_nums_list.append(activate_nums)\n",
        "        narry = np.zeros([len(activate_nums_list),len(max(activate_nums_list,key = lambda x: len(x)))])\n",
        "        for i,j in enumerate(activate_nums_list):\n",
        "            narry[i][0:len(j)] = j\n",
        "        return np.mean(narry, axis=0)\n",
        "    \n",
        "    # diffusion to all possible nodes\n",
        "    def diffusion_all(self, seed_nodes):\n",
        "        if(seed_nodes == []):\n",
        "            return [], []\n",
        "        activated_nodes = [self.label2id[name] for name in seed_nodes]\n",
        "        old_activated_nodes = copy.deepcopy(activated_nodes)\n",
        "        activate_nums = [len(activated_nodes)]\n",
        "        while(True):\n",
        "            new_activated_nodes = []\n",
        "            for node in old_activated_nodes:\n",
        "                neighbors = self.probability[node, :].nonzero()[0]\n",
        "                if(len(neighbors) == 0):\n",
        "                    continue\n",
        "                for neighbor in neighbors:\n",
        "                    if(neighbor in activated_nodes and neighbor not in new_activated_nodes):\n",
        "                        continue\n",
        "                    if (self.probability[node][neighbor] >= rd.random()):\n",
        "                        new_activated_nodes.append(neighbor)\n",
        "            activated_nodes.extend(new_activated_nodes)\n",
        "            if len(new_activated_nodes) == 0:\n",
        "                break\n",
        "            old_activated_nodes = copy.deepcopy(new_activated_nodes)\n",
        "            activate_nums.append(len(new_activated_nodes))\n",
        "        return activated_nodes, activate_nums\n",
        "\n",
        "    # diffusion to max step\n",
        "    def diffusion_step(self, seed_nodes, max_step=1):\n",
        "        if(seed_nodes == []):\n",
        "            return [], []\n",
        "        activated_nodes = [self.label2id[name] for name in seed_nodes]\n",
        "        old_activated_nodes = copy.deepcopy(activated_nodes)\n",
        "        activate_nums = [len(activated_nodes)]\n",
        "        for step in range(max_step):\n",
        "            new_activated_nodes = []\n",
        "            for node in old_activated_nodes:\n",
        "                neighbors = self.probability[node, :].nonzero()[0]\n",
        "                if(len(neighbors) == 0):\n",
        "                    continue\n",
        "                for neighbor in neighbors:\n",
        "                    if(neighbor in activated_nodes and neighbor not in new_activated_nodes):\n",
        "                        continue\n",
        "                    if (self.probability[node][neighbor] >= rd.random()):\n",
        "                        new_activated_nodes.append(neighbor)\n",
        "            activated_nodes.extend(new_activated_nodes)\n",
        "            if len(new_activated_nodes) == 0:\n",
        "                break\n",
        "            old_activated_nodes = copy.deepcopy(new_activated_nodes)\n",
        "            activate_nums.append(len(new_activated_nodes))\n",
        "        return activated_nodes, activate_nums"
      ]
    },
    {
      "cell_type": "code",
      "execution_count": 6,
      "metadata": {
        "id": "4yPXPv4Aci4-"
      },
      "outputs": [],
      "source": [
        "class Trivalency_Model():\n",
        "    def __init__(self):\n",
        "        self.g = nx.DiGraph()\n",
        "        self.num_nodes = 0\n",
        "        self.node_label = []\n",
        "        self.label2id = {}\n",
        "        self.probability = None\n",
        "\n",
        "    def fit(self, g):\n",
        "        self.g = g\n",
        "        self.num_nodes = g.number_of_nodes()\n",
        "        self.node_label = [i for i in g.nodes()]\n",
        "        self.label2id = {self.node_label[i]: i for i in range(self.num_nodes)}\n",
        "        in_degree = g.in_degree(weight='None')\n",
        "        self.probability = np.zeros((self.num_nodes, self.num_nodes), dtype=float)\n",
        "        p_list = [0.1, 0.01, 0.001]\n",
        "        for e in g.edges():\n",
        "            self.probability[self.label2id[e[0]], self.label2id[e[1]]] = rd.choice(p_list)\n",
        "\n",
        "        \n",
        "    def monte_carlo_diffusion_all(self, seed_nodes, num_simulations=100):\n",
        "        if(seed_nodes == []):\n",
        "            return [], []\n",
        "        activate_nums_list = []\n",
        "        for _ in range(num_simulations):\n",
        "            _, activate_nums = self.diffusion_all(seed_nodes)\n",
        "            activate_nums_list.append(activate_nums)\n",
        "        narry = np.zeros([len(activate_nums_list),len(max(activate_nums_list,key = lambda x: len(x)))])\n",
        "        for i,j in enumerate(activate_nums_list):\n",
        "            narry[i][0:len(j)] = j\n",
        "        return np.mean(narry, axis=0)\n",
        "\n",
        "    def monte_carlo_diffusion_step(self, seed_nodes, max_step=1, num_simulations=100):\n",
        "        if(seed_nodes == []):\n",
        "            return [], []\n",
        "        activate_nums_list = []\n",
        "        for _ in range(num_simulations):\n",
        "            _, activate_nums = self.diffusion_step(seed_nodes, max_step)\n",
        "            activate_nums_list.append(activate_nums)\n",
        "        narry = np.zeros([len(activate_nums_list),len(max(activate_nums_list,key = lambda x: len(x)))])\n",
        "        for i,j in enumerate(activate_nums_list):\n",
        "            narry[i][0:len(j)] = j\n",
        "        return np.mean(narry, axis=0)\n",
        "    \n",
        "    # diffusion to all possible nodes\n",
        "    def diffusion_all(self, seed_nodes):\n",
        "        if(seed_nodes == []):\n",
        "            return [], []\n",
        "        activated_nodes = [self.label2id[name] for name in seed_nodes]\n",
        "        old_activated_nodes = copy.deepcopy(activated_nodes)\n",
        "        activate_nums = [len(activated_nodes)]\n",
        "        while(True):\n",
        "            new_activated_nodes = []\n",
        "            for node in old_activated_nodes:\n",
        "                neighbors = self.probability[node, :].nonzero()[0]\n",
        "                if(len(neighbors) == 0):\n",
        "                    continue\n",
        "                for neighbor in neighbors:\n",
        "                    if(neighbor in activated_nodes and neighbor not in new_activated_nodes):\n",
        "                        continue\n",
        "                    if (self.probability[node][neighbor] >= rd.random()):\n",
        "                        new_activated_nodes.append(neighbor)\n",
        "            activated_nodes.extend(new_activated_nodes)\n",
        "            if len(new_activated_nodes) == 0:\n",
        "                break\n",
        "            old_activated_nodes = copy.deepcopy(new_activated_nodes)\n",
        "            activate_nums.append(len(new_activated_nodes))\n",
        "        return activated_nodes, activate_nums\n",
        "\n",
        "    # diffusion to max step\n",
        "    def diffusion_step(self, seed_nodes, max_step=1):\n",
        "        if(seed_nodes == []):\n",
        "            return [], []\n",
        "        activated_nodes = [self.label2id[name] for name in seed_nodes]\n",
        "        old_activated_nodes = copy.deepcopy(activated_nodes)\n",
        "        activate_nums = [len(activated_nodes)]\n",
        "        for step in range(max_step):\n",
        "            new_activated_nodes = []\n",
        "            for node in old_activated_nodes:\n",
        "                neighbors = self.probability[node, :].nonzero()[0]\n",
        "                if(len(neighbors) == 0):\n",
        "                    continue\n",
        "                for neighbor in neighbors:\n",
        "                    if(neighbor in activated_nodes and neighbor not in new_activated_nodes):\n",
        "                        continue\n",
        "                    if (self.probability[node][neighbor] >= rd.random()):\n",
        "                        new_activated_nodes.append(neighbor)\n",
        "            activated_nodes.extend(new_activated_nodes)\n",
        "            if len(new_activated_nodes) == 0:\n",
        "                break\n",
        "            old_activated_nodes = copy.deepcopy(new_activated_nodes)\n",
        "            activate_nums.append(len(new_activated_nodes))\n",
        "        return activated_nodes, activate_nums"
      ]
    },
    {
      "cell_type": "code",
      "execution_count": 7,
      "metadata": {
        "id": "dZ0R7uk0uxye"
      },
      "outputs": [],
      "source": [
        "class linear_threshold():\n",
        "    def __init__(self):\n",
        "        self.g = nx.DiGraph()\n",
        "        self.influence = None\n",
        "    \n",
        "    def fit(self, g):\n",
        "        # fit graph with probability\n",
        "        in_degree = g.in_degree()\n",
        "        self.num_nodes = g.number_of_nodes()\n",
        "        self.node_label = [i for i in g.nodes()]\n",
        "        max_degree = max([d for (n, d) in in_degree])\n",
        "        self.label2id = {self.node_label[i]: i for i in range(self.num_nodes)}\n",
        "        self.influence = np.zeros((self.num_nodes, self.num_nodes), dtype=float)\n",
        "        # init influence \n",
        "        for e in g.edges():\n",
        "            self.influence[self.label2id[e[0]], self.label2id[e[1]]] = 1 / in_degree[e[1]]\n",
        "        self.g = g\n",
        "        return g\n",
        "    \n",
        "    # diffusion to all possible nodes\n",
        "    def diffusion_all(self, init_seed, threshold=0.1):\n",
        "        if(init_seed == []):\n",
        "            return [], []\n",
        "        activated_nodes = [self.label2id[name] for name in init_seed]\n",
        "        old_activated_nodes = copy.deepcopy(activated_nodes)\n",
        "        # the index represent time t, the value is number of activated nodes in current time\n",
        "        times = [len(old_activated_nodes)]\n",
        "        while True:\n",
        "            new_activated_nodes = []\n",
        "            for node in old_activated_nodes:\n",
        "                neighbors = self.influence[node, :].nonzero()[0]\n",
        "                if(len(neighbors) == 0):\n",
        "                    continue\n",
        "                total_influence = 0.0\n",
        "                for neighbor in neighbors:\n",
        "                    if(neighbor in activated_nodes and neighbor not in new_activated_nodes):\n",
        "                        continue\n",
        "                    successors = self.influence[:, neighbor].nonzero()[0]\n",
        "                    for successor in successors:\n",
        "                        total_influence += self.influence[successor][neighbor]\n",
        "                    if(total_influence >= threshold):\n",
        "                        new_activated_nodes.append(neighbor)\n",
        "            if len(new_activated_nodes)==0:\n",
        "                break\n",
        "            else:\n",
        "                activated_nodes.extend(new_activated_nodes)\n",
        "            old_activated_nodes = copy.deepcopy(new_activated_nodes)\n",
        "            times.append(len(new_activated_nodes))\n",
        "        return activated_nodes, times\n",
        "    \n",
        "    # diffusion to max step\n",
        "    def diffusion_step(self, init_seed, threshold=0.1, max_step=1):\n",
        "        if(init_seed == []):\n",
        "            return [], []\n",
        "        activated_nodes = [self.label2id[name] for name in init_seed]\n",
        "        old_activated_nodes = copy.deepcopy(activated_nodes)\n",
        "        # the index represent time t, the value is number of activated nodes in current time\n",
        "        times = [len(old_activated_nodes)]\n",
        "        for _ in range(max_step):\n",
        "            new_activated_nodes = []\n",
        "            for node in old_activated_nodes:\n",
        "                neighbors = self.influence[node, :].nonzero()[0]\n",
        "                if(len(neighbors) == 0):\n",
        "                    continue\n",
        "                total_influence = 0.0\n",
        "                for neighbor in neighbors:\n",
        "                    if(neighbor in activated_nodes and neighbor not in new_activated_nodes):\n",
        "                        continue\n",
        "                    successors = self.influence[:, neighbor].nonzero()[0]\n",
        "                    for successor in successors:\n",
        "                        total_influence += self.influence[successor][neighbor]\n",
        "                    if(total_influence >= threshold):\n",
        "                        new_activated_nodes.append(neighbor)\n",
        "            if len(new_activated_nodes)==0:\n",
        "                break\n",
        "            else:\n",
        "                activated_nodes.extend(new_activated_nodes)\n",
        "            old_activated_nodes = copy.deepcopy(new_activated_nodes)\n",
        "            times.append(len(new_activated_nodes))\n",
        "        return activated_nodes, times"
      ]
    },
    {
      "cell_type": "code",
      "execution_count": 8,
      "metadata": {
        "id": "RgLVSX4Kuwuc"
      },
      "outputs": [],
      "source": [
        "class general_threshold():\n",
        "    def __init__(self):\n",
        "        self.g = nx.DiGraph()\n",
        "        self.influence = None\n",
        "        # threshold determine whether the node become activated\n",
        "        self.threshold = None\n",
        "        # spreadTrd determine whether the node have the ability to spread message\n",
        "        self.spreadTrd = None\n",
        "    \n",
        "    def fit(self, g):\n",
        "        # fit graph with probability\n",
        "        in_degree = g.in_degree()\n",
        "        self.num_nodes = g.number_of_nodes()\n",
        "        self.node_label = [i for i in g.nodes()]\n",
        "        self.label2id = {self.node_label[i]: i for i in range(self.num_nodes)}\n",
        "        self.influence = np.zeros((self.num_nodes, self.num_nodes), dtype=float)\n",
        "        centrality = nx.degree_centrality(g)\n",
        "        # init influence\n",
        "        for e in g.edges():\n",
        "            self.influence[self.label2id[e[0]], self.label2id[e[1]]] = 1 / in_degree[e[1]]\n",
        "        # init threshold. In GT model, the threshold of each node is assigned half of it's centrality\n",
        "        self.threshold = np.zeros((self.num_nodes), dtype=float)\n",
        "        self.spreadTrd = np.zeros((self.num_nodes), dtype=float)\n",
        "        for n in g.nodes():\n",
        "            self.threshold[self.label2id[n]] = centrality[n]/4\n",
        "            self.spreadTrd[self.label2id[n]] = centrality[n]/2\n",
        "        self.g = g\n",
        "        return g\n",
        "    \n",
        "    # diffusion to all possible nodes\n",
        "    def diffusion_all(self, init_seed):\n",
        "        if(init_seed == []):\n",
        "            return [], []\n",
        "        activated_nodes = [self.label2id[name] for name in init_seed]\n",
        "        old_spread_nodes = copy.deepcopy(activated_nodes)\n",
        "        # the index represent time t, the value is number of activated nodes in current time\n",
        "        times = [len(old_spread_nodes)]\n",
        "        while True:\n",
        "            new_activated_nodes = []\n",
        "            new_spread_nodes = []\n",
        "            for node in old_spread_nodes:\n",
        "                neighbors = self.influence[node, :].nonzero()[0]\n",
        "                if(len(neighbors) == 0):\n",
        "                    continue\n",
        "                total_influence = 0.0\n",
        "                for neighbor in neighbors:\n",
        "                    if(neighbor in activated_nodes):\n",
        "                        continue\n",
        "                    precessors = self.influence[:, neighbor].nonzero()[0]\n",
        "                    for precessor in precessors:\n",
        "                        if precessor in activated_nodes or precessor in new_activated_nodes:\n",
        "                            total_influence += self.influence[precessor][neighbor]\n",
        "                    # informe/activate the node if the total influence exceeds it's threshold of activated\n",
        "                    if(total_influence >= self.threshold[neighbor]):\n",
        "                        new_activated_nodes.append(neighbor)\n",
        "                        # let node be a spreader if the total influence exceeds it's threshold of spread\n",
        "                        if(total_influence >= self.spreadTrd[neighbor]):\n",
        "                            new_spread_nodes.append(neighbor)\n",
        "            if len(new_spread_nodes)==0:\n",
        "                break\n",
        "            else:\n",
        "                activated_nodes.extend(new_activated_nodes)\n",
        "            old_spread_nodes = copy.deepcopy(new_spread_nodes)\n",
        "            times.append(len(new_activated_nodes))\n",
        "        return activated_nodes, times\n",
        "    \n",
        "    # diffusion to max step\n",
        "    def diffusion_step(self, init_seed, max_step=1):\n",
        "        if(init_seed == []):\n",
        "            return [], []\n",
        "        activated_nodes = [self.label2id[name] for name in init_seed]\n",
        "        old_spread_nodes = copy.deepcopy(activated_nodes)\n",
        "        # the index represent time t, the value is number of activated nodes in current time\n",
        "        times = [len(old_spread_nodes)]\n",
        "        for _ in range(max_step):\n",
        "            new_activated_nodes = []\n",
        "            new_spread_nodes = []\n",
        "            for node in old_spread_nodes:\n",
        "                neighbors = self.influence[node, :].nonzero()[0]\n",
        "                if(len(neighbors) == 0):\n",
        "                    continue\n",
        "                total_influence = 0.0\n",
        "                for neighbor in neighbors:\n",
        "                    if(neighbor in activated_nodes):\n",
        "                        continue\n",
        "                    precessors = self.influence[:, neighbor].nonzero()[0]\n",
        "                    for precessor in precessors:\n",
        "                        if precessor in activated_nodes or precessor in new_activated_nodes:\n",
        "                            total_influence += self.influence[precessor][neighbor]\n",
        "                    # informe/activate the node if the total influence exceeds it's threshold of activated\n",
        "                    if(total_influence >= self.threshold[neighbor]):\n",
        "                        new_activated_nodes.append(neighbor)\n",
        "                        # let node be a spreader if the total influence exceeds it's threshold of spread\n",
        "                        if(total_influence >= self.spreadTrd[neighbor]):\n",
        "                            new_spread_nodes.append(neighbor)\n",
        "            if len(new_spread_nodes)==0:\n",
        "                break\n",
        "            else:\n",
        "                activated_nodes.extend(new_activated_nodes)\n",
        "            old_spread_nodes = copy.deepcopy(new_spread_nodes)\n",
        "            times.append(len(new_activated_nodes))\n",
        "        return activated_nodes, times\n",
        "    \n",
        "    "
      ]
    },
    {
      "cell_type": "code",
      "execution_count": 9,
      "metadata": {
        "id": "RQt8ad9jci4_"
      },
      "outputs": [],
      "source": [
        "def Naive_Greedy(g, k, model_type, num_simulations=1):\n",
        "    if(model_type == 'IC'):\n",
        "        model = Independent_Cascade()\n",
        "    elif(model_type == 'DC'):\n",
        "        model = Decreasing_Cascade()\n",
        "    elif(model_type == 'TR'):\n",
        "        model = Trivalency_Model()\n",
        "    elif(model_type == 'WC'):\n",
        "        model = Weighted_Cascade()\n",
        "    elif(model_type == 'LT'):\n",
        "        model = linear_threshold()\n",
        "    elif(model_type == 'GT'):\n",
        "        model = general_threshold()\n",
        "    model.fit(g)\n",
        "    max_nodes = []\n",
        "    times = []\n",
        "    start_time = time.time()\n",
        "    for i in range(k):\n",
        "        max_num = 0\n",
        "        for node in g.nodes() - set(max_nodes):\n",
        "            if(model_type == 'IC' or model_type == 'DC' or model_type == 'TR' or model_type == 'WC'):\n",
        "              activate_nums = model.monte_carlo_diffusion_step(max_nodes + [node], max_step=1, num_simulations=num_simulations)\n",
        "            elif(model_type == 'LT'):\n",
        "              _, activate_nums = model.diffusion_step(max_nodes + [node], threshold = 0.1, max_step=1)\n",
        "            else:\n",
        "              _, activate_nums = model.diffusion_step(max_nodes + [node], max_step=1)\n",
        "            if(len(activate_nums) > 1 and activate_nums[1] > max_num):\n",
        "                max_num = activate_nums[1]\n",
        "                max_node = node\n",
        "        max_nodes.append(max_node)\n",
        "        times.append(time.time() - start_time)\n",
        "        print('Greedy: ', i+1, ' time: ', times[-1], ' new node: ', max_nodes[-1])\n",
        "    return max_nodes, times"
      ]
    },
    {
      "cell_type": "code",
      "execution_count": 10,
      "metadata": {
        "id": "5UJmV_8oci4_"
      },
      "outputs": [],
      "source": [
        "G = nx.read_gml('PB2020.gml')\n",
        "G = G.reverse()"
      ]
    },
    {
      "cell_type": "code",
      "execution_count": null,
      "metadata": {
        "colab": {
          "base_uri": "https://localhost:8080/"
        },
        "id": "YtdiPkJHci4_",
        "outputId": "20c84109-2729-4083-e38d-451a320a2244"
      },
      "outputs": [
        {
          "name": "stdout",
          "output_type": "stream",
          "text": [
            "Greedy:  1  time:  10.741265773773193\n",
            "Greedy:  2  time:  236.766015291214\n",
            "Greedy:  3  time:  627.04882645607\n",
            "Greedy:  4  time:  1146.5669751167297\n",
            "Greedy:  5  time:  1785.7016961574554\n",
            "Greedy:  6  time:  2523.2258718013763\n",
            "Greedy:  7  time:  3351.641788005829\n",
            "Greedy:  8  time:  4245.376266717911\n",
            "Greedy:  9  time:  5212.538978815079\n",
            "Greedy:  10  time:  6237.875088214874\n",
            "Greedy:  11  time:  7317.844819784164\n",
            "Greedy:  12  time:  8447.575536966324\n",
            "Greedy:  13  time:  9625.548919200897\n",
            "Greedy:  14  time:  10851.33715724945\n",
            "Greedy:  15  time:  12123.000044822693\n",
            "Greedy:  16  time:  13442.503648996353\n",
            "Greedy:  17  time:  14809.777120113373\n",
            "Greedy:  18  time:  16218.910614013672\n",
            "Greedy:  19  time:  17672.560995817184\n",
            "Greedy:  20  time:  19170.619923830032\n",
            "['principe_giovan', 'Premises187', 'MoralDK', 'proudboy_', 'enrique_tarrio', 'GavinM_ProudBoy', 'proudboy2012', 'ProudBoysGBG', 'ProudBoysUS', 'ProudBoyzLondon', 'DetroitProudBoy', 'Father_Rhyme', 'ColoradoPOYB', 'Proudboy13', 'AWallfred', 'pullarkkat', 's817m', 'Somerled10', 'CodyBarnes13', 'GunsGodandTexas']\n"
          ]
        }
      ],
      "source": [
        "max_nodes_IC, times_IC = Naive_Greedy(G, 20, 'IC', num_simulations=10)\n",
        "print(max_nodes_IC)"
      ]
    },
    {
      "cell_type": "code",
      "execution_count": null,
      "metadata": {
        "id": "ZHj78LYDEtS0"
      },
      "outputs": [],
      "source": [
        "max_nodes_IC = ['principe_giovan', 'Premises187', 'MoralDK', 'proudboy_', 'enrique_tarrio', 'GavinM_ProudBoy', 'proudboy2012', 'ProudBoysGBG', 'ProudBoysUS', 'ProudBoyzLondon', 'DetroitProudBoy', 'Father_Rhyme', 'ColoradoPOYB', 'Proudboy13', 'AWallfred', 'pullarkkat', 's817m', 'Somerled10', 'CodyBarnes13', 'GunsGodandTexas']\n",
        "times_IC = [10.741265773773193, 236.766015291214, 627.04882645607, 1146.5669751167297, 1785.7016961574554, 2523.2258718013763, 3351.641788005829, 4245.376266717911, 5212.538978815079, 6237.875088214874,\n",
        "       7317.844819784164, 8447.575536966324, 9625.548919200897, 10851.33715724945, 12123.000044822693, 13442.503648996353, 14809.777120113373, 16218.910614013672, 17672.560995817184, 19170.619923830032]"
      ]
    },
    {
      "cell_type": "code",
      "execution_count": null,
      "metadata": {
        "id": "zDhSwgCaiSU7"
      },
      "outputs": [],
      "source": [
        "plt.fig(figsize=(12, 8))\n",
        "x = np.arange(1, 21)\n",
        "plt.plot(x, times_IC)"
      ]
    },
    {
      "cell_type": "code",
      "execution_count": null,
      "metadata": {
        "colab": {
          "base_uri": "https://localhost:8080/"
        },
        "id": "pgpiDIe2ci5A",
        "outputId": "18426fc0-f022-4185-95da-9592084411ee"
      },
      "outputs": [
        {
          "name": "stdout",
          "output_type": "stream",
          "text": [
            "Greedy:  1  time:  45.92418146133423  new node:  Premises187\n",
            "Greedy:  2  time:  2417.8300099372864  new node:  SmashCM79\n",
            "Greedy:  3  time:  7062.58691573143  new node:  enrique_tarrio\n",
            "Greedy:  4  time:  12848.983585834503  new node:  Virgil_McMahon\n",
            "Greedy:  5  time:  19472.73256444931  new node:  principe_giovan\n",
            "Greedy:  6  time:  26672.268117189407  new node:  ProudBoysUS\n",
            "Greedy:  7  time:  34460.22046685219  new node:  UKProudBoys\n"
          ]
        }
      ],
      "source": [
        "max_nodes_DC, times_DC = Naive_Greedy(G, 20, 'DC', num_simulations=10)\n",
        "print(max_nodes_DC)\n",
        "print(times_DC)"
      ]
    },
    {
      "cell_type": "code",
      "execution_count": null,
      "metadata": {
        "id": "FF3lWg0fIJ3x"
      },
      "outputs": [],
      "source": [
        "max_nodes_DC = ['Premises187', 'SmashCM79', 'enrique_tarrio', 'Virgil_McMahon', 'principe_giovan', 'ProudBoysUS', 'UKProudBoys']\n",
        "times_DC = [45.92418146133423, 2417.8300099372864, 7062.58691573143, 12848.983585834503, 19472.73256444931,26672.268117189407, 34460.22046685219]"
      ]
    },
    {
      "cell_type": "code",
      "execution_count": null,
      "metadata": {
        "colab": {
          "base_uri": "https://localhost:8080/"
        },
        "id": "3nc0Lhlrci5A",
        "outputId": "fe21c83c-d912-4063-bd51-9974145895d8"
      },
      "outputs": [
        {
          "name": "stdout",
          "output_type": "stream",
          "text": [
            "Greedy:  1  time:  10.501221656799316\n",
            "Greedy:  2  time:  235.98831987380981\n",
            "Greedy:  3  time:  625.4327020645142\n",
            "Greedy:  4  time:  1132.241504907608\n",
            "Greedy:  5  time:  1809.7334263324738\n",
            "Greedy:  6  time:  2598.581643819809\n",
            "Greedy:  7  time:  3467.8672041893005\n",
            "Greedy:  8  time:  4406.797207117081\n",
            "Greedy:  9  time:  5355.24767780304\n",
            "Greedy:  10  time:  6342.11412024498\n",
            "Greedy:  11  time:  7458.015537261963\n",
            "Greedy:  12  time:  8603.017973661423\n",
            "Greedy:  13  time:  9797.863656759262\n",
            "Greedy:  14  time:  11074.132063627243\n",
            "Greedy:  15  time:  12310.55555319786\n",
            "Greedy:  16  time:  13591.142619132996\n",
            "Greedy:  17  time:  14951.905377626419\n",
            "Greedy:  18  time:  16330.707174301147\n",
            "Greedy:  19  time:  17719.568944215775\n",
            "Greedy:  20  time:  19143.71673488617\n",
            "['principe_giovan', 'Premises187', 'MoralDK', 'proudboy_', 'enrique_tarrio', 'GavinM_ProudBoy', 'proudboy2012', 'ProudBoysGBG', 'ProudBoysUS', 'ProudBoyzLondon', 'DetroitProudBoy', 'ColoradoPOYB', 'maver_michael', 'Father_Rhyme', 'PrismicTitan', 'LOLA_WTO_Brexit', 'BlackGoatWhite', 'drjosuemd', 'JoelleClosset', 'BEARDTRIBE']\n"
          ]
        }
      ],
      "source": [
        "max_nodes_WC, times_WC = Naive_Greedy(G, 20, 'WC', num_simulations=10)\n",
        "print(max_nodes_WC)"
      ]
    },
    {
      "cell_type": "code",
      "execution_count": null,
      "metadata": {
        "id": "MhnBZHo6Y0E4"
      },
      "outputs": [],
      "source": [
        "max_nodes_WC = ['principe_giovan', 'Premises187', 'MoralDK', 'proudboy_', 'enrique_tarrio', 'GavinM_ProudBoy', 'proudboy2012', 'ProudBoysGBG', 'ProudBoysUS', 'ProudBoyzLondon', 'DetroitProudBoy', 'ColoradoPOYB', 'maver_michael', 'Father_Rhyme', 'PrismicTitan', 'LOLA_WTO_Brexit', 'BlackGoatWhite', 'drjosuemd', 'JoelleClosset', 'BEARDTRIBE']\n",
        "times_WC [10.501221656799316, 235.98831987380981, 625.4327020645142, 1132.241504907608, 1809.7334263324738, 2598.581643819809, 3467.8672041893005, 4406.797207117081, 5355.24767780304, 6342.11412024498, \n",
        "          7458.015537261963, 8603.017973661423, 9797.863656759262, 11074.132063627243, 12310.55555319786, 13591.142619132996, 14951.905377626419, 16330.707174301147, 17719.568944215775, 19143.71673488617]"
      ]
    },
    {
      "cell_type": "code",
      "execution_count": null,
      "metadata": {
        "colab": {
          "base_uri": "https://localhost:8080/"
        },
        "id": "00P2sWPEci5A",
        "outputId": "78cedfbb-5a19-4001-f75e-5144c10f1d1c"
      },
      "outputs": [
        {
          "name": "stdout",
          "output_type": "stream",
          "text": [
            "Greedy:  1  time:  18.129921674728394\n",
            "Greedy:  2  time:  116.46895289421082\n",
            "Greedy:  3  time:  287.21111941337585\n",
            "Greedy:  4  time:  524.85125207901\n",
            "Greedy:  5  time:  832.4093346595764\n",
            "Greedy:  6  time:  1179.2758343219757\n",
            "Greedy:  7  time:  1560.4931123256683\n",
            "Greedy:  8  time:  1978.5172753334045\n",
            "Greedy:  9  time:  2432.163257598877\n",
            "Greedy:  10  time:  2921.079366207123\n",
            "Greedy:  11  time:  3449.5212614536285\n",
            "Greedy:  12  time:  4011.258317708969\n",
            "Greedy:  13  time:  4609.557200670242\n",
            "Greedy:  14  time:  5245.202206134796\n",
            "Greedy:  15  time:  5914.974735498428\n",
            "Greedy:  16  time:  6624.52285861969\n",
            "Greedy:  17  time:  7362.484108924866\n",
            "Greedy:  18  time:  8138.456142425537\n",
            "Greedy:  19  time:  8949.351233005524\n",
            "Greedy:  20  time:  9795.637311220169\n",
            "['principe_giovan', 'Premises187', 'MoralDK', 'proudboy_', 'PrestorJohnAR', 'M4CTweets', 'RallyPb', 'TheHarlster', 'RealBeardedMen', 'TumultuousDon', 'DeathsquadFarm', 'scouse_sammii', 'real_billdoor', 'Foxwaldo', 'OttoOttofrank', 'MeganTh27826133', 'DeathsquadSF', 'Brandnewkath', 'dzio2004', 'scottpainter123']\n",
            "[18.129921674728394, 116.46895289421082, 287.21111941337585, 524.85125207901, 832.4093346595764, 1179.2758343219757, 1560.4931123256683, 1978.5172753334045, 2432.163257598877, 2921.079366207123, 3449.5212614536285, 4011.258317708969, 4609.557200670242, 5245.202206134796, 5914.974735498428, 6624.52285861969, 7362.484108924866, 8138.456142425537, 8949.351233005524, 9795.637311220169]\n"
          ]
        }
      ],
      "source": [
        "max_nodes_TR, times_TR = Naive_Greedy(G, 20, 'TR', num_simulations=10)\n",
        "print(max_nodes_TR)\n",
        "print(times_TR)"
      ]
    },
    {
      "cell_type": "code",
      "execution_count": null,
      "metadata": {
        "id": "A8PxWRnAYt5V"
      },
      "outputs": [],
      "source": [
        "max_nodes_TR = ['principe_giovan', 'Premises187', 'MoralDK', 'proudboy_', 'PrestorJohnAR', 'M4CTweets', 'RallyPb', 'TheHarlster', 'RealBeardedMen', 'TumultuousDon', 'DeathsquadFarm', 'scouse_sammii', 'real_billdoor', 'Foxwaldo', 'OttoOttofrank', 'MeganTh27826133', 'DeathsquadSF', 'Brandnewkath', 'dzio2004', 'scottpainter123']\n",
        "times_TR = [18.129921674728394, 116.46895289421082, 287.21111941337585, 524.85125207901, 832.4093346595764, 1179.2758343219757, 1560.4931123256683, 1978.5172753334045, 2432.163257598877, 2921.079366207123, 3449.5212614536285, 4011.258317708969, 4609.557200670242, 5245.202206134796, 5914.974735498428, 6624.52285861969, 7362.484108924866, 8138.456142425537, 8949.351233005524, 9795.637311220169]"
      ]
    },
    {
      "cell_type": "code",
      "execution_count": null,
      "metadata": {
        "colab": {
          "base_uri": "https://localhost:8080/"
        },
        "id": "ib2NK0GhONBo",
        "outputId": "46c4ce6f-b53c-4c4f-cddd-b54455be9c91"
      },
      "outputs": [
        {
          "name": "stdout",
          "output_type": "stream",
          "text": [
            "Greedy:  1  time:  19.702130794525146  new node:  principe_giovan\n",
            "Greedy:  2  time:  1544.5256478786469  new node:  Premises187\n",
            "Greedy:  3  time:  4262.469393253326  new node:  MoralDK\n",
            "Greedy:  4  time:  7565.090893030167  new node:  proudboy_\n",
            "Greedy:  5  time:  11476.942583084106  new node:  enrique_tarrio\n",
            "Greedy:  6  time:  15757.525126934052  new node:  GavinM_ProudBoy\n",
            "Greedy:  7  time:  20229.2757062912  new node:  proudboy2012\n"
          ]
        }
      ],
      "source": [
        "max_nodes_LT, times_LT = Naive_Greedy(G, 20, 'LT')\n",
        "print(max_nodes_LT)\n",
        "print(times_LT)"
      ]
    },
    {
      "cell_type": "code",
      "execution_count": null,
      "metadata": {
        "id": "beyDLAU0w98b"
      },
      "outputs": [],
      "source": [
        "times_LT = [19.702130794525146, 1544.5256478786469, 4262.469393253326, 7565.090893030167, 11476.942583084106, 15757.525126934052, 20229.2757062912]\n",
        "max_nodes_LT = ['principe_giovan', 'Premises187', 'MoralDK', 'proudboy_', 'enrique_tarrio', 'GavinM_ProudBoy', 'proudboy2012']"
      ]
    },
    {
      "cell_type": "code",
      "execution_count": null,
      "metadata": {
        "colab": {
          "background_save": true,
          "base_uri": "https://localhost:8080/"
        },
        "id": "YGJibETYOMo6",
        "outputId": "c34c005e-5e75-4a1e-be74-6f4d44dda874"
      },
      "outputs": [
        {
          "name": "stdout",
          "output_type": "stream",
          "text": [
            "Greedy:  1  time:  24.321068286895752  new node:  principe_giovan\n",
            "Greedy:  2  time:  4938.9485912323  new node:  Premises187\n",
            "Greedy:  3  time:  12814.373059272766  new node:  MoralDK\n",
            "Greedy:  4  time:  22763.65157723427  new node:  proudboy_\n"
          ]
        }
      ],
      "source": [
        "max_nodes_GT, times_GT = Naive_Greedy(G, 20, 'GT')\n",
        "print(max_nodes_GT)\n",
        "print(times_GT)"
      ]
    },
    {
      "cell_type": "code",
      "execution_count": null,
      "metadata": {
        "id": "_QDzBb4r36mC"
      },
      "outputs": [],
      "source": [
        "max_nodes_GT = ['principe_giovan', 'Premises187', 'MoralDK', 'proudboy_']\n",
        "times_GT = [24.321068286895752, 4938.9485912323, 12814.373059272766, 22763.65157723427]"
      ]
    },
    {
      "cell_type": "code",
      "execution_count": null,
      "metadata": {
        "id": "GP26Eu9ee8nZ"
      },
      "outputs": [],
      "source": [
        "plt.fig(figsize=(12, 8))\n",
        "x = np.arange(1, 21)\n",
        "plt.plot(np.arange(1, len(times_IC)+1), times_IC, label = 'IC')\n",
        "plt.plot(np.arange(1, len(times_DC)+1), times_DC, label = 'DC')\n",
        "plt.plot(np.arange(1, len(times_WC)+1), times_WC, label = 'WC')\n",
        "plt.plot(np.arange(1, len(times_TR)+1), times_TR, label = 'TR')\n",
        "plt.plot(np.arange(1, len(times_LT)+1), times_LT, label = 'LT')\n",
        "plt.plot(np.arange(1, len(times_GT)+1), times_GT, label = 'GT')"
      ]
    }
  ],
  "metadata": {
    "colab": {
      "provenance": []
    },
    "kernelspec": {
      "display_name": "Python 3.9.13 ('base')",
      "language": "python",
      "name": "python3"
    },
    "language_info": {
      "codemirror_mode": {
        "name": "ipython",
        "version": 3
      },
      "file_extension": ".py",
      "mimetype": "text/x-python",
      "name": "python",
      "nbconvert_exporter": "python",
      "pygments_lexer": "ipython3",
      "version": "3.9.13 (main, Aug 25 2022, 23:51:50) [MSC v.1916 64 bit (AMD64)]"
    },
    "vscode": {
      "interpreter": {
        "hash": "88279d2366fe020547cde40dd65aa0e3aa662a6ec1f3ca12d88834876c85e1a6"
      }
    }
  },
  "nbformat": 4,
  "nbformat_minor": 0
}
