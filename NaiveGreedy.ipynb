{
 "cells": [
  {
   "cell_type": "code",
   "execution_count": 8,
   "metadata": {},
   "outputs": [],
   "source": [
    "import networkx as nx\n",
    "import pandas as pd\n",
    "import numpy as np\n",
    "import matplotlib.pyplot as plt\n",
    "from matplotlib import figure\n",
    "import random as rd\n",
    "import copy"
   ]
  },
  {
   "cell_type": "code",
   "execution_count": 3,
   "metadata": {},
   "outputs": [],
   "source": [
    "class Independent_Cascade():\n",
    "    def __init__(self):\n",
    "        self.g = nx.DiGraph()\n",
    "\n",
    "    def fit(self, g):\n",
    "        # fit graph with probability\n",
    "        out_degree = g.out_degree(weight='None')\n",
    "        max_out_degree = max(out_degree, key=lambda item:item[1])\n",
    "        for e in g.edges():\n",
    "            if(out_degree[e[0]] >= 10):\n",
    "                # g[e[0]][e[1]]['probability'] = 1 - out_degree[e[0]]/max_out_degree[1]\n",
    "                g[e[0]][e[1]]['probability'] = 1 / int(np.log(out_degree[e[0]]))\n",
    "            else:\n",
    "                g[e[0]][e[1]]['probability'] = 1\n",
    "        self.g = g\n",
    "        return g\n",
    "        \n",
    "    # diffusion to all possible nodes\n",
    "    def diffusion_all(self, seed_nodes):\n",
    "        activated_nodes = copy.deepcopy(seed_nodes)\n",
    "        old_activated_nodes = seed_nodes\n",
    "        activate_nums = [len(activated_nodes)]\n",
    "        while(True):\n",
    "            new_activated_nodes = []\n",
    "            for node in self.g.nodes():\n",
    "                if node in activated_nodes:\n",
    "                    continue\n",
    "                for neighbor in self.g.neighbors(node):\n",
    "                    if neighbor in old_activated_nodes and self.g[node][neighbor]['probability'] >= rd.random():\n",
    "                        new_activated_nodes.append(node)\n",
    "                        break\n",
    "            if len(new_activated_nodes) == 0:\n",
    "                break\n",
    "            old_activated_nodes = new_activated_nodes\n",
    "            activated_nodes.extend(new_activated_nodes)\n",
    "            activate_nums.append(len(new_activated_nodes))\n",
    "        return activated_nodes, activate_nums\n",
    "\n",
    "    # diffusion to max step\n",
    "    def diffusion_step(self, seed_nodes, max_step=1):\n",
    "        activated_nodes = copy.deepcopy(seed_nodes)\n",
    "        old_activated_nodes = seed_nodes\n",
    "        activate_nums = [len(activated_nodes)]\n",
    "        for _ in range(max_step):\n",
    "            new_activated_nodes = []\n",
    "            for node in self.g.nodes():\n",
    "                if node in activated_nodes:\n",
    "                    continue\n",
    "                for neighbor in self.g.neighbors(node):\n",
    "                    if neighbor in old_activated_nodes and self.g[node][neighbor]['probability'] >= rd.random():\n",
    "                        new_activated_nodes.append(node)\n",
    "                        break\n",
    "            if len(new_activated_nodes) == 0:\n",
    "                break\n",
    "            old_activated_nodes = new_activated_nodes\n",
    "            activated_nodes.extend(new_activated_nodes)\n",
    "            activate_nums.append(len(new_activated_nodes))\n",
    "        return activated_nodes, activate_nums"
   ]
  },
  {
   "cell_type": "code",
   "execution_count": 2,
   "metadata": {},
   "outputs": [],
   "source": [
    "class Decreasing_Cascade():\n",
    "    def __init__(self):\n",
    "        self.g = nx.DiGraph()\n",
    "\n",
    "    def fit(self, g):\n",
    "        # fit graph with probability\n",
    "        out_degree = g.out_degree(weight='None')\n",
    "        nx.set_node_attributes(g, 0, \"inform_times\")\n",
    "        for e in g.edges():\n",
    "            if(out_degree[e[0]] >= 10):\n",
    "                g[e[0]][e[1]]['probability'] = 1 / int(np.log(out_degree[e[0]]))\n",
    "            else:\n",
    "                g[e[0]][e[1]]['probability'] = 1\n",
    "        self.g = g\n",
    "        return g\n",
    "        \n",
    "    # diffusion to all possible nodes\n",
    "    def diffusion_all(self, seed_nodes):\n",
    "        activated_nodes = copy.deepcopy(seed_nodes)\n",
    "        old_activated_nodes = seed_nodes\n",
    "        activate_nums = [len(activated_nodes)]\n",
    "        # sum_out_degree = sum(j for i, j in self.g.out_degree(weight='None'))\n",
    "        max_out_degree = max(j for i, j in self.g.out_degree(weight='None'))\n",
    "        while(True):\n",
    "            new_activated_nodes = []\n",
    "            for node in self.g.nodes():\n",
    "                if node in activated_nodes:\n",
    "                    continue\n",
    "                for neighbor in self.g.neighbors(node):\n",
    "                    if neighbor in old_activated_nodes:\n",
    "                        if self.g[node][neighbor]['probability'] >= (rd.random() + self.g.nodes()[node]['inform_times'] / max_out_degree):\n",
    "                            new_activated_nodes.append(node)\n",
    "                            break\n",
    "                        self.g.nodes()[node]['inform_times'] += 1\n",
    "            if len(new_activated_nodes) == 0:\n",
    "                break\n",
    "            old_activated_nodes = new_activated_nodes\n",
    "            activated_nodes.extend(new_activated_nodes)\n",
    "            activate_nums.append(len(new_activated_nodes))\n",
    "        return activated_nodes, activate_nums\n",
    "\n",
    "    # diffusion to max step\n",
    "    def diffusion_step(self, seed_nodes, max_step=1):\n",
    "        activated_nodes = copy.deepcopy(seed_nodes)\n",
    "        old_activated_nodes = seed_nodes\n",
    "        activate_nums = [len(activated_nodes)]\n",
    "        max_out_degree = max(j for i, j in self.g.out_degree(weight='None'))\n",
    "        for _ in range(max_step):\n",
    "            new_activated_nodes = []\n",
    "            for node in self.g.nodes():\n",
    "                if node in activated_nodes:\n",
    "                    continue\n",
    "                for neighbor in self.g.neighbors(node):\n",
    "                    if neighbor in old_activated_nodes:\n",
    "                        if self.g[node][neighbor]['probability'] >= (rd.random() + self.g.nodes()[node]['inform_times'] / max_out_degree):\n",
    "                            new_activated_nodes.append(node)\n",
    "                            break\n",
    "                        self.g.nodes()[node]['inform_times'] += 1\n",
    "            if len(new_activated_nodes) == 0:\n",
    "                break\n",
    "            old_activated_nodes = new_activated_nodes\n",
    "            activated_nodes.extend(new_activated_nodes)\n",
    "            activate_nums.append(len(new_activated_nodes))\n",
    "        return activated_nodes, activate_nums"
   ]
  },
  {
   "cell_type": "code",
   "execution_count": 4,
   "metadata": {},
   "outputs": [],
   "source": [
    "def Naive_Greedy(g, k, model_type):\n",
    "    if(model_type == 'IC'):\n",
    "        model = Independent_Cascade()\n",
    "    elif(model_type == 'DC'):\n",
    "        model = Decreasing_Cascade()\n",
    "    model.fit(g)\n",
    "    max_nodes = []\n",
    "    for _ in range(k):\n",
    "        max_num = 0\n",
    "        for node in g.nodes() - set(max_nodes):\n",
    "            activated_nodes, activate_nums = model.diffusion_step([max_nodes, node], 1)\n",
    "            if(len(activate_nums) > 1 and activate_nums[1] > max_num):\n",
    "                max_num = activate_nums[1]\n",
    "                max_node = node\n",
    "        max_nodes.append(max_node)\n",
    "    return max_nodes"
   ]
  },
  {
   "cell_type": "code",
   "execution_count": 5,
   "metadata": {},
   "outputs": [],
   "source": [
    "G = nx.read_gml('PB2020.gml')"
   ]
  },
  {
   "cell_type": "code",
   "execution_count": 43,
   "metadata": {},
   "outputs": [
    {
     "name": "stdout",
     "output_type": "stream",
     "text": [
      "['principe_giovan', 'Premises187', 'MoralDK', 'proudboy_', 'enrique_tarrio', 'GavinM_ProudBoy', 'proudboy2012', 'ProudBoysGBG', 'ProudBoysUS', 'ProudBoyzLondon']\n"
     ]
    }
   ],
   "source": [
    "max_nodes = Naive_Greedy(G, 10, 'IC')\n",
    "print(max_nodes)"
   ]
  },
  {
   "cell_type": "code",
   "execution_count": 6,
   "metadata": {},
   "outputs": [
    {
     "name": "stdout",
     "output_type": "stream",
     "text": [
      "['principe_giovan', 'Premises187', 'MoralDK', 'proudboy_', 'enrique_tarrio', 'GavinM_ProudBoy', 'proudboy2012', 'ProudBoysGBG', 'ProudBoysUS', 'ProudBoyzLondon']\n"
     ]
    }
   ],
   "source": [
    "max_nodes = Naive_Greedy(G, 10, 'DC')\n",
    "print(max_nodes)"
   ]
  }
 ],
 "metadata": {
  "kernelspec": {
   "display_name": "Python 3.9.13 ('base')",
   "language": "python",
   "name": "python3"
  },
  "language_info": {
   "codemirror_mode": {
    "name": "ipython",
    "version": 3
   },
   "file_extension": ".py",
   "mimetype": "text/x-python",
   "name": "python",
   "nbconvert_exporter": "python",
   "pygments_lexer": "ipython3",
   "version": "3.9.13"
  },
  "orig_nbformat": 4,
  "vscode": {
   "interpreter": {
    "hash": "88279d2366fe020547cde40dd65aa0e3aa662a6ec1f3ca12d88834876c85e1a6"
   }
  }
 },
 "nbformat": 4,
 "nbformat_minor": 2
}
